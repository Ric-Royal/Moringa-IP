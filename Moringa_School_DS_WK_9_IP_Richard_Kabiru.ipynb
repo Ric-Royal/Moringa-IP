{
  "nbformat": 4,
  "nbformat_minor": 0,
  "metadata": {
    "colab": {
      "name": "Moringa_School_DS_WK_9_IP_Richard_Kabiru",
      "provenance": [],
      "collapsed_sections": [
        "iUNbvIvnT7ep",
        "OI3P3YnHUEBk",
        "j3397ctZmE6-",
        "FlBMxEDBUc9B",
        "rF2ABPsHUtbZ",
        "fp5dq0Na57qR",
        "MzlVAYhrviAW",
        "tfxMIU5_nLqb",
        "SrgxE6S4ZNpq",
        "XAVW-AvwoXGV",
        "xrmHVMVsVS--",
        "HPQviDmNtta8",
        "qjFHK1CKty7o",
        "HSsicSdvt4Zs"
      ],
      "include_colab_link": true
    },
    "kernelspec": {
      "name": "python3",
      "display_name": "Python 3"
    }
  },
  "cells": [
    {
      "cell_type": "markdown",
      "metadata": {
        "id": "view-in-github",
        "colab_type": "text"
      },
      "source": [
        "<a href=\"https://colab.research.google.com/github/Ric-Royal/Moringa-IP/blob/master/Moringa_School_DS_WK_9_IP_Richard_Kabiru.ipynb\" target=\"_parent\"><img src=\"https://colab.research.google.com/assets/colab-badge.svg\" alt=\"Open In Colab\"/></a>"
      ]
    },
    {
      "cell_type": "markdown",
      "metadata": {
        "id": "kLG2VTrnTvYL"
      },
      "source": [
        "## 1. Defining the Question"
      ]
    },
    {
      "cell_type": "markdown",
      "metadata": {
        "id": "XecOwPNorl2W"
      },
      "source": [
        "### a) Specifying the Question"
      ]
    },
    {
      "cell_type": "markdown",
      "metadata": {
        "id": "8l3-hBO6bODP"
      },
      "source": [
        " \n",
        "1.   Do the different independent variables determine if someone survived? \n",
        "2.  Do the the different factors assist in categorising the email as spam? "
      ]
    },
    {
      "cell_type": "markdown",
      "metadata": {
        "id": "J4wfHZwQrs-t"
      },
      "source": [
        "### b) Defining the Metric for Success"
      ]
    },
    {
      "cell_type": "markdown",
      "metadata": {
        "id": "33zqiSdVm9Bl"
      },
      "source": [
        "Model should have a minimum of 80% accuracy\n",
        "The model precision for the train dataset should be\n",
        "\n",
        "1.   Survived > 0.70\n",
        "2.   not survive > 0.70\n",
        "\n",
        "The model precision for the spam dataset should be\n",
        "\n",
        "\n",
        "1.   spam > 0.85\n",
        "2.   Not spam > 0.70\n",
        "\n"
      ]
    },
    {
      "cell_type": "markdown",
      "metadata": {
        "id": "a9BPYqunry97"
      },
      "source": [
        "### c) Understanding the context "
      ]
    },
    {
      "cell_type": "markdown",
      "metadata": {
        "id": "RfcF6eZCnFpC"
      },
      "source": [
        "The train dataset is from a passenger ship that had an accident. The different categories indicate the passenger class, their ticket number, cabin where they spent their time during the voyage and the names of the passengers. \n",
        "\n",
        "The other dataset contain details on information contained in the emails. It categorizes the emails into spam or not spamby using the number of letters, words, punctuation marks e.t.c."
      ]
    },
    {
      "cell_type": "markdown",
      "metadata": {
        "id": "7KMRBJ7zr9HD"
      },
      "source": [
        "### d) Recording the Experimental Design"
      ]
    },
    {
      "cell_type": "markdown",
      "metadata": {
        "id": "k_0U6uDgna8t"
      },
      "source": [
        "CRISP-DM methodology was used."
      ]
    },
    {
      "cell_type": "markdown",
      "metadata": {
        "id": "iUNbvIvnT7ep"
      },
      "source": [
        "## 2. Reading the Data"
      ]
    },
    {
      "cell_type": "code",
      "metadata": {
        "id": "mWutF-7SAT37"
      },
      "source": [
        "# Importing libraries\n",
        "#\n",
        "import pandas as pd\n",
        "import numpy as np\n",
        "import matplotlib.pyplot as plt\n",
        "import seaborn as sns\n",
        "\n",
        "#Import scikit-learn metrics module for accuracy calculation\n",
        "from sklearn import metrics\n",
        "from sklearn.model_selection import train_test_split"
      ],
      "execution_count": 180,
      "outputs": []
    },
    {
      "cell_type": "code",
      "metadata": {
        "id": "XJn2KjW-WMlG"
      },
      "source": [
        "# Loading the Dataset\n",
        "#\n",
        "train = pd.read_csv('train.csv')\n",
        "test = pd.read_csv('test.csv')\n",
        "columns = ['word_freq_make:', 'word_freq_address:', 'word_freq_all:', 'word_freq_3d:', 'word_freq_our:', 'word_freq_over:', 'word_freq_remove:', 'word_freq_internet:', 'word_freq_order:', 'word_freq_mail:', 'word_freq_receive:', 'word_freq_will:', 'word_freq_people:', 'word_freq_report:', 'word_freq_addresses:', 'word_freq_free:', 'word_freq_business:', 'word_freq_email:', 'word_freq_you:', 'word_freq_credit:', 'word_freq_your:', 'word_freq_font:', 'word_freq_000:' , 'word_freq_money:', 'word_freq_hp:', 'word_freq_hpl:', 'word_freq_george:', 'word_freq_650:', 'word_freq_lab:', 'word_freq_labs:', 'word_freq_telnet:', 'word_freq_857:', 'word_freq_data:', 'word_freq_415:', 'word_freq_85:', 'word_freq_technology:', 'word_freq_1999:', 'word_freq_parts:', 'word_freq_pm:', 'word_freq_direct:', 'word_freq_cs:', 'word_freq_meeting:', 'word_freq_original:', 'word_freq_project:', 'word_freq_re:', 'word_freq_edu:', 'word_freq_table:', 'word_freq_conference:', 'char_freq_;:', 'char_freq_(:', 'char_freq_[:', 'char_freq_!:', 'char_freq_$:', 'char_freq_#:', 'capital_run_length_average:', 'capital_run_length_longest:', 'capital_run_length_total:', 'spam']\n",
        "spam = pd.read_csv('https://archive.ics.uci.edu/ml/machine-learning-databases/spambase/spambase.data', names= columns, index_col= False)"
      ],
      "execution_count": 181,
      "outputs": []
    },
    {
      "cell_type": "code",
      "metadata": {
        "id": "skEKOMtYSddP"
      },
      "source": [
        "import zipfile\n",
        "archive = zipfile.ZipFile('spambase.zip', 'r')\n",
        "df = archive.read('spambase.names')"
      ],
      "execution_count": 182,
      "outputs": []
    },
    {
      "cell_type": "code",
      "metadata": {
        "colab": {
          "base_uri": "https://localhost:8080/"
        },
        "id": "-OUufnuLS7sh",
        "outputId": "61acba81-b7a6-434a-8a0d-94c367f3e370"
      },
      "source": [
        "df"
      ],
      "execution_count": 183,
      "outputs": [
        {
          "output_type": "execute_result",
          "data": {
            "text/plain": [
              "b'| SPAM E-MAIL DATABASE ATTRIBUTES (in .names format)\\r\\n|\\r\\n| 48 continuous real [0,100] attributes of type word_freq_WORD \\r\\n| = percentage of words in the e-mail that match WORD,\\r\\n| i.e. 100 * (number of times the WORD appears in the e-mail) / \\r\\n| total number of words in e-mail.  A \"word\" in this case is any \\r\\n| string of alphanumeric characters bounded by non-alphanumeric \\r\\n| characters or end-of-string.\\r\\n|\\r\\n| 6 continuous real [0,100] attributes of type char_freq_CHAR\\r\\n| = percentage of characters in the e-mail that match CHAR,\\r\\n| i.e. 100 * (number of CHAR occurences) / total characters in e-mail\\r\\n|\\r\\n| 1 continuous real [1,...] attribute of type capital_run_length_average\\r\\n| = average length of uninterrupted sequences of capital letters\\r\\n|\\r\\n| 1 continuous integer [1,...] attribute of type capital_run_length_longest\\r\\n| = length of longest uninterrupted sequence of capital letters\\r\\n|\\r\\n| 1 continuous integer [1,...] attribute of type capital_run_length_total\\r\\n| = sum of length of uninterrupted sequences of capital letters\\r\\n| = total number of capital letters in the e-mail\\r\\n|\\r\\n| 1 nominal {0,1} class attribute of type spam\\r\\n| = denotes whether the e-mail was considered spam (1) or not (0), \\r\\n| i.e. unsolicited commercial e-mail.  \\r\\n|\\r\\n| For more information, see file \\'spambase.DOCUMENTATION\\' at the\\r\\n| UCI Machine Learning Repository: http://www.ics.uci.edu/~mlearn/MLRepository.html\\r\\n\\r\\n\\r\\n1, 0.    | spam, non-spam classes\\r\\n\\r\\nword_freq_make:         continuous.\\r\\nword_freq_address:      continuous.\\r\\nword_freq_all:          continuous.\\r\\nword_freq_3d:           continuous.\\r\\nword_freq_our:          continuous.\\r\\nword_freq_over:         continuous.\\r\\nword_freq_remove:       continuous.\\r\\nword_freq_internet:     continuous.\\r\\nword_freq_order:        continuous.\\r\\nword_freq_mail:         continuous.\\r\\nword_freq_receive:      continuous.\\r\\nword_freq_will:         continuous.\\r\\nword_freq_people:       continuous.\\r\\nword_freq_report:       continuous.\\r\\nword_freq_addresses:    continuous.\\r\\nword_freq_free:         continuous.\\r\\nword_freq_business:     continuous.\\r\\nword_freq_email:        continuous.\\r\\nword_freq_you:          continuous.\\r\\nword_freq_credit:       continuous.\\r\\nword_freq_your:         continuous.\\r\\nword_freq_font:         continuous.\\r\\nword_freq_000:          continuous.\\r\\nword_freq_money:        continuous.\\r\\nword_freq_hp:           continuous.\\r\\nword_freq_hpl:          continuous.\\r\\nword_freq_george:       continuous.\\r\\nword_freq_650:          continuous.\\r\\nword_freq_lab:          continuous.\\r\\nword_freq_labs:         continuous.\\r\\nword_freq_telnet:       continuous.\\r\\nword_freq_857:          continuous.\\r\\nword_freq_data:         continuous.\\r\\nword_freq_415:          continuous.\\r\\nword_freq_85:           continuous.\\r\\nword_freq_technology:   continuous.\\r\\nword_freq_1999:         continuous.\\r\\nword_freq_parts:        continuous.\\r\\nword_freq_pm:           continuous.\\r\\nword_freq_direct:       continuous.\\r\\nword_freq_cs:           continuous.\\r\\nword_freq_meeting:      continuous.\\r\\nword_freq_original:     continuous.\\r\\nword_freq_project:      continuous.\\r\\nword_freq_re:           continuous.\\r\\nword_freq_edu:          continuous.\\r\\nword_freq_table:        continuous.\\r\\nword_freq_conference:   continuous.\\r\\nchar_freq_;:            continuous.\\r\\nchar_freq_(:            continuous.\\r\\nchar_freq_[:            continuous.\\r\\nchar_freq_!:            continuous.\\r\\nchar_freq_$:            continuous.\\r\\nchar_freq_#:            continuous.\\r\\ncapital_run_length_average: continuous.\\r\\ncapital_run_length_longest: continuous.\\r\\ncapital_run_length_total:   continuous.\\r\\n'"
            ]
          },
          "metadata": {
            "tags": []
          },
          "execution_count": 183
        }
      ]
    },
    {
      "cell_type": "code",
      "metadata": {
        "colab": {
          "base_uri": "https://localhost:8080/",
          "height": 0
        },
        "id": "-dSCdz15Zj41",
        "outputId": "0c09330d-115d-4f13-ef0c-cb26a5aefbf6"
      },
      "source": [
        "spam.head()"
      ],
      "execution_count": 184,
      "outputs": [
        {
          "output_type": "execute_result",
          "data": {
            "text/html": [
              "<div>\n",
              "<style scoped>\n",
              "    .dataframe tbody tr th:only-of-type {\n",
              "        vertical-align: middle;\n",
              "    }\n",
              "\n",
              "    .dataframe tbody tr th {\n",
              "        vertical-align: top;\n",
              "    }\n",
              "\n",
              "    .dataframe thead th {\n",
              "        text-align: right;\n",
              "    }\n",
              "</style>\n",
              "<table border=\"1\" class=\"dataframe\">\n",
              "  <thead>\n",
              "    <tr style=\"text-align: right;\">\n",
              "      <th></th>\n",
              "      <th>word_freq_make:</th>\n",
              "      <th>word_freq_address:</th>\n",
              "      <th>word_freq_all:</th>\n",
              "      <th>word_freq_3d:</th>\n",
              "      <th>word_freq_our:</th>\n",
              "      <th>word_freq_over:</th>\n",
              "      <th>word_freq_remove:</th>\n",
              "      <th>word_freq_internet:</th>\n",
              "      <th>word_freq_order:</th>\n",
              "      <th>word_freq_mail:</th>\n",
              "      <th>word_freq_receive:</th>\n",
              "      <th>word_freq_will:</th>\n",
              "      <th>word_freq_people:</th>\n",
              "      <th>word_freq_report:</th>\n",
              "      <th>word_freq_addresses:</th>\n",
              "      <th>word_freq_free:</th>\n",
              "      <th>word_freq_business:</th>\n",
              "      <th>word_freq_email:</th>\n",
              "      <th>word_freq_you:</th>\n",
              "      <th>word_freq_credit:</th>\n",
              "      <th>word_freq_your:</th>\n",
              "      <th>word_freq_font:</th>\n",
              "      <th>word_freq_000:</th>\n",
              "      <th>word_freq_money:</th>\n",
              "      <th>word_freq_hp:</th>\n",
              "      <th>word_freq_hpl:</th>\n",
              "      <th>word_freq_george:</th>\n",
              "      <th>word_freq_650:</th>\n",
              "      <th>word_freq_lab:</th>\n",
              "      <th>word_freq_labs:</th>\n",
              "      <th>word_freq_telnet:</th>\n",
              "      <th>word_freq_857:</th>\n",
              "      <th>word_freq_data:</th>\n",
              "      <th>word_freq_415:</th>\n",
              "      <th>word_freq_85:</th>\n",
              "      <th>word_freq_technology:</th>\n",
              "      <th>word_freq_1999:</th>\n",
              "      <th>word_freq_parts:</th>\n",
              "      <th>word_freq_pm:</th>\n",
              "      <th>word_freq_direct:</th>\n",
              "      <th>word_freq_cs:</th>\n",
              "      <th>word_freq_meeting:</th>\n",
              "      <th>word_freq_original:</th>\n",
              "      <th>word_freq_project:</th>\n",
              "      <th>word_freq_re:</th>\n",
              "      <th>word_freq_edu:</th>\n",
              "      <th>word_freq_table:</th>\n",
              "      <th>word_freq_conference:</th>\n",
              "      <th>char_freq_;:</th>\n",
              "      <th>char_freq_(:</th>\n",
              "      <th>char_freq_[:</th>\n",
              "      <th>char_freq_!:</th>\n",
              "      <th>char_freq_$:</th>\n",
              "      <th>char_freq_#:</th>\n",
              "      <th>capital_run_length_average:</th>\n",
              "      <th>capital_run_length_longest:</th>\n",
              "      <th>capital_run_length_total:</th>\n",
              "      <th>spam</th>\n",
              "    </tr>\n",
              "  </thead>\n",
              "  <tbody>\n",
              "    <tr>\n",
              "      <th>0</th>\n",
              "      <td>0.00</td>\n",
              "      <td>0.64</td>\n",
              "      <td>0.64</td>\n",
              "      <td>0.0</td>\n",
              "      <td>0.32</td>\n",
              "      <td>0.00</td>\n",
              "      <td>0.00</td>\n",
              "      <td>0.00</td>\n",
              "      <td>0.00</td>\n",
              "      <td>0.00</td>\n",
              "      <td>0.00</td>\n",
              "      <td>0.64</td>\n",
              "      <td>0.00</td>\n",
              "      <td>0.00</td>\n",
              "      <td>0.00</td>\n",
              "      <td>0.32</td>\n",
              "      <td>0.00</td>\n",
              "      <td>1.29</td>\n",
              "      <td>1.93</td>\n",
              "      <td>0.00</td>\n",
              "      <td>0.96</td>\n",
              "      <td>0.0</td>\n",
              "      <td>0.00</td>\n",
              "      <td>0.00</td>\n",
              "      <td>0.0</td>\n",
              "      <td>0.0</td>\n",
              "      <td>0.0</td>\n",
              "      <td>0.0</td>\n",
              "      <td>0.0</td>\n",
              "      <td>0.0</td>\n",
              "      <td>0.0</td>\n",
              "      <td>0.0</td>\n",
              "      <td>0.0</td>\n",
              "      <td>0.0</td>\n",
              "      <td>0.0</td>\n",
              "      <td>0.0</td>\n",
              "      <td>0.00</td>\n",
              "      <td>0.0</td>\n",
              "      <td>0.0</td>\n",
              "      <td>0.00</td>\n",
              "      <td>0.0</td>\n",
              "      <td>0.0</td>\n",
              "      <td>0.00</td>\n",
              "      <td>0.0</td>\n",
              "      <td>0.00</td>\n",
              "      <td>0.00</td>\n",
              "      <td>0.0</td>\n",
              "      <td>0.0</td>\n",
              "      <td>0.00</td>\n",
              "      <td>0.000</td>\n",
              "      <td>0.0</td>\n",
              "      <td>0.778</td>\n",
              "      <td>0.000</td>\n",
              "      <td>0.000</td>\n",
              "      <td>3.756</td>\n",
              "      <td>61</td>\n",
              "      <td>278</td>\n",
              "      <td>1</td>\n",
              "    </tr>\n",
              "    <tr>\n",
              "      <th>1</th>\n",
              "      <td>0.21</td>\n",
              "      <td>0.28</td>\n",
              "      <td>0.50</td>\n",
              "      <td>0.0</td>\n",
              "      <td>0.14</td>\n",
              "      <td>0.28</td>\n",
              "      <td>0.21</td>\n",
              "      <td>0.07</td>\n",
              "      <td>0.00</td>\n",
              "      <td>0.94</td>\n",
              "      <td>0.21</td>\n",
              "      <td>0.79</td>\n",
              "      <td>0.65</td>\n",
              "      <td>0.21</td>\n",
              "      <td>0.14</td>\n",
              "      <td>0.14</td>\n",
              "      <td>0.07</td>\n",
              "      <td>0.28</td>\n",
              "      <td>3.47</td>\n",
              "      <td>0.00</td>\n",
              "      <td>1.59</td>\n",
              "      <td>0.0</td>\n",
              "      <td>0.43</td>\n",
              "      <td>0.43</td>\n",
              "      <td>0.0</td>\n",
              "      <td>0.0</td>\n",
              "      <td>0.0</td>\n",
              "      <td>0.0</td>\n",
              "      <td>0.0</td>\n",
              "      <td>0.0</td>\n",
              "      <td>0.0</td>\n",
              "      <td>0.0</td>\n",
              "      <td>0.0</td>\n",
              "      <td>0.0</td>\n",
              "      <td>0.0</td>\n",
              "      <td>0.0</td>\n",
              "      <td>0.07</td>\n",
              "      <td>0.0</td>\n",
              "      <td>0.0</td>\n",
              "      <td>0.00</td>\n",
              "      <td>0.0</td>\n",
              "      <td>0.0</td>\n",
              "      <td>0.00</td>\n",
              "      <td>0.0</td>\n",
              "      <td>0.00</td>\n",
              "      <td>0.00</td>\n",
              "      <td>0.0</td>\n",
              "      <td>0.0</td>\n",
              "      <td>0.00</td>\n",
              "      <td>0.132</td>\n",
              "      <td>0.0</td>\n",
              "      <td>0.372</td>\n",
              "      <td>0.180</td>\n",
              "      <td>0.048</td>\n",
              "      <td>5.114</td>\n",
              "      <td>101</td>\n",
              "      <td>1028</td>\n",
              "      <td>1</td>\n",
              "    </tr>\n",
              "    <tr>\n",
              "      <th>2</th>\n",
              "      <td>0.06</td>\n",
              "      <td>0.00</td>\n",
              "      <td>0.71</td>\n",
              "      <td>0.0</td>\n",
              "      <td>1.23</td>\n",
              "      <td>0.19</td>\n",
              "      <td>0.19</td>\n",
              "      <td>0.12</td>\n",
              "      <td>0.64</td>\n",
              "      <td>0.25</td>\n",
              "      <td>0.38</td>\n",
              "      <td>0.45</td>\n",
              "      <td>0.12</td>\n",
              "      <td>0.00</td>\n",
              "      <td>1.75</td>\n",
              "      <td>0.06</td>\n",
              "      <td>0.06</td>\n",
              "      <td>1.03</td>\n",
              "      <td>1.36</td>\n",
              "      <td>0.32</td>\n",
              "      <td>0.51</td>\n",
              "      <td>0.0</td>\n",
              "      <td>1.16</td>\n",
              "      <td>0.06</td>\n",
              "      <td>0.0</td>\n",
              "      <td>0.0</td>\n",
              "      <td>0.0</td>\n",
              "      <td>0.0</td>\n",
              "      <td>0.0</td>\n",
              "      <td>0.0</td>\n",
              "      <td>0.0</td>\n",
              "      <td>0.0</td>\n",
              "      <td>0.0</td>\n",
              "      <td>0.0</td>\n",
              "      <td>0.0</td>\n",
              "      <td>0.0</td>\n",
              "      <td>0.00</td>\n",
              "      <td>0.0</td>\n",
              "      <td>0.0</td>\n",
              "      <td>0.06</td>\n",
              "      <td>0.0</td>\n",
              "      <td>0.0</td>\n",
              "      <td>0.12</td>\n",
              "      <td>0.0</td>\n",
              "      <td>0.06</td>\n",
              "      <td>0.06</td>\n",
              "      <td>0.0</td>\n",
              "      <td>0.0</td>\n",
              "      <td>0.01</td>\n",
              "      <td>0.143</td>\n",
              "      <td>0.0</td>\n",
              "      <td>0.276</td>\n",
              "      <td>0.184</td>\n",
              "      <td>0.010</td>\n",
              "      <td>9.821</td>\n",
              "      <td>485</td>\n",
              "      <td>2259</td>\n",
              "      <td>1</td>\n",
              "    </tr>\n",
              "    <tr>\n",
              "      <th>3</th>\n",
              "      <td>0.00</td>\n",
              "      <td>0.00</td>\n",
              "      <td>0.00</td>\n",
              "      <td>0.0</td>\n",
              "      <td>0.63</td>\n",
              "      <td>0.00</td>\n",
              "      <td>0.31</td>\n",
              "      <td>0.63</td>\n",
              "      <td>0.31</td>\n",
              "      <td>0.63</td>\n",
              "      <td>0.31</td>\n",
              "      <td>0.31</td>\n",
              "      <td>0.31</td>\n",
              "      <td>0.00</td>\n",
              "      <td>0.00</td>\n",
              "      <td>0.31</td>\n",
              "      <td>0.00</td>\n",
              "      <td>0.00</td>\n",
              "      <td>3.18</td>\n",
              "      <td>0.00</td>\n",
              "      <td>0.31</td>\n",
              "      <td>0.0</td>\n",
              "      <td>0.00</td>\n",
              "      <td>0.00</td>\n",
              "      <td>0.0</td>\n",
              "      <td>0.0</td>\n",
              "      <td>0.0</td>\n",
              "      <td>0.0</td>\n",
              "      <td>0.0</td>\n",
              "      <td>0.0</td>\n",
              "      <td>0.0</td>\n",
              "      <td>0.0</td>\n",
              "      <td>0.0</td>\n",
              "      <td>0.0</td>\n",
              "      <td>0.0</td>\n",
              "      <td>0.0</td>\n",
              "      <td>0.00</td>\n",
              "      <td>0.0</td>\n",
              "      <td>0.0</td>\n",
              "      <td>0.00</td>\n",
              "      <td>0.0</td>\n",
              "      <td>0.0</td>\n",
              "      <td>0.00</td>\n",
              "      <td>0.0</td>\n",
              "      <td>0.00</td>\n",
              "      <td>0.00</td>\n",
              "      <td>0.0</td>\n",
              "      <td>0.0</td>\n",
              "      <td>0.00</td>\n",
              "      <td>0.137</td>\n",
              "      <td>0.0</td>\n",
              "      <td>0.137</td>\n",
              "      <td>0.000</td>\n",
              "      <td>0.000</td>\n",
              "      <td>3.537</td>\n",
              "      <td>40</td>\n",
              "      <td>191</td>\n",
              "      <td>1</td>\n",
              "    </tr>\n",
              "    <tr>\n",
              "      <th>4</th>\n",
              "      <td>0.00</td>\n",
              "      <td>0.00</td>\n",
              "      <td>0.00</td>\n",
              "      <td>0.0</td>\n",
              "      <td>0.63</td>\n",
              "      <td>0.00</td>\n",
              "      <td>0.31</td>\n",
              "      <td>0.63</td>\n",
              "      <td>0.31</td>\n",
              "      <td>0.63</td>\n",
              "      <td>0.31</td>\n",
              "      <td>0.31</td>\n",
              "      <td>0.31</td>\n",
              "      <td>0.00</td>\n",
              "      <td>0.00</td>\n",
              "      <td>0.31</td>\n",
              "      <td>0.00</td>\n",
              "      <td>0.00</td>\n",
              "      <td>3.18</td>\n",
              "      <td>0.00</td>\n",
              "      <td>0.31</td>\n",
              "      <td>0.0</td>\n",
              "      <td>0.00</td>\n",
              "      <td>0.00</td>\n",
              "      <td>0.0</td>\n",
              "      <td>0.0</td>\n",
              "      <td>0.0</td>\n",
              "      <td>0.0</td>\n",
              "      <td>0.0</td>\n",
              "      <td>0.0</td>\n",
              "      <td>0.0</td>\n",
              "      <td>0.0</td>\n",
              "      <td>0.0</td>\n",
              "      <td>0.0</td>\n",
              "      <td>0.0</td>\n",
              "      <td>0.0</td>\n",
              "      <td>0.00</td>\n",
              "      <td>0.0</td>\n",
              "      <td>0.0</td>\n",
              "      <td>0.00</td>\n",
              "      <td>0.0</td>\n",
              "      <td>0.0</td>\n",
              "      <td>0.00</td>\n",
              "      <td>0.0</td>\n",
              "      <td>0.00</td>\n",
              "      <td>0.00</td>\n",
              "      <td>0.0</td>\n",
              "      <td>0.0</td>\n",
              "      <td>0.00</td>\n",
              "      <td>0.135</td>\n",
              "      <td>0.0</td>\n",
              "      <td>0.135</td>\n",
              "      <td>0.000</td>\n",
              "      <td>0.000</td>\n",
              "      <td>3.537</td>\n",
              "      <td>40</td>\n",
              "      <td>191</td>\n",
              "      <td>1</td>\n",
              "    </tr>\n",
              "  </tbody>\n",
              "</table>\n",
              "</div>"
            ],
            "text/plain": [
              "   word_freq_make:  word_freq_address:  ...  capital_run_length_total:  spam\n",
              "0             0.00                0.64  ...                        278     1\n",
              "1             0.21                0.28  ...                       1028     1\n",
              "2             0.06                0.00  ...                       2259     1\n",
              "3             0.00                0.00  ...                        191     1\n",
              "4             0.00                0.00  ...                        191     1\n",
              "\n",
              "[5 rows x 58 columns]"
            ]
          },
          "metadata": {
            "tags": []
          },
          "execution_count": 184
        }
      ]
    },
    {
      "cell_type": "markdown",
      "metadata": {
        "id": "OI3P3YnHUEBk"
      },
      "source": [
        "## 3. Checking the Data"
      ]
    },
    {
      "cell_type": "code",
      "metadata": {
        "id": "YjSVNwgptHxY",
        "colab": {
          "base_uri": "https://localhost:8080/"
        },
        "outputId": "05eda5db-8f06-4832-8c06-2b8bc54f4c87"
      },
      "source": [
        "# Determining the no. of records in the dataset\n",
        "#\n",
        "train.shape"
      ],
      "execution_count": 185,
      "outputs": [
        {
          "output_type": "execute_result",
          "data": {
            "text/plain": [
              "(891, 12)"
            ]
          },
          "metadata": {
            "tags": []
          },
          "execution_count": 185
        }
      ]
    },
    {
      "cell_type": "code",
      "metadata": {
        "colab": {
          "base_uri": "https://localhost:8080/"
        },
        "id": "vd-pgMdQy-4d",
        "outputId": "bd1eb758-0bfd-420d-dab7-6d7b680fac74"
      },
      "source": [
        "# Determining the no. of records in the dataset\n",
        "#\n",
        "test.shape"
      ],
      "execution_count": 186,
      "outputs": [
        {
          "output_type": "execute_result",
          "data": {
            "text/plain": [
              "(418, 11)"
            ]
          },
          "metadata": {
            "tags": []
          },
          "execution_count": 186
        }
      ]
    },
    {
      "cell_type": "code",
      "metadata": {
        "colab": {
          "base_uri": "https://localhost:8080/"
        },
        "id": "8k-SQny6zDJN",
        "outputId": "342c5643-eb35-4d63-b4e5-761a1e8484be"
      },
      "source": [
        "# Determining the no. of records in the dataset\n",
        "#\n",
        "spam.shape"
      ],
      "execution_count": 187,
      "outputs": [
        {
          "output_type": "execute_result",
          "data": {
            "text/plain": [
              "(4601, 58)"
            ]
          },
          "metadata": {
            "tags": []
          },
          "execution_count": 187
        }
      ]
    },
    {
      "cell_type": "code",
      "metadata": {
        "id": "xHhTw5eKWr0n",
        "colab": {
          "base_uri": "https://localhost:8080/",
          "height": 0
        },
        "outputId": "de32261f-827e-4500-9352-270418cf0848"
      },
      "source": [
        "# Previewing the top of the dataset\n",
        "#\n",
        "train.head()"
      ],
      "execution_count": 188,
      "outputs": [
        {
          "output_type": "execute_result",
          "data": {
            "text/html": [
              "<div>\n",
              "<style scoped>\n",
              "    .dataframe tbody tr th:only-of-type {\n",
              "        vertical-align: middle;\n",
              "    }\n",
              "\n",
              "    .dataframe tbody tr th {\n",
              "        vertical-align: top;\n",
              "    }\n",
              "\n",
              "    .dataframe thead th {\n",
              "        text-align: right;\n",
              "    }\n",
              "</style>\n",
              "<table border=\"1\" class=\"dataframe\">\n",
              "  <thead>\n",
              "    <tr style=\"text-align: right;\">\n",
              "      <th></th>\n",
              "      <th>PassengerId</th>\n",
              "      <th>Survived</th>\n",
              "      <th>Pclass</th>\n",
              "      <th>Name</th>\n",
              "      <th>Sex</th>\n",
              "      <th>Age</th>\n",
              "      <th>SibSp</th>\n",
              "      <th>Parch</th>\n",
              "      <th>Ticket</th>\n",
              "      <th>Fare</th>\n",
              "      <th>Cabin</th>\n",
              "      <th>Embarked</th>\n",
              "    </tr>\n",
              "  </thead>\n",
              "  <tbody>\n",
              "    <tr>\n",
              "      <th>0</th>\n",
              "      <td>1</td>\n",
              "      <td>0</td>\n",
              "      <td>3</td>\n",
              "      <td>Braund, Mr. Owen Harris</td>\n",
              "      <td>male</td>\n",
              "      <td>22.0</td>\n",
              "      <td>1</td>\n",
              "      <td>0</td>\n",
              "      <td>A/5 21171</td>\n",
              "      <td>7.2500</td>\n",
              "      <td>NaN</td>\n",
              "      <td>S</td>\n",
              "    </tr>\n",
              "    <tr>\n",
              "      <th>1</th>\n",
              "      <td>2</td>\n",
              "      <td>1</td>\n",
              "      <td>1</td>\n",
              "      <td>Cumings, Mrs. John Bradley (Florence Briggs Th...</td>\n",
              "      <td>female</td>\n",
              "      <td>38.0</td>\n",
              "      <td>1</td>\n",
              "      <td>0</td>\n",
              "      <td>PC 17599</td>\n",
              "      <td>71.2833</td>\n",
              "      <td>C85</td>\n",
              "      <td>C</td>\n",
              "    </tr>\n",
              "    <tr>\n",
              "      <th>2</th>\n",
              "      <td>3</td>\n",
              "      <td>1</td>\n",
              "      <td>3</td>\n",
              "      <td>Heikkinen, Miss. Laina</td>\n",
              "      <td>female</td>\n",
              "      <td>26.0</td>\n",
              "      <td>0</td>\n",
              "      <td>0</td>\n",
              "      <td>STON/O2. 3101282</td>\n",
              "      <td>7.9250</td>\n",
              "      <td>NaN</td>\n",
              "      <td>S</td>\n",
              "    </tr>\n",
              "    <tr>\n",
              "      <th>3</th>\n",
              "      <td>4</td>\n",
              "      <td>1</td>\n",
              "      <td>1</td>\n",
              "      <td>Futrelle, Mrs. Jacques Heath (Lily May Peel)</td>\n",
              "      <td>female</td>\n",
              "      <td>35.0</td>\n",
              "      <td>1</td>\n",
              "      <td>0</td>\n",
              "      <td>113803</td>\n",
              "      <td>53.1000</td>\n",
              "      <td>C123</td>\n",
              "      <td>S</td>\n",
              "    </tr>\n",
              "    <tr>\n",
              "      <th>4</th>\n",
              "      <td>5</td>\n",
              "      <td>0</td>\n",
              "      <td>3</td>\n",
              "      <td>Allen, Mr. William Henry</td>\n",
              "      <td>male</td>\n",
              "      <td>35.0</td>\n",
              "      <td>0</td>\n",
              "      <td>0</td>\n",
              "      <td>373450</td>\n",
              "      <td>8.0500</td>\n",
              "      <td>NaN</td>\n",
              "      <td>S</td>\n",
              "    </tr>\n",
              "  </tbody>\n",
              "</table>\n",
              "</div>"
            ],
            "text/plain": [
              "   PassengerId  Survived  Pclass  ...     Fare Cabin  Embarked\n",
              "0            1         0       3  ...   7.2500   NaN         S\n",
              "1            2         1       1  ...  71.2833   C85         C\n",
              "2            3         1       3  ...   7.9250   NaN         S\n",
              "3            4         1       1  ...  53.1000  C123         S\n",
              "4            5         0       3  ...   8.0500   NaN         S\n",
              "\n",
              "[5 rows x 12 columns]"
            ]
          },
          "metadata": {
            "tags": []
          },
          "execution_count": 188
        }
      ]
    },
    {
      "cell_type": "code",
      "metadata": {
        "colab": {
          "base_uri": "https://localhost:8080/",
          "height": 0
        },
        "id": "11o3gLPwzMs6",
        "outputId": "a7ced9ac-9699-46d5-9646-38e670538bba"
      },
      "source": [
        "# Previewing the top of the dataset\n",
        "#\n",
        "test.head()"
      ],
      "execution_count": 189,
      "outputs": [
        {
          "output_type": "execute_result",
          "data": {
            "text/html": [
              "<div>\n",
              "<style scoped>\n",
              "    .dataframe tbody tr th:only-of-type {\n",
              "        vertical-align: middle;\n",
              "    }\n",
              "\n",
              "    .dataframe tbody tr th {\n",
              "        vertical-align: top;\n",
              "    }\n",
              "\n",
              "    .dataframe thead th {\n",
              "        text-align: right;\n",
              "    }\n",
              "</style>\n",
              "<table border=\"1\" class=\"dataframe\">\n",
              "  <thead>\n",
              "    <tr style=\"text-align: right;\">\n",
              "      <th></th>\n",
              "      <th>PassengerId</th>\n",
              "      <th>Pclass</th>\n",
              "      <th>Name</th>\n",
              "      <th>Sex</th>\n",
              "      <th>Age</th>\n",
              "      <th>SibSp</th>\n",
              "      <th>Parch</th>\n",
              "      <th>Ticket</th>\n",
              "      <th>Fare</th>\n",
              "      <th>Cabin</th>\n",
              "      <th>Embarked</th>\n",
              "    </tr>\n",
              "  </thead>\n",
              "  <tbody>\n",
              "    <tr>\n",
              "      <th>0</th>\n",
              "      <td>892</td>\n",
              "      <td>3</td>\n",
              "      <td>Kelly, Mr. James</td>\n",
              "      <td>male</td>\n",
              "      <td>34.5</td>\n",
              "      <td>0</td>\n",
              "      <td>0</td>\n",
              "      <td>330911</td>\n",
              "      <td>7.8292</td>\n",
              "      <td>NaN</td>\n",
              "      <td>Q</td>\n",
              "    </tr>\n",
              "    <tr>\n",
              "      <th>1</th>\n",
              "      <td>893</td>\n",
              "      <td>3</td>\n",
              "      <td>Wilkes, Mrs. James (Ellen Needs)</td>\n",
              "      <td>female</td>\n",
              "      <td>47.0</td>\n",
              "      <td>1</td>\n",
              "      <td>0</td>\n",
              "      <td>363272</td>\n",
              "      <td>7.0000</td>\n",
              "      <td>NaN</td>\n",
              "      <td>S</td>\n",
              "    </tr>\n",
              "    <tr>\n",
              "      <th>2</th>\n",
              "      <td>894</td>\n",
              "      <td>2</td>\n",
              "      <td>Myles, Mr. Thomas Francis</td>\n",
              "      <td>male</td>\n",
              "      <td>62.0</td>\n",
              "      <td>0</td>\n",
              "      <td>0</td>\n",
              "      <td>240276</td>\n",
              "      <td>9.6875</td>\n",
              "      <td>NaN</td>\n",
              "      <td>Q</td>\n",
              "    </tr>\n",
              "    <tr>\n",
              "      <th>3</th>\n",
              "      <td>895</td>\n",
              "      <td>3</td>\n",
              "      <td>Wirz, Mr. Albert</td>\n",
              "      <td>male</td>\n",
              "      <td>27.0</td>\n",
              "      <td>0</td>\n",
              "      <td>0</td>\n",
              "      <td>315154</td>\n",
              "      <td>8.6625</td>\n",
              "      <td>NaN</td>\n",
              "      <td>S</td>\n",
              "    </tr>\n",
              "    <tr>\n",
              "      <th>4</th>\n",
              "      <td>896</td>\n",
              "      <td>3</td>\n",
              "      <td>Hirvonen, Mrs. Alexander (Helga E Lindqvist)</td>\n",
              "      <td>female</td>\n",
              "      <td>22.0</td>\n",
              "      <td>1</td>\n",
              "      <td>1</td>\n",
              "      <td>3101298</td>\n",
              "      <td>12.2875</td>\n",
              "      <td>NaN</td>\n",
              "      <td>S</td>\n",
              "    </tr>\n",
              "  </tbody>\n",
              "</table>\n",
              "</div>"
            ],
            "text/plain": [
              "   PassengerId  Pclass  ... Cabin Embarked\n",
              "0          892       3  ...   NaN        Q\n",
              "1          893       3  ...   NaN        S\n",
              "2          894       2  ...   NaN        Q\n",
              "3          895       3  ...   NaN        S\n",
              "4          896       3  ...   NaN        S\n",
              "\n",
              "[5 rows x 11 columns]"
            ]
          },
          "metadata": {
            "tags": []
          },
          "execution_count": 189
        }
      ]
    },
    {
      "cell_type": "code",
      "metadata": {
        "colab": {
          "base_uri": "https://localhost:8080/",
          "height": 0
        },
        "id": "yWOgjIiSzP2R",
        "outputId": "9d152c0c-e2bb-4378-932f-8bb6c4c93d85"
      },
      "source": [
        "# Previewing the top of the dataset\n",
        "#\n",
        "spam.head()"
      ],
      "execution_count": 190,
      "outputs": [
        {
          "output_type": "execute_result",
          "data": {
            "text/html": [
              "<div>\n",
              "<style scoped>\n",
              "    .dataframe tbody tr th:only-of-type {\n",
              "        vertical-align: middle;\n",
              "    }\n",
              "\n",
              "    .dataframe tbody tr th {\n",
              "        vertical-align: top;\n",
              "    }\n",
              "\n",
              "    .dataframe thead th {\n",
              "        text-align: right;\n",
              "    }\n",
              "</style>\n",
              "<table border=\"1\" class=\"dataframe\">\n",
              "  <thead>\n",
              "    <tr style=\"text-align: right;\">\n",
              "      <th></th>\n",
              "      <th>word_freq_make:</th>\n",
              "      <th>word_freq_address:</th>\n",
              "      <th>word_freq_all:</th>\n",
              "      <th>word_freq_3d:</th>\n",
              "      <th>word_freq_our:</th>\n",
              "      <th>word_freq_over:</th>\n",
              "      <th>word_freq_remove:</th>\n",
              "      <th>word_freq_internet:</th>\n",
              "      <th>word_freq_order:</th>\n",
              "      <th>word_freq_mail:</th>\n",
              "      <th>word_freq_receive:</th>\n",
              "      <th>word_freq_will:</th>\n",
              "      <th>word_freq_people:</th>\n",
              "      <th>word_freq_report:</th>\n",
              "      <th>word_freq_addresses:</th>\n",
              "      <th>word_freq_free:</th>\n",
              "      <th>word_freq_business:</th>\n",
              "      <th>word_freq_email:</th>\n",
              "      <th>word_freq_you:</th>\n",
              "      <th>word_freq_credit:</th>\n",
              "      <th>word_freq_your:</th>\n",
              "      <th>word_freq_font:</th>\n",
              "      <th>word_freq_000:</th>\n",
              "      <th>word_freq_money:</th>\n",
              "      <th>word_freq_hp:</th>\n",
              "      <th>word_freq_hpl:</th>\n",
              "      <th>word_freq_george:</th>\n",
              "      <th>word_freq_650:</th>\n",
              "      <th>word_freq_lab:</th>\n",
              "      <th>word_freq_labs:</th>\n",
              "      <th>word_freq_telnet:</th>\n",
              "      <th>word_freq_857:</th>\n",
              "      <th>word_freq_data:</th>\n",
              "      <th>word_freq_415:</th>\n",
              "      <th>word_freq_85:</th>\n",
              "      <th>word_freq_technology:</th>\n",
              "      <th>word_freq_1999:</th>\n",
              "      <th>word_freq_parts:</th>\n",
              "      <th>word_freq_pm:</th>\n",
              "      <th>word_freq_direct:</th>\n",
              "      <th>word_freq_cs:</th>\n",
              "      <th>word_freq_meeting:</th>\n",
              "      <th>word_freq_original:</th>\n",
              "      <th>word_freq_project:</th>\n",
              "      <th>word_freq_re:</th>\n",
              "      <th>word_freq_edu:</th>\n",
              "      <th>word_freq_table:</th>\n",
              "      <th>word_freq_conference:</th>\n",
              "      <th>char_freq_;:</th>\n",
              "      <th>char_freq_(:</th>\n",
              "      <th>char_freq_[:</th>\n",
              "      <th>char_freq_!:</th>\n",
              "      <th>char_freq_$:</th>\n",
              "      <th>char_freq_#:</th>\n",
              "      <th>capital_run_length_average:</th>\n",
              "      <th>capital_run_length_longest:</th>\n",
              "      <th>capital_run_length_total:</th>\n",
              "      <th>spam</th>\n",
              "    </tr>\n",
              "  </thead>\n",
              "  <tbody>\n",
              "    <tr>\n",
              "      <th>0</th>\n",
              "      <td>0.00</td>\n",
              "      <td>0.64</td>\n",
              "      <td>0.64</td>\n",
              "      <td>0.0</td>\n",
              "      <td>0.32</td>\n",
              "      <td>0.00</td>\n",
              "      <td>0.00</td>\n",
              "      <td>0.00</td>\n",
              "      <td>0.00</td>\n",
              "      <td>0.00</td>\n",
              "      <td>0.00</td>\n",
              "      <td>0.64</td>\n",
              "      <td>0.00</td>\n",
              "      <td>0.00</td>\n",
              "      <td>0.00</td>\n",
              "      <td>0.32</td>\n",
              "      <td>0.00</td>\n",
              "      <td>1.29</td>\n",
              "      <td>1.93</td>\n",
              "      <td>0.00</td>\n",
              "      <td>0.96</td>\n",
              "      <td>0.0</td>\n",
              "      <td>0.00</td>\n",
              "      <td>0.00</td>\n",
              "      <td>0.0</td>\n",
              "      <td>0.0</td>\n",
              "      <td>0.0</td>\n",
              "      <td>0.0</td>\n",
              "      <td>0.0</td>\n",
              "      <td>0.0</td>\n",
              "      <td>0.0</td>\n",
              "      <td>0.0</td>\n",
              "      <td>0.0</td>\n",
              "      <td>0.0</td>\n",
              "      <td>0.0</td>\n",
              "      <td>0.0</td>\n",
              "      <td>0.00</td>\n",
              "      <td>0.0</td>\n",
              "      <td>0.0</td>\n",
              "      <td>0.00</td>\n",
              "      <td>0.0</td>\n",
              "      <td>0.0</td>\n",
              "      <td>0.00</td>\n",
              "      <td>0.0</td>\n",
              "      <td>0.00</td>\n",
              "      <td>0.00</td>\n",
              "      <td>0.0</td>\n",
              "      <td>0.0</td>\n",
              "      <td>0.00</td>\n",
              "      <td>0.000</td>\n",
              "      <td>0.0</td>\n",
              "      <td>0.778</td>\n",
              "      <td>0.000</td>\n",
              "      <td>0.000</td>\n",
              "      <td>3.756</td>\n",
              "      <td>61</td>\n",
              "      <td>278</td>\n",
              "      <td>1</td>\n",
              "    </tr>\n",
              "    <tr>\n",
              "      <th>1</th>\n",
              "      <td>0.21</td>\n",
              "      <td>0.28</td>\n",
              "      <td>0.50</td>\n",
              "      <td>0.0</td>\n",
              "      <td>0.14</td>\n",
              "      <td>0.28</td>\n",
              "      <td>0.21</td>\n",
              "      <td>0.07</td>\n",
              "      <td>0.00</td>\n",
              "      <td>0.94</td>\n",
              "      <td>0.21</td>\n",
              "      <td>0.79</td>\n",
              "      <td>0.65</td>\n",
              "      <td>0.21</td>\n",
              "      <td>0.14</td>\n",
              "      <td>0.14</td>\n",
              "      <td>0.07</td>\n",
              "      <td>0.28</td>\n",
              "      <td>3.47</td>\n",
              "      <td>0.00</td>\n",
              "      <td>1.59</td>\n",
              "      <td>0.0</td>\n",
              "      <td>0.43</td>\n",
              "      <td>0.43</td>\n",
              "      <td>0.0</td>\n",
              "      <td>0.0</td>\n",
              "      <td>0.0</td>\n",
              "      <td>0.0</td>\n",
              "      <td>0.0</td>\n",
              "      <td>0.0</td>\n",
              "      <td>0.0</td>\n",
              "      <td>0.0</td>\n",
              "      <td>0.0</td>\n",
              "      <td>0.0</td>\n",
              "      <td>0.0</td>\n",
              "      <td>0.0</td>\n",
              "      <td>0.07</td>\n",
              "      <td>0.0</td>\n",
              "      <td>0.0</td>\n",
              "      <td>0.00</td>\n",
              "      <td>0.0</td>\n",
              "      <td>0.0</td>\n",
              "      <td>0.00</td>\n",
              "      <td>0.0</td>\n",
              "      <td>0.00</td>\n",
              "      <td>0.00</td>\n",
              "      <td>0.0</td>\n",
              "      <td>0.0</td>\n",
              "      <td>0.00</td>\n",
              "      <td>0.132</td>\n",
              "      <td>0.0</td>\n",
              "      <td>0.372</td>\n",
              "      <td>0.180</td>\n",
              "      <td>0.048</td>\n",
              "      <td>5.114</td>\n",
              "      <td>101</td>\n",
              "      <td>1028</td>\n",
              "      <td>1</td>\n",
              "    </tr>\n",
              "    <tr>\n",
              "      <th>2</th>\n",
              "      <td>0.06</td>\n",
              "      <td>0.00</td>\n",
              "      <td>0.71</td>\n",
              "      <td>0.0</td>\n",
              "      <td>1.23</td>\n",
              "      <td>0.19</td>\n",
              "      <td>0.19</td>\n",
              "      <td>0.12</td>\n",
              "      <td>0.64</td>\n",
              "      <td>0.25</td>\n",
              "      <td>0.38</td>\n",
              "      <td>0.45</td>\n",
              "      <td>0.12</td>\n",
              "      <td>0.00</td>\n",
              "      <td>1.75</td>\n",
              "      <td>0.06</td>\n",
              "      <td>0.06</td>\n",
              "      <td>1.03</td>\n",
              "      <td>1.36</td>\n",
              "      <td>0.32</td>\n",
              "      <td>0.51</td>\n",
              "      <td>0.0</td>\n",
              "      <td>1.16</td>\n",
              "      <td>0.06</td>\n",
              "      <td>0.0</td>\n",
              "      <td>0.0</td>\n",
              "      <td>0.0</td>\n",
              "      <td>0.0</td>\n",
              "      <td>0.0</td>\n",
              "      <td>0.0</td>\n",
              "      <td>0.0</td>\n",
              "      <td>0.0</td>\n",
              "      <td>0.0</td>\n",
              "      <td>0.0</td>\n",
              "      <td>0.0</td>\n",
              "      <td>0.0</td>\n",
              "      <td>0.00</td>\n",
              "      <td>0.0</td>\n",
              "      <td>0.0</td>\n",
              "      <td>0.06</td>\n",
              "      <td>0.0</td>\n",
              "      <td>0.0</td>\n",
              "      <td>0.12</td>\n",
              "      <td>0.0</td>\n",
              "      <td>0.06</td>\n",
              "      <td>0.06</td>\n",
              "      <td>0.0</td>\n",
              "      <td>0.0</td>\n",
              "      <td>0.01</td>\n",
              "      <td>0.143</td>\n",
              "      <td>0.0</td>\n",
              "      <td>0.276</td>\n",
              "      <td>0.184</td>\n",
              "      <td>0.010</td>\n",
              "      <td>9.821</td>\n",
              "      <td>485</td>\n",
              "      <td>2259</td>\n",
              "      <td>1</td>\n",
              "    </tr>\n",
              "    <tr>\n",
              "      <th>3</th>\n",
              "      <td>0.00</td>\n",
              "      <td>0.00</td>\n",
              "      <td>0.00</td>\n",
              "      <td>0.0</td>\n",
              "      <td>0.63</td>\n",
              "      <td>0.00</td>\n",
              "      <td>0.31</td>\n",
              "      <td>0.63</td>\n",
              "      <td>0.31</td>\n",
              "      <td>0.63</td>\n",
              "      <td>0.31</td>\n",
              "      <td>0.31</td>\n",
              "      <td>0.31</td>\n",
              "      <td>0.00</td>\n",
              "      <td>0.00</td>\n",
              "      <td>0.31</td>\n",
              "      <td>0.00</td>\n",
              "      <td>0.00</td>\n",
              "      <td>3.18</td>\n",
              "      <td>0.00</td>\n",
              "      <td>0.31</td>\n",
              "      <td>0.0</td>\n",
              "      <td>0.00</td>\n",
              "      <td>0.00</td>\n",
              "      <td>0.0</td>\n",
              "      <td>0.0</td>\n",
              "      <td>0.0</td>\n",
              "      <td>0.0</td>\n",
              "      <td>0.0</td>\n",
              "      <td>0.0</td>\n",
              "      <td>0.0</td>\n",
              "      <td>0.0</td>\n",
              "      <td>0.0</td>\n",
              "      <td>0.0</td>\n",
              "      <td>0.0</td>\n",
              "      <td>0.0</td>\n",
              "      <td>0.00</td>\n",
              "      <td>0.0</td>\n",
              "      <td>0.0</td>\n",
              "      <td>0.00</td>\n",
              "      <td>0.0</td>\n",
              "      <td>0.0</td>\n",
              "      <td>0.00</td>\n",
              "      <td>0.0</td>\n",
              "      <td>0.00</td>\n",
              "      <td>0.00</td>\n",
              "      <td>0.0</td>\n",
              "      <td>0.0</td>\n",
              "      <td>0.00</td>\n",
              "      <td>0.137</td>\n",
              "      <td>0.0</td>\n",
              "      <td>0.137</td>\n",
              "      <td>0.000</td>\n",
              "      <td>0.000</td>\n",
              "      <td>3.537</td>\n",
              "      <td>40</td>\n",
              "      <td>191</td>\n",
              "      <td>1</td>\n",
              "    </tr>\n",
              "    <tr>\n",
              "      <th>4</th>\n",
              "      <td>0.00</td>\n",
              "      <td>0.00</td>\n",
              "      <td>0.00</td>\n",
              "      <td>0.0</td>\n",
              "      <td>0.63</td>\n",
              "      <td>0.00</td>\n",
              "      <td>0.31</td>\n",
              "      <td>0.63</td>\n",
              "      <td>0.31</td>\n",
              "      <td>0.63</td>\n",
              "      <td>0.31</td>\n",
              "      <td>0.31</td>\n",
              "      <td>0.31</td>\n",
              "      <td>0.00</td>\n",
              "      <td>0.00</td>\n",
              "      <td>0.31</td>\n",
              "      <td>0.00</td>\n",
              "      <td>0.00</td>\n",
              "      <td>3.18</td>\n",
              "      <td>0.00</td>\n",
              "      <td>0.31</td>\n",
              "      <td>0.0</td>\n",
              "      <td>0.00</td>\n",
              "      <td>0.00</td>\n",
              "      <td>0.0</td>\n",
              "      <td>0.0</td>\n",
              "      <td>0.0</td>\n",
              "      <td>0.0</td>\n",
              "      <td>0.0</td>\n",
              "      <td>0.0</td>\n",
              "      <td>0.0</td>\n",
              "      <td>0.0</td>\n",
              "      <td>0.0</td>\n",
              "      <td>0.0</td>\n",
              "      <td>0.0</td>\n",
              "      <td>0.0</td>\n",
              "      <td>0.00</td>\n",
              "      <td>0.0</td>\n",
              "      <td>0.0</td>\n",
              "      <td>0.00</td>\n",
              "      <td>0.0</td>\n",
              "      <td>0.0</td>\n",
              "      <td>0.00</td>\n",
              "      <td>0.0</td>\n",
              "      <td>0.00</td>\n",
              "      <td>0.00</td>\n",
              "      <td>0.0</td>\n",
              "      <td>0.0</td>\n",
              "      <td>0.00</td>\n",
              "      <td>0.135</td>\n",
              "      <td>0.0</td>\n",
              "      <td>0.135</td>\n",
              "      <td>0.000</td>\n",
              "      <td>0.000</td>\n",
              "      <td>3.537</td>\n",
              "      <td>40</td>\n",
              "      <td>191</td>\n",
              "      <td>1</td>\n",
              "    </tr>\n",
              "  </tbody>\n",
              "</table>\n",
              "</div>"
            ],
            "text/plain": [
              "   word_freq_make:  word_freq_address:  ...  capital_run_length_total:  spam\n",
              "0             0.00                0.64  ...                        278     1\n",
              "1             0.21                0.28  ...                       1028     1\n",
              "2             0.06                0.00  ...                       2259     1\n",
              "3             0.00                0.00  ...                        191     1\n",
              "4             0.00                0.00  ...                        191     1\n",
              "\n",
              "[5 rows x 58 columns]"
            ]
          },
          "metadata": {
            "tags": []
          },
          "execution_count": 190
        }
      ]
    },
    {
      "cell_type": "code",
      "metadata": {
        "id": "e9AzGcZFrIIr",
        "colab": {
          "base_uri": "https://localhost:8080/",
          "height": 0
        },
        "outputId": "1b5fb5e9-abf3-4e5f-e9eb-a5144ba4ddb5"
      },
      "source": [
        "# Previewing the bottom of the dataset\n",
        "# \n",
        "train.tail()"
      ],
      "execution_count": 191,
      "outputs": [
        {
          "output_type": "execute_result",
          "data": {
            "text/html": [
              "<div>\n",
              "<style scoped>\n",
              "    .dataframe tbody tr th:only-of-type {\n",
              "        vertical-align: middle;\n",
              "    }\n",
              "\n",
              "    .dataframe tbody tr th {\n",
              "        vertical-align: top;\n",
              "    }\n",
              "\n",
              "    .dataframe thead th {\n",
              "        text-align: right;\n",
              "    }\n",
              "</style>\n",
              "<table border=\"1\" class=\"dataframe\">\n",
              "  <thead>\n",
              "    <tr style=\"text-align: right;\">\n",
              "      <th></th>\n",
              "      <th>PassengerId</th>\n",
              "      <th>Survived</th>\n",
              "      <th>Pclass</th>\n",
              "      <th>Name</th>\n",
              "      <th>Sex</th>\n",
              "      <th>Age</th>\n",
              "      <th>SibSp</th>\n",
              "      <th>Parch</th>\n",
              "      <th>Ticket</th>\n",
              "      <th>Fare</th>\n",
              "      <th>Cabin</th>\n",
              "      <th>Embarked</th>\n",
              "    </tr>\n",
              "  </thead>\n",
              "  <tbody>\n",
              "    <tr>\n",
              "      <th>886</th>\n",
              "      <td>887</td>\n",
              "      <td>0</td>\n",
              "      <td>2</td>\n",
              "      <td>Montvila, Rev. Juozas</td>\n",
              "      <td>male</td>\n",
              "      <td>27.0</td>\n",
              "      <td>0</td>\n",
              "      <td>0</td>\n",
              "      <td>211536</td>\n",
              "      <td>13.00</td>\n",
              "      <td>NaN</td>\n",
              "      <td>S</td>\n",
              "    </tr>\n",
              "    <tr>\n",
              "      <th>887</th>\n",
              "      <td>888</td>\n",
              "      <td>1</td>\n",
              "      <td>1</td>\n",
              "      <td>Graham, Miss. Margaret Edith</td>\n",
              "      <td>female</td>\n",
              "      <td>19.0</td>\n",
              "      <td>0</td>\n",
              "      <td>0</td>\n",
              "      <td>112053</td>\n",
              "      <td>30.00</td>\n",
              "      <td>B42</td>\n",
              "      <td>S</td>\n",
              "    </tr>\n",
              "    <tr>\n",
              "      <th>888</th>\n",
              "      <td>889</td>\n",
              "      <td>0</td>\n",
              "      <td>3</td>\n",
              "      <td>Johnston, Miss. Catherine Helen \"Carrie\"</td>\n",
              "      <td>female</td>\n",
              "      <td>NaN</td>\n",
              "      <td>1</td>\n",
              "      <td>2</td>\n",
              "      <td>W./C. 6607</td>\n",
              "      <td>23.45</td>\n",
              "      <td>NaN</td>\n",
              "      <td>S</td>\n",
              "    </tr>\n",
              "    <tr>\n",
              "      <th>889</th>\n",
              "      <td>890</td>\n",
              "      <td>1</td>\n",
              "      <td>1</td>\n",
              "      <td>Behr, Mr. Karl Howell</td>\n",
              "      <td>male</td>\n",
              "      <td>26.0</td>\n",
              "      <td>0</td>\n",
              "      <td>0</td>\n",
              "      <td>111369</td>\n",
              "      <td>30.00</td>\n",
              "      <td>C148</td>\n",
              "      <td>C</td>\n",
              "    </tr>\n",
              "    <tr>\n",
              "      <th>890</th>\n",
              "      <td>891</td>\n",
              "      <td>0</td>\n",
              "      <td>3</td>\n",
              "      <td>Dooley, Mr. Patrick</td>\n",
              "      <td>male</td>\n",
              "      <td>32.0</td>\n",
              "      <td>0</td>\n",
              "      <td>0</td>\n",
              "      <td>370376</td>\n",
              "      <td>7.75</td>\n",
              "      <td>NaN</td>\n",
              "      <td>Q</td>\n",
              "    </tr>\n",
              "  </tbody>\n",
              "</table>\n",
              "</div>"
            ],
            "text/plain": [
              "     PassengerId  Survived  Pclass  ...   Fare Cabin  Embarked\n",
              "886          887         0       2  ...  13.00   NaN         S\n",
              "887          888         1       1  ...  30.00   B42         S\n",
              "888          889         0       3  ...  23.45   NaN         S\n",
              "889          890         1       1  ...  30.00  C148         C\n",
              "890          891         0       3  ...   7.75   NaN         Q\n",
              "\n",
              "[5 rows x 12 columns]"
            ]
          },
          "metadata": {
            "tags": []
          },
          "execution_count": 191
        }
      ]
    },
    {
      "cell_type": "code",
      "metadata": {
        "colab": {
          "base_uri": "https://localhost:8080/",
          "height": 0
        },
        "id": "ixWKLH09zkwT",
        "outputId": "65bd8f6d-3fd8-44bb-c47c-980ddbb2aca7"
      },
      "source": [
        "# Previewing the bottom of the dataset\n",
        "# \n",
        "test.tail()"
      ],
      "execution_count": 192,
      "outputs": [
        {
          "output_type": "execute_result",
          "data": {
            "text/html": [
              "<div>\n",
              "<style scoped>\n",
              "    .dataframe tbody tr th:only-of-type {\n",
              "        vertical-align: middle;\n",
              "    }\n",
              "\n",
              "    .dataframe tbody tr th {\n",
              "        vertical-align: top;\n",
              "    }\n",
              "\n",
              "    .dataframe thead th {\n",
              "        text-align: right;\n",
              "    }\n",
              "</style>\n",
              "<table border=\"1\" class=\"dataframe\">\n",
              "  <thead>\n",
              "    <tr style=\"text-align: right;\">\n",
              "      <th></th>\n",
              "      <th>PassengerId</th>\n",
              "      <th>Pclass</th>\n",
              "      <th>Name</th>\n",
              "      <th>Sex</th>\n",
              "      <th>Age</th>\n",
              "      <th>SibSp</th>\n",
              "      <th>Parch</th>\n",
              "      <th>Ticket</th>\n",
              "      <th>Fare</th>\n",
              "      <th>Cabin</th>\n",
              "      <th>Embarked</th>\n",
              "    </tr>\n",
              "  </thead>\n",
              "  <tbody>\n",
              "    <tr>\n",
              "      <th>413</th>\n",
              "      <td>1305</td>\n",
              "      <td>3</td>\n",
              "      <td>Spector, Mr. Woolf</td>\n",
              "      <td>male</td>\n",
              "      <td>NaN</td>\n",
              "      <td>0</td>\n",
              "      <td>0</td>\n",
              "      <td>A.5. 3236</td>\n",
              "      <td>8.0500</td>\n",
              "      <td>NaN</td>\n",
              "      <td>S</td>\n",
              "    </tr>\n",
              "    <tr>\n",
              "      <th>414</th>\n",
              "      <td>1306</td>\n",
              "      <td>1</td>\n",
              "      <td>Oliva y Ocana, Dona. Fermina</td>\n",
              "      <td>female</td>\n",
              "      <td>39.0</td>\n",
              "      <td>0</td>\n",
              "      <td>0</td>\n",
              "      <td>PC 17758</td>\n",
              "      <td>108.9000</td>\n",
              "      <td>C105</td>\n",
              "      <td>C</td>\n",
              "    </tr>\n",
              "    <tr>\n",
              "      <th>415</th>\n",
              "      <td>1307</td>\n",
              "      <td>3</td>\n",
              "      <td>Saether, Mr. Simon Sivertsen</td>\n",
              "      <td>male</td>\n",
              "      <td>38.5</td>\n",
              "      <td>0</td>\n",
              "      <td>0</td>\n",
              "      <td>SOTON/O.Q. 3101262</td>\n",
              "      <td>7.2500</td>\n",
              "      <td>NaN</td>\n",
              "      <td>S</td>\n",
              "    </tr>\n",
              "    <tr>\n",
              "      <th>416</th>\n",
              "      <td>1308</td>\n",
              "      <td>3</td>\n",
              "      <td>Ware, Mr. Frederick</td>\n",
              "      <td>male</td>\n",
              "      <td>NaN</td>\n",
              "      <td>0</td>\n",
              "      <td>0</td>\n",
              "      <td>359309</td>\n",
              "      <td>8.0500</td>\n",
              "      <td>NaN</td>\n",
              "      <td>S</td>\n",
              "    </tr>\n",
              "    <tr>\n",
              "      <th>417</th>\n",
              "      <td>1309</td>\n",
              "      <td>3</td>\n",
              "      <td>Peter, Master. Michael J</td>\n",
              "      <td>male</td>\n",
              "      <td>NaN</td>\n",
              "      <td>1</td>\n",
              "      <td>1</td>\n",
              "      <td>2668</td>\n",
              "      <td>22.3583</td>\n",
              "      <td>NaN</td>\n",
              "      <td>C</td>\n",
              "    </tr>\n",
              "  </tbody>\n",
              "</table>\n",
              "</div>"
            ],
            "text/plain": [
              "     PassengerId  Pclass                          Name  ...      Fare  Cabin  Embarked\n",
              "413         1305       3            Spector, Mr. Woolf  ...    8.0500    NaN         S\n",
              "414         1306       1  Oliva y Ocana, Dona. Fermina  ...  108.9000   C105         C\n",
              "415         1307       3  Saether, Mr. Simon Sivertsen  ...    7.2500    NaN         S\n",
              "416         1308       3           Ware, Mr. Frederick  ...    8.0500    NaN         S\n",
              "417         1309       3      Peter, Master. Michael J  ...   22.3583    NaN         C\n",
              "\n",
              "[5 rows x 11 columns]"
            ]
          },
          "metadata": {
            "tags": []
          },
          "execution_count": 192
        }
      ]
    },
    {
      "cell_type": "code",
      "metadata": {
        "colab": {
          "base_uri": "https://localhost:8080/",
          "height": 0
        },
        "id": "yDOETxZTzp9x",
        "outputId": "45418264-36f4-408b-e903-cbc8545e299f"
      },
      "source": [
        "# Previewing the bottom of the dataset\n",
        "# \n",
        "spam.tail()"
      ],
      "execution_count": 193,
      "outputs": [
        {
          "output_type": "execute_result",
          "data": {
            "text/html": [
              "<div>\n",
              "<style scoped>\n",
              "    .dataframe tbody tr th:only-of-type {\n",
              "        vertical-align: middle;\n",
              "    }\n",
              "\n",
              "    .dataframe tbody tr th {\n",
              "        vertical-align: top;\n",
              "    }\n",
              "\n",
              "    .dataframe thead th {\n",
              "        text-align: right;\n",
              "    }\n",
              "</style>\n",
              "<table border=\"1\" class=\"dataframe\">\n",
              "  <thead>\n",
              "    <tr style=\"text-align: right;\">\n",
              "      <th></th>\n",
              "      <th>word_freq_make:</th>\n",
              "      <th>word_freq_address:</th>\n",
              "      <th>word_freq_all:</th>\n",
              "      <th>word_freq_3d:</th>\n",
              "      <th>word_freq_our:</th>\n",
              "      <th>word_freq_over:</th>\n",
              "      <th>word_freq_remove:</th>\n",
              "      <th>word_freq_internet:</th>\n",
              "      <th>word_freq_order:</th>\n",
              "      <th>word_freq_mail:</th>\n",
              "      <th>word_freq_receive:</th>\n",
              "      <th>word_freq_will:</th>\n",
              "      <th>word_freq_people:</th>\n",
              "      <th>word_freq_report:</th>\n",
              "      <th>word_freq_addresses:</th>\n",
              "      <th>word_freq_free:</th>\n",
              "      <th>word_freq_business:</th>\n",
              "      <th>word_freq_email:</th>\n",
              "      <th>word_freq_you:</th>\n",
              "      <th>word_freq_credit:</th>\n",
              "      <th>word_freq_your:</th>\n",
              "      <th>word_freq_font:</th>\n",
              "      <th>word_freq_000:</th>\n",
              "      <th>word_freq_money:</th>\n",
              "      <th>word_freq_hp:</th>\n",
              "      <th>word_freq_hpl:</th>\n",
              "      <th>word_freq_george:</th>\n",
              "      <th>word_freq_650:</th>\n",
              "      <th>word_freq_lab:</th>\n",
              "      <th>word_freq_labs:</th>\n",
              "      <th>word_freq_telnet:</th>\n",
              "      <th>word_freq_857:</th>\n",
              "      <th>word_freq_data:</th>\n",
              "      <th>word_freq_415:</th>\n",
              "      <th>word_freq_85:</th>\n",
              "      <th>word_freq_technology:</th>\n",
              "      <th>word_freq_1999:</th>\n",
              "      <th>word_freq_parts:</th>\n",
              "      <th>word_freq_pm:</th>\n",
              "      <th>word_freq_direct:</th>\n",
              "      <th>word_freq_cs:</th>\n",
              "      <th>word_freq_meeting:</th>\n",
              "      <th>word_freq_original:</th>\n",
              "      <th>word_freq_project:</th>\n",
              "      <th>word_freq_re:</th>\n",
              "      <th>word_freq_edu:</th>\n",
              "      <th>word_freq_table:</th>\n",
              "      <th>word_freq_conference:</th>\n",
              "      <th>char_freq_;:</th>\n",
              "      <th>char_freq_(:</th>\n",
              "      <th>char_freq_[:</th>\n",
              "      <th>char_freq_!:</th>\n",
              "      <th>char_freq_$:</th>\n",
              "      <th>char_freq_#:</th>\n",
              "      <th>capital_run_length_average:</th>\n",
              "      <th>capital_run_length_longest:</th>\n",
              "      <th>capital_run_length_total:</th>\n",
              "      <th>spam</th>\n",
              "    </tr>\n",
              "  </thead>\n",
              "  <tbody>\n",
              "    <tr>\n",
              "      <th>4596</th>\n",
              "      <td>0.31</td>\n",
              "      <td>0.0</td>\n",
              "      <td>0.62</td>\n",
              "      <td>0.0</td>\n",
              "      <td>0.00</td>\n",
              "      <td>0.31</td>\n",
              "      <td>0.0</td>\n",
              "      <td>0.0</td>\n",
              "      <td>0.0</td>\n",
              "      <td>0.0</td>\n",
              "      <td>0.0</td>\n",
              "      <td>1.88</td>\n",
              "      <td>0.00</td>\n",
              "      <td>0.0</td>\n",
              "      <td>0.0</td>\n",
              "      <td>0.0</td>\n",
              "      <td>0.0</td>\n",
              "      <td>0.0</td>\n",
              "      <td>0.62</td>\n",
              "      <td>0.0</td>\n",
              "      <td>0.00</td>\n",
              "      <td>0.0</td>\n",
              "      <td>0.0</td>\n",
              "      <td>0.0</td>\n",
              "      <td>0.0</td>\n",
              "      <td>0.0</td>\n",
              "      <td>0.0</td>\n",
              "      <td>0.0</td>\n",
              "      <td>0.0</td>\n",
              "      <td>0.0</td>\n",
              "      <td>0.0</td>\n",
              "      <td>0.0</td>\n",
              "      <td>0.0</td>\n",
              "      <td>0.0</td>\n",
              "      <td>0.0</td>\n",
              "      <td>0.0</td>\n",
              "      <td>0.0</td>\n",
              "      <td>0.0</td>\n",
              "      <td>0.0</td>\n",
              "      <td>0.0</td>\n",
              "      <td>0.0</td>\n",
              "      <td>0.0</td>\n",
              "      <td>0.0</td>\n",
              "      <td>0.31</td>\n",
              "      <td>0.31</td>\n",
              "      <td>0.31</td>\n",
              "      <td>0.0</td>\n",
              "      <td>0.0</td>\n",
              "      <td>0.000</td>\n",
              "      <td>0.232</td>\n",
              "      <td>0.0</td>\n",
              "      <td>0.000</td>\n",
              "      <td>0.0</td>\n",
              "      <td>0.0</td>\n",
              "      <td>1.142</td>\n",
              "      <td>3</td>\n",
              "      <td>88</td>\n",
              "      <td>0</td>\n",
              "    </tr>\n",
              "    <tr>\n",
              "      <th>4597</th>\n",
              "      <td>0.00</td>\n",
              "      <td>0.0</td>\n",
              "      <td>0.00</td>\n",
              "      <td>0.0</td>\n",
              "      <td>0.00</td>\n",
              "      <td>0.00</td>\n",
              "      <td>0.0</td>\n",
              "      <td>0.0</td>\n",
              "      <td>0.0</td>\n",
              "      <td>0.0</td>\n",
              "      <td>0.0</td>\n",
              "      <td>0.00</td>\n",
              "      <td>0.00</td>\n",
              "      <td>0.0</td>\n",
              "      <td>0.0</td>\n",
              "      <td>0.0</td>\n",
              "      <td>0.0</td>\n",
              "      <td>0.0</td>\n",
              "      <td>6.00</td>\n",
              "      <td>0.0</td>\n",
              "      <td>2.00</td>\n",
              "      <td>0.0</td>\n",
              "      <td>0.0</td>\n",
              "      <td>0.0</td>\n",
              "      <td>0.0</td>\n",
              "      <td>0.0</td>\n",
              "      <td>0.0</td>\n",
              "      <td>0.0</td>\n",
              "      <td>0.0</td>\n",
              "      <td>0.0</td>\n",
              "      <td>0.0</td>\n",
              "      <td>0.0</td>\n",
              "      <td>0.0</td>\n",
              "      <td>0.0</td>\n",
              "      <td>0.0</td>\n",
              "      <td>0.0</td>\n",
              "      <td>0.0</td>\n",
              "      <td>0.0</td>\n",
              "      <td>0.0</td>\n",
              "      <td>0.0</td>\n",
              "      <td>0.0</td>\n",
              "      <td>0.0</td>\n",
              "      <td>0.0</td>\n",
              "      <td>0.00</td>\n",
              "      <td>0.00</td>\n",
              "      <td>2.00</td>\n",
              "      <td>0.0</td>\n",
              "      <td>0.0</td>\n",
              "      <td>0.000</td>\n",
              "      <td>0.000</td>\n",
              "      <td>0.0</td>\n",
              "      <td>0.353</td>\n",
              "      <td>0.0</td>\n",
              "      <td>0.0</td>\n",
              "      <td>1.555</td>\n",
              "      <td>4</td>\n",
              "      <td>14</td>\n",
              "      <td>0</td>\n",
              "    </tr>\n",
              "    <tr>\n",
              "      <th>4598</th>\n",
              "      <td>0.30</td>\n",
              "      <td>0.0</td>\n",
              "      <td>0.30</td>\n",
              "      <td>0.0</td>\n",
              "      <td>0.00</td>\n",
              "      <td>0.00</td>\n",
              "      <td>0.0</td>\n",
              "      <td>0.0</td>\n",
              "      <td>0.0</td>\n",
              "      <td>0.0</td>\n",
              "      <td>0.0</td>\n",
              "      <td>1.80</td>\n",
              "      <td>0.30</td>\n",
              "      <td>0.0</td>\n",
              "      <td>0.0</td>\n",
              "      <td>0.0</td>\n",
              "      <td>0.0</td>\n",
              "      <td>0.9</td>\n",
              "      <td>1.50</td>\n",
              "      <td>0.0</td>\n",
              "      <td>0.30</td>\n",
              "      <td>0.0</td>\n",
              "      <td>0.0</td>\n",
              "      <td>0.0</td>\n",
              "      <td>0.0</td>\n",
              "      <td>0.0</td>\n",
              "      <td>0.0</td>\n",
              "      <td>0.0</td>\n",
              "      <td>0.0</td>\n",
              "      <td>0.0</td>\n",
              "      <td>0.0</td>\n",
              "      <td>0.0</td>\n",
              "      <td>0.0</td>\n",
              "      <td>0.0</td>\n",
              "      <td>0.0</td>\n",
              "      <td>0.0</td>\n",
              "      <td>0.0</td>\n",
              "      <td>0.0</td>\n",
              "      <td>0.0</td>\n",
              "      <td>0.0</td>\n",
              "      <td>0.0</td>\n",
              "      <td>0.0</td>\n",
              "      <td>0.0</td>\n",
              "      <td>0.00</td>\n",
              "      <td>0.00</td>\n",
              "      <td>1.20</td>\n",
              "      <td>0.0</td>\n",
              "      <td>0.0</td>\n",
              "      <td>0.102</td>\n",
              "      <td>0.718</td>\n",
              "      <td>0.0</td>\n",
              "      <td>0.000</td>\n",
              "      <td>0.0</td>\n",
              "      <td>0.0</td>\n",
              "      <td>1.404</td>\n",
              "      <td>6</td>\n",
              "      <td>118</td>\n",
              "      <td>0</td>\n",
              "    </tr>\n",
              "    <tr>\n",
              "      <th>4599</th>\n",
              "      <td>0.96</td>\n",
              "      <td>0.0</td>\n",
              "      <td>0.00</td>\n",
              "      <td>0.0</td>\n",
              "      <td>0.32</td>\n",
              "      <td>0.00</td>\n",
              "      <td>0.0</td>\n",
              "      <td>0.0</td>\n",
              "      <td>0.0</td>\n",
              "      <td>0.0</td>\n",
              "      <td>0.0</td>\n",
              "      <td>0.32</td>\n",
              "      <td>0.00</td>\n",
              "      <td>0.0</td>\n",
              "      <td>0.0</td>\n",
              "      <td>0.0</td>\n",
              "      <td>0.0</td>\n",
              "      <td>0.0</td>\n",
              "      <td>1.93</td>\n",
              "      <td>0.0</td>\n",
              "      <td>0.32</td>\n",
              "      <td>0.0</td>\n",
              "      <td>0.0</td>\n",
              "      <td>0.0</td>\n",
              "      <td>0.0</td>\n",
              "      <td>0.0</td>\n",
              "      <td>0.0</td>\n",
              "      <td>0.0</td>\n",
              "      <td>0.0</td>\n",
              "      <td>0.0</td>\n",
              "      <td>0.0</td>\n",
              "      <td>0.0</td>\n",
              "      <td>0.0</td>\n",
              "      <td>0.0</td>\n",
              "      <td>0.0</td>\n",
              "      <td>0.0</td>\n",
              "      <td>0.0</td>\n",
              "      <td>0.0</td>\n",
              "      <td>0.0</td>\n",
              "      <td>0.0</td>\n",
              "      <td>0.0</td>\n",
              "      <td>0.0</td>\n",
              "      <td>0.0</td>\n",
              "      <td>0.32</td>\n",
              "      <td>0.00</td>\n",
              "      <td>0.32</td>\n",
              "      <td>0.0</td>\n",
              "      <td>0.0</td>\n",
              "      <td>0.000</td>\n",
              "      <td>0.057</td>\n",
              "      <td>0.0</td>\n",
              "      <td>0.000</td>\n",
              "      <td>0.0</td>\n",
              "      <td>0.0</td>\n",
              "      <td>1.147</td>\n",
              "      <td>5</td>\n",
              "      <td>78</td>\n",
              "      <td>0</td>\n",
              "    </tr>\n",
              "    <tr>\n",
              "      <th>4600</th>\n",
              "      <td>0.00</td>\n",
              "      <td>0.0</td>\n",
              "      <td>0.65</td>\n",
              "      <td>0.0</td>\n",
              "      <td>0.00</td>\n",
              "      <td>0.00</td>\n",
              "      <td>0.0</td>\n",
              "      <td>0.0</td>\n",
              "      <td>0.0</td>\n",
              "      <td>0.0</td>\n",
              "      <td>0.0</td>\n",
              "      <td>0.00</td>\n",
              "      <td>0.65</td>\n",
              "      <td>0.0</td>\n",
              "      <td>0.0</td>\n",
              "      <td>0.0</td>\n",
              "      <td>0.0</td>\n",
              "      <td>0.0</td>\n",
              "      <td>4.60</td>\n",
              "      <td>0.0</td>\n",
              "      <td>0.65</td>\n",
              "      <td>0.0</td>\n",
              "      <td>0.0</td>\n",
              "      <td>0.0</td>\n",
              "      <td>0.0</td>\n",
              "      <td>0.0</td>\n",
              "      <td>0.0</td>\n",
              "      <td>0.0</td>\n",
              "      <td>0.0</td>\n",
              "      <td>0.0</td>\n",
              "      <td>0.0</td>\n",
              "      <td>0.0</td>\n",
              "      <td>0.0</td>\n",
              "      <td>0.0</td>\n",
              "      <td>0.0</td>\n",
              "      <td>0.0</td>\n",
              "      <td>0.0</td>\n",
              "      <td>0.0</td>\n",
              "      <td>0.0</td>\n",
              "      <td>0.0</td>\n",
              "      <td>0.0</td>\n",
              "      <td>0.0</td>\n",
              "      <td>0.0</td>\n",
              "      <td>0.00</td>\n",
              "      <td>1.97</td>\n",
              "      <td>0.65</td>\n",
              "      <td>0.0</td>\n",
              "      <td>0.0</td>\n",
              "      <td>0.000</td>\n",
              "      <td>0.000</td>\n",
              "      <td>0.0</td>\n",
              "      <td>0.125</td>\n",
              "      <td>0.0</td>\n",
              "      <td>0.0</td>\n",
              "      <td>1.250</td>\n",
              "      <td>5</td>\n",
              "      <td>40</td>\n",
              "      <td>0</td>\n",
              "    </tr>\n",
              "  </tbody>\n",
              "</table>\n",
              "</div>"
            ],
            "text/plain": [
              "      word_freq_make:  word_freq_address:  ...  capital_run_length_total:  spam\n",
              "4596             0.31                 0.0  ...                         88     0\n",
              "4597             0.00                 0.0  ...                         14     0\n",
              "4598             0.30                 0.0  ...                        118     0\n",
              "4599             0.96                 0.0  ...                         78     0\n",
              "4600             0.00                 0.0  ...                         40     0\n",
              "\n",
              "[5 rows x 58 columns]"
            ]
          },
          "metadata": {
            "tags": []
          },
          "execution_count": 193
        }
      ]
    },
    {
      "cell_type": "code",
      "metadata": {
        "id": "n8-dW4sQWzbc",
        "colab": {
          "base_uri": "https://localhost:8080/"
        },
        "outputId": "b07f2309-0258-46ba-a994-352e1c10a10b"
      },
      "source": [
        "# Checking whether each column in the dataset has an appropriate datatype\n",
        "#\n",
        "train.info()"
      ],
      "execution_count": 194,
      "outputs": [
        {
          "output_type": "stream",
          "text": [
            "<class 'pandas.core.frame.DataFrame'>\n",
            "RangeIndex: 891 entries, 0 to 890\n",
            "Data columns (total 12 columns):\n",
            " #   Column       Non-Null Count  Dtype  \n",
            "---  ------       --------------  -----  \n",
            " 0   PassengerId  891 non-null    int64  \n",
            " 1   Survived     891 non-null    int64  \n",
            " 2   Pclass       891 non-null    int64  \n",
            " 3   Name         891 non-null    object \n",
            " 4   Sex          891 non-null    object \n",
            " 5   Age          714 non-null    float64\n",
            " 6   SibSp        891 non-null    int64  \n",
            " 7   Parch        891 non-null    int64  \n",
            " 8   Ticket       891 non-null    object \n",
            " 9   Fare         891 non-null    float64\n",
            " 10  Cabin        204 non-null    object \n",
            " 11  Embarked     889 non-null    object \n",
            "dtypes: float64(2), int64(5), object(5)\n",
            "memory usage: 83.7+ KB\n"
          ],
          "name": "stdout"
        }
      ]
    },
    {
      "cell_type": "code",
      "metadata": {
        "colab": {
          "base_uri": "https://localhost:8080/"
        },
        "id": "VmyDvKlwz5Su",
        "outputId": "8dda3f08-7b62-4fde-b285-2adf8e9d28bc"
      },
      "source": [
        "# Checking whether each column in the dataset has an appropriate datatype\n",
        "#\n",
        "test.info()"
      ],
      "execution_count": 195,
      "outputs": [
        {
          "output_type": "stream",
          "text": [
            "<class 'pandas.core.frame.DataFrame'>\n",
            "RangeIndex: 418 entries, 0 to 417\n",
            "Data columns (total 11 columns):\n",
            " #   Column       Non-Null Count  Dtype  \n",
            "---  ------       --------------  -----  \n",
            " 0   PassengerId  418 non-null    int64  \n",
            " 1   Pclass       418 non-null    int64  \n",
            " 2   Name         418 non-null    object \n",
            " 3   Sex          418 non-null    object \n",
            " 4   Age          332 non-null    float64\n",
            " 5   SibSp        418 non-null    int64  \n",
            " 6   Parch        418 non-null    int64  \n",
            " 7   Ticket       418 non-null    object \n",
            " 8   Fare         417 non-null    float64\n",
            " 9   Cabin        91 non-null     object \n",
            " 10  Embarked     418 non-null    object \n",
            "dtypes: float64(2), int64(4), object(5)\n",
            "memory usage: 36.0+ KB\n"
          ],
          "name": "stdout"
        }
      ]
    },
    {
      "cell_type": "code",
      "metadata": {
        "colab": {
          "base_uri": "https://localhost:8080/"
        },
        "id": "Um0f5Ohyz9ZK",
        "outputId": "70098d83-ed23-429d-d6f5-2ec45f5f59a1"
      },
      "source": [
        "# Checking whether each column in the dataset has an appropriate datatype\n",
        "#\n",
        "spam.info()"
      ],
      "execution_count": 196,
      "outputs": [
        {
          "output_type": "stream",
          "text": [
            "<class 'pandas.core.frame.DataFrame'>\n",
            "RangeIndex: 4601 entries, 0 to 4600\n",
            "Data columns (total 58 columns):\n",
            " #   Column                       Non-Null Count  Dtype  \n",
            "---  ------                       --------------  -----  \n",
            " 0   word_freq_make:              4601 non-null   float64\n",
            " 1   word_freq_address:           4601 non-null   float64\n",
            " 2   word_freq_all:               4601 non-null   float64\n",
            " 3   word_freq_3d:                4601 non-null   float64\n",
            " 4   word_freq_our:               4601 non-null   float64\n",
            " 5   word_freq_over:              4601 non-null   float64\n",
            " 6   word_freq_remove:            4601 non-null   float64\n",
            " 7   word_freq_internet:          4601 non-null   float64\n",
            " 8   word_freq_order:             4601 non-null   float64\n",
            " 9   word_freq_mail:              4601 non-null   float64\n",
            " 10  word_freq_receive:           4601 non-null   float64\n",
            " 11  word_freq_will:              4601 non-null   float64\n",
            " 12  word_freq_people:            4601 non-null   float64\n",
            " 13  word_freq_report:            4601 non-null   float64\n",
            " 14  word_freq_addresses:         4601 non-null   float64\n",
            " 15  word_freq_free:              4601 non-null   float64\n",
            " 16  word_freq_business:          4601 non-null   float64\n",
            " 17  word_freq_email:             4601 non-null   float64\n",
            " 18  word_freq_you:               4601 non-null   float64\n",
            " 19  word_freq_credit:            4601 non-null   float64\n",
            " 20  word_freq_your:              4601 non-null   float64\n",
            " 21  word_freq_font:              4601 non-null   float64\n",
            " 22  word_freq_000:               4601 non-null   float64\n",
            " 23  word_freq_money:             4601 non-null   float64\n",
            " 24  word_freq_hp:                4601 non-null   float64\n",
            " 25  word_freq_hpl:               4601 non-null   float64\n",
            " 26  word_freq_george:            4601 non-null   float64\n",
            " 27  word_freq_650:               4601 non-null   float64\n",
            " 28  word_freq_lab:               4601 non-null   float64\n",
            " 29  word_freq_labs:              4601 non-null   float64\n",
            " 30  word_freq_telnet:            4601 non-null   float64\n",
            " 31  word_freq_857:               4601 non-null   float64\n",
            " 32  word_freq_data:              4601 non-null   float64\n",
            " 33  word_freq_415:               4601 non-null   float64\n",
            " 34  word_freq_85:                4601 non-null   float64\n",
            " 35  word_freq_technology:        4601 non-null   float64\n",
            " 36  word_freq_1999:              4601 non-null   float64\n",
            " 37  word_freq_parts:             4601 non-null   float64\n",
            " 38  word_freq_pm:                4601 non-null   float64\n",
            " 39  word_freq_direct:            4601 non-null   float64\n",
            " 40  word_freq_cs:                4601 non-null   float64\n",
            " 41  word_freq_meeting:           4601 non-null   float64\n",
            " 42  word_freq_original:          4601 non-null   float64\n",
            " 43  word_freq_project:           4601 non-null   float64\n",
            " 44  word_freq_re:                4601 non-null   float64\n",
            " 45  word_freq_edu:               4601 non-null   float64\n",
            " 46  word_freq_table:             4601 non-null   float64\n",
            " 47  word_freq_conference:        4601 non-null   float64\n",
            " 48  char_freq_;:                 4601 non-null   float64\n",
            " 49  char_freq_(:                 4601 non-null   float64\n",
            " 50  char_freq_[:                 4601 non-null   float64\n",
            " 51  char_freq_!:                 4601 non-null   float64\n",
            " 52  char_freq_$:                 4601 non-null   float64\n",
            " 53  char_freq_#:                 4601 non-null   float64\n",
            " 54  capital_run_length_average:  4601 non-null   float64\n",
            " 55  capital_run_length_longest:  4601 non-null   int64  \n",
            " 56  capital_run_length_total:    4601 non-null   int64  \n",
            " 57  spam                         4601 non-null   int64  \n",
            "dtypes: float64(55), int64(3)\n",
            "memory usage: 2.0 MB\n"
          ],
          "name": "stdout"
        }
      ]
    },
    {
      "cell_type": "code",
      "metadata": {
        "colab": {
          "base_uri": "https://localhost:8080/"
        },
        "id": "9LwN0u7qu2I3",
        "outputId": "5978d6be-11e5-42a5-decb-32c869d398ff"
      },
      "source": [
        "# Checking for unique values\n",
        "train.nunique()"
      ],
      "execution_count": 197,
      "outputs": [
        {
          "output_type": "execute_result",
          "data": {
            "text/plain": [
              "PassengerId    891\n",
              "Survived         2\n",
              "Pclass           3\n",
              "Name           891\n",
              "Sex              2\n",
              "Age             88\n",
              "SibSp            7\n",
              "Parch            7\n",
              "Ticket         681\n",
              "Fare           248\n",
              "Cabin          147\n",
              "Embarked         3\n",
              "dtype: int64"
            ]
          },
          "metadata": {
            "tags": []
          },
          "execution_count": 197
        }
      ]
    },
    {
      "cell_type": "code",
      "metadata": {
        "colab": {
          "base_uri": "https://localhost:8080/"
        },
        "id": "9aHRlNu50Tdw",
        "outputId": "33752665-76a5-44d8-ea1c-d5dcfc2caa92"
      },
      "source": [
        "# Checking for unique values\n",
        "test.nunique()"
      ],
      "execution_count": 198,
      "outputs": [
        {
          "output_type": "execute_result",
          "data": {
            "text/plain": [
              "PassengerId    418\n",
              "Pclass           3\n",
              "Name           418\n",
              "Sex              2\n",
              "Age             79\n",
              "SibSp            7\n",
              "Parch            8\n",
              "Ticket         363\n",
              "Fare           169\n",
              "Cabin           76\n",
              "Embarked         3\n",
              "dtype: int64"
            ]
          },
          "metadata": {
            "tags": []
          },
          "execution_count": 198
        }
      ]
    },
    {
      "cell_type": "code",
      "metadata": {
        "colab": {
          "base_uri": "https://localhost:8080/"
        },
        "id": "0TfQMYnX0Xbe",
        "outputId": "5039af33-f125-40c0-c989-0945d940ee8d"
      },
      "source": [
        "# Checking for unique values\n",
        "spam.nunique()"
      ],
      "execution_count": 199,
      "outputs": [
        {
          "output_type": "execute_result",
          "data": {
            "text/plain": [
              "word_freq_make:                 142\n",
              "word_freq_address:              171\n",
              "word_freq_all:                  214\n",
              "word_freq_3d:                    43\n",
              "word_freq_our:                  255\n",
              "word_freq_over:                 141\n",
              "word_freq_remove:               173\n",
              "word_freq_internet:             170\n",
              "word_freq_order:                144\n",
              "word_freq_mail:                 245\n",
              "word_freq_receive:              113\n",
              "word_freq_will:                 316\n",
              "word_freq_people:               158\n",
              "word_freq_report:               133\n",
              "word_freq_addresses:            118\n",
              "word_freq_free:                 253\n",
              "word_freq_business:             197\n",
              "word_freq_email:                229\n",
              "word_freq_you:                  575\n",
              "word_freq_credit:               148\n",
              "word_freq_your:                 401\n",
              "word_freq_font:                  99\n",
              "word_freq_000:                  164\n",
              "word_freq_money:                143\n",
              "word_freq_hp:                   395\n",
              "word_freq_hpl:                  281\n",
              "word_freq_george:               240\n",
              "word_freq_650:                  200\n",
              "word_freq_lab:                  156\n",
              "word_freq_labs:                 179\n",
              "word_freq_telnet:               128\n",
              "word_freq_857:                  106\n",
              "word_freq_data:                 184\n",
              "word_freq_415:                  110\n",
              "word_freq_85:                   177\n",
              "word_freq_technology:           159\n",
              "word_freq_1999:                 188\n",
              "word_freq_parts:                 53\n",
              "word_freq_pm:                   163\n",
              "word_freq_direct:               125\n",
              "word_freq_cs:                   108\n",
              "word_freq_meeting:              186\n",
              "word_freq_original:             136\n",
              "word_freq_project:              160\n",
              "word_freq_re:                   230\n",
              "word_freq_edu:                  227\n",
              "word_freq_table:                 38\n",
              "word_freq_conference:           106\n",
              "char_freq_;:                    313\n",
              "char_freq_(:                    641\n",
              "char_freq_[:                    225\n",
              "char_freq_!:                    964\n",
              "char_freq_$:                    504\n",
              "char_freq_#:                    316\n",
              "capital_run_length_average:    2161\n",
              "capital_run_length_longest:     271\n",
              "capital_run_length_total:       919\n",
              "spam                              2\n",
              "dtype: int64"
            ]
          },
          "metadata": {
            "tags": []
          },
          "execution_count": 199
        }
      ]
    },
    {
      "cell_type": "code",
      "metadata": {
        "colab": {
          "base_uri": "https://localhost:8080/"
        },
        "id": "xm-608iGRUzR",
        "outputId": "c710ca23-a28c-4b23-df95-105d813f9b93"
      },
      "source": [
        "# Checking for null values.\n",
        "train.isnull().sum()"
      ],
      "execution_count": 200,
      "outputs": [
        {
          "output_type": "execute_result",
          "data": {
            "text/plain": [
              "PassengerId      0\n",
              "Survived         0\n",
              "Pclass           0\n",
              "Name             0\n",
              "Sex              0\n",
              "Age            177\n",
              "SibSp            0\n",
              "Parch            0\n",
              "Ticket           0\n",
              "Fare             0\n",
              "Cabin          687\n",
              "Embarked         2\n",
              "dtype: int64"
            ]
          },
          "metadata": {
            "tags": []
          },
          "execution_count": 200
        }
      ]
    },
    {
      "cell_type": "code",
      "metadata": {
        "colab": {
          "base_uri": "https://localhost:8080/"
        },
        "id": "jjPtrzb-1eyp",
        "outputId": "4e91becc-1fa8-4822-d481-b323b8f5be26"
      },
      "source": [
        "# Checking for null values.\n",
        "test.isnull().sum()"
      ],
      "execution_count": 201,
      "outputs": [
        {
          "output_type": "execute_result",
          "data": {
            "text/plain": [
              "PassengerId      0\n",
              "Pclass           0\n",
              "Name             0\n",
              "Sex              0\n",
              "Age             86\n",
              "SibSp            0\n",
              "Parch            0\n",
              "Ticket           0\n",
              "Fare             1\n",
              "Cabin          327\n",
              "Embarked         0\n",
              "dtype: int64"
            ]
          },
          "metadata": {
            "tags": []
          },
          "execution_count": 201
        }
      ]
    },
    {
      "cell_type": "code",
      "metadata": {
        "colab": {
          "base_uri": "https://localhost:8080/"
        },
        "id": "l3fXCvcC1jGV",
        "outputId": "0fde3490-db5a-4a02-f6a7-48a6c16e799a"
      },
      "source": [
        "# Checking for null values.\n",
        "spam.isnull().sum()"
      ],
      "execution_count": 202,
      "outputs": [
        {
          "output_type": "execute_result",
          "data": {
            "text/plain": [
              "word_freq_make:                0\n",
              "word_freq_address:             0\n",
              "word_freq_all:                 0\n",
              "word_freq_3d:                  0\n",
              "word_freq_our:                 0\n",
              "word_freq_over:                0\n",
              "word_freq_remove:              0\n",
              "word_freq_internet:            0\n",
              "word_freq_order:               0\n",
              "word_freq_mail:                0\n",
              "word_freq_receive:             0\n",
              "word_freq_will:                0\n",
              "word_freq_people:              0\n",
              "word_freq_report:              0\n",
              "word_freq_addresses:           0\n",
              "word_freq_free:                0\n",
              "word_freq_business:            0\n",
              "word_freq_email:               0\n",
              "word_freq_you:                 0\n",
              "word_freq_credit:              0\n",
              "word_freq_your:                0\n",
              "word_freq_font:                0\n",
              "word_freq_000:                 0\n",
              "word_freq_money:               0\n",
              "word_freq_hp:                  0\n",
              "word_freq_hpl:                 0\n",
              "word_freq_george:              0\n",
              "word_freq_650:                 0\n",
              "word_freq_lab:                 0\n",
              "word_freq_labs:                0\n",
              "word_freq_telnet:              0\n",
              "word_freq_857:                 0\n",
              "word_freq_data:                0\n",
              "word_freq_415:                 0\n",
              "word_freq_85:                  0\n",
              "word_freq_technology:          0\n",
              "word_freq_1999:                0\n",
              "word_freq_parts:               0\n",
              "word_freq_pm:                  0\n",
              "word_freq_direct:              0\n",
              "word_freq_cs:                  0\n",
              "word_freq_meeting:             0\n",
              "word_freq_original:            0\n",
              "word_freq_project:             0\n",
              "word_freq_re:                  0\n",
              "word_freq_edu:                 0\n",
              "word_freq_table:               0\n",
              "word_freq_conference:          0\n",
              "char_freq_;:                   0\n",
              "char_freq_(:                   0\n",
              "char_freq_[:                   0\n",
              "char_freq_!:                   0\n",
              "char_freq_$:                   0\n",
              "char_freq_#:                   0\n",
              "capital_run_length_average:    0\n",
              "capital_run_length_longest:    0\n",
              "capital_run_length_total:      0\n",
              "spam                           0\n",
              "dtype: int64"
            ]
          },
          "metadata": {
            "tags": []
          },
          "execution_count": 202
        }
      ]
    },
    {
      "cell_type": "markdown",
      "metadata": {
        "id": "Et6Mz0829xsy"
      },
      "source": [
        "## Tidying the Dataset"
      ]
    },
    {
      "cell_type": "code",
      "metadata": {
        "id": "K0bl0HDKwa-K"
      },
      "source": [
        "# Replacing null values\n",
        "train['Age'].fillna(train['Age'].median(), inplace= True)"
      ],
      "execution_count": 203,
      "outputs": []
    },
    {
      "cell_type": "code",
      "metadata": {
        "colab": {
          "base_uri": "https://localhost:8080/"
        },
        "id": "bTPH99kYyOfg",
        "outputId": "c7cc2b3b-f647-48a6-84f4-bd9f72548a4f"
      },
      "source": [
        "train.isnull().sum()"
      ],
      "execution_count": 204,
      "outputs": [
        {
          "output_type": "execute_result",
          "data": {
            "text/plain": [
              "PassengerId      0\n",
              "Survived         0\n",
              "Pclass           0\n",
              "Name             0\n",
              "Sex              0\n",
              "Age              0\n",
              "SibSp            0\n",
              "Parch            0\n",
              "Ticket           0\n",
              "Fare             0\n",
              "Cabin          687\n",
              "Embarked         2\n",
              "dtype: int64"
            ]
          },
          "metadata": {
            "tags": []
          },
          "execution_count": 204
        }
      ]
    },
    {
      "cell_type": "code",
      "metadata": {
        "id": "cb2z0hiyyfQd"
      },
      "source": [
        "# Dropping the cabin column.\n",
        "train = train.drop(columns= 'Cabin', axis= 1)"
      ],
      "execution_count": 205,
      "outputs": []
    },
    {
      "cell_type": "code",
      "metadata": {
        "id": "VL8WFaEwywnP"
      },
      "source": [
        "train = train.dropna()"
      ],
      "execution_count": 206,
      "outputs": []
    },
    {
      "cell_type": "code",
      "metadata": {
        "colab": {
          "base_uri": "https://localhost:8080/"
        },
        "id": "uyMSyMnyy2DY",
        "outputId": "3d3b4200-8b5c-4dc3-82a4-f25c5f678e04"
      },
      "source": [
        "train.info()"
      ],
      "execution_count": 207,
      "outputs": [
        {
          "output_type": "stream",
          "text": [
            "<class 'pandas.core.frame.DataFrame'>\n",
            "Int64Index: 889 entries, 0 to 890\n",
            "Data columns (total 11 columns):\n",
            " #   Column       Non-Null Count  Dtype  \n",
            "---  ------       --------------  -----  \n",
            " 0   PassengerId  889 non-null    int64  \n",
            " 1   Survived     889 non-null    int64  \n",
            " 2   Pclass       889 non-null    int64  \n",
            " 3   Name         889 non-null    object \n",
            " 4   Sex          889 non-null    object \n",
            " 5   Age          889 non-null    float64\n",
            " 6   SibSp        889 non-null    int64  \n",
            " 7   Parch        889 non-null    int64  \n",
            " 8   Ticket       889 non-null    object \n",
            " 9   Fare         889 non-null    float64\n",
            " 10  Embarked     889 non-null    object \n",
            "dtypes: float64(2), int64(5), object(4)\n",
            "memory usage: 83.3+ KB\n"
          ],
          "name": "stdout"
        }
      ]
    },
    {
      "cell_type": "code",
      "metadata": {
        "id": "Bgmk34asy2Az"
      },
      "source": [
        "# Replacing null values\n",
        "test['Age'].fillna(test['Age'].median(), inplace= True)"
      ],
      "execution_count": 208,
      "outputs": []
    },
    {
      "cell_type": "code",
      "metadata": {
        "id": "a8Ccqa5LzX_F"
      },
      "source": [
        "# Dropping the cabin column.\n",
        "test = test.drop(columns= 'Cabin', axis= 1)"
      ],
      "execution_count": 209,
      "outputs": []
    },
    {
      "cell_type": "code",
      "metadata": {
        "id": "hfy18qLfzhmX"
      },
      "source": [
        "# Replacing null values\n",
        "test['Fare'].fillna(test['Fare'].mean(), inplace= True)"
      ],
      "execution_count": 210,
      "outputs": []
    },
    {
      "cell_type": "code",
      "metadata": {
        "colab": {
          "base_uri": "https://localhost:8080/"
        },
        "id": "sUWkZhAVz80l",
        "outputId": "c7944abe-48c0-4c2a-c8ba-448b7617c4f2"
      },
      "source": [
        "test.info()"
      ],
      "execution_count": 211,
      "outputs": [
        {
          "output_type": "stream",
          "text": [
            "<class 'pandas.core.frame.DataFrame'>\n",
            "RangeIndex: 418 entries, 0 to 417\n",
            "Data columns (total 10 columns):\n",
            " #   Column       Non-Null Count  Dtype  \n",
            "---  ------       --------------  -----  \n",
            " 0   PassengerId  418 non-null    int64  \n",
            " 1   Pclass       418 non-null    int64  \n",
            " 2   Name         418 non-null    object \n",
            " 3   Sex          418 non-null    object \n",
            " 4   Age          418 non-null    float64\n",
            " 5   SibSp        418 non-null    int64  \n",
            " 6   Parch        418 non-null    int64  \n",
            " 7   Ticket       418 non-null    object \n",
            " 8   Fare         418 non-null    float64\n",
            " 9   Embarked     418 non-null    object \n",
            "dtypes: float64(2), int64(4), object(4)\n",
            "memory usage: 32.8+ KB\n"
          ],
          "name": "stdout"
        }
      ]
    },
    {
      "cell_type": "code",
      "metadata": {
        "colab": {
          "base_uri": "https://localhost:8080/"
        },
        "id": "HCTlJpeT4tQh",
        "outputId": "33dee3be-5ac5-4388-f785-aa002b18f471"
      },
      "source": [
        "from sklearn.preprocessing import LabelEncoder\n",
        "# creating instance of labelencoder\n",
        "labelencoder = LabelEncoder()\n",
        "\n",
        "train['Sex_Cat'] = labelencoder.fit_transform(train['Sex'])\n",
        "train['Embarked_Cat'] = labelencoder.fit_transform(train['Embarked'])\n",
        "train.info()"
      ],
      "execution_count": 212,
      "outputs": [
        {
          "output_type": "stream",
          "text": [
            "<class 'pandas.core.frame.DataFrame'>\n",
            "Int64Index: 889 entries, 0 to 890\n",
            "Data columns (total 13 columns):\n",
            " #   Column        Non-Null Count  Dtype  \n",
            "---  ------        --------------  -----  \n",
            " 0   PassengerId   889 non-null    int64  \n",
            " 1   Survived      889 non-null    int64  \n",
            " 2   Pclass        889 non-null    int64  \n",
            " 3   Name          889 non-null    object \n",
            " 4   Sex           889 non-null    object \n",
            " 5   Age           889 non-null    float64\n",
            " 6   SibSp         889 non-null    int64  \n",
            " 7   Parch         889 non-null    int64  \n",
            " 8   Ticket        889 non-null    object \n",
            " 9   Fare          889 non-null    float64\n",
            " 10  Embarked      889 non-null    object \n",
            " 11  Sex_Cat       889 non-null    int64  \n",
            " 12  Embarked_Cat  889 non-null    int64  \n",
            "dtypes: float64(2), int64(7), object(4)\n",
            "memory usage: 97.2+ KB\n"
          ],
          "name": "stdout"
        }
      ]
    },
    {
      "cell_type": "code",
      "metadata": {
        "colab": {
          "base_uri": "https://localhost:8080/"
        },
        "id": "clpZV2pp9-Se",
        "outputId": "9fbeecbe-0e60-4b69-cefa-04c6968c96df"
      },
      "source": [
        "# Getting the IQR Score\n",
        "Q1 = spam.iloc[:, 0:56].quantile(0.25)\n",
        "Q3 = spam.iloc[:, 0:56].quantile(0.75)\n",
        "IQR = Q3 - Q1\n",
        "IQR"
      ],
      "execution_count": 213,
      "outputs": [
        {
          "output_type": "execute_result",
          "data": {
            "text/plain": [
              "word_freq_make:                 0.000\n",
              "word_freq_address:              0.000\n",
              "word_freq_all:                  0.420\n",
              "word_freq_3d:                   0.000\n",
              "word_freq_our:                  0.380\n",
              "word_freq_over:                 0.000\n",
              "word_freq_remove:               0.000\n",
              "word_freq_internet:             0.000\n",
              "word_freq_order:                0.000\n",
              "word_freq_mail:                 0.160\n",
              "word_freq_receive:              0.000\n",
              "word_freq_will:                 0.800\n",
              "word_freq_people:               0.000\n",
              "word_freq_report:               0.000\n",
              "word_freq_addresses:            0.000\n",
              "word_freq_free:                 0.100\n",
              "word_freq_business:             0.000\n",
              "word_freq_email:                0.000\n",
              "word_freq_you:                  2.640\n",
              "word_freq_credit:               0.000\n",
              "word_freq_your:                 1.270\n",
              "word_freq_font:                 0.000\n",
              "word_freq_000:                  0.000\n",
              "word_freq_money:                0.000\n",
              "word_freq_hp:                   0.000\n",
              "word_freq_hpl:                  0.000\n",
              "word_freq_george:               0.000\n",
              "word_freq_650:                  0.000\n",
              "word_freq_lab:                  0.000\n",
              "word_freq_labs:                 0.000\n",
              "word_freq_telnet:               0.000\n",
              "word_freq_857:                  0.000\n",
              "word_freq_data:                 0.000\n",
              "word_freq_415:                  0.000\n",
              "word_freq_85:                   0.000\n",
              "word_freq_technology:           0.000\n",
              "word_freq_1999:                 0.000\n",
              "word_freq_parts:                0.000\n",
              "word_freq_pm:                   0.000\n",
              "word_freq_direct:               0.000\n",
              "word_freq_cs:                   0.000\n",
              "word_freq_meeting:              0.000\n",
              "word_freq_original:             0.000\n",
              "word_freq_project:              0.000\n",
              "word_freq_re:                   0.110\n",
              "word_freq_edu:                  0.000\n",
              "word_freq_table:                0.000\n",
              "word_freq_conference:           0.000\n",
              "char_freq_;:                    0.000\n",
              "char_freq_(:                    0.188\n",
              "char_freq_[:                    0.000\n",
              "char_freq_!:                    0.315\n",
              "char_freq_$:                    0.052\n",
              "char_freq_#:                    0.000\n",
              "capital_run_length_average:     2.118\n",
              "capital_run_length_longest:    37.000\n",
              "dtype: float64"
            ]
          },
          "metadata": {
            "tags": []
          },
          "execution_count": 213
        }
      ]
    },
    {
      "cell_type": "markdown",
      "metadata": {
        "id": "j3397ctZmE6-"
      },
      "source": [
        "## 4. K - Nearest Neighbor (K-NN)"
      ]
    },
    {
      "cell_type": "code",
      "metadata": {
        "colab": {
          "base_uri": "https://localhost:8080/"
        },
        "id": "iatqaYZ30tlJ",
        "outputId": "a3bfc79a-b9aa-4b6e-8968-2ca7e8a2d8c0"
      },
      "source": [
        "train.info()"
      ],
      "execution_count": 48,
      "outputs": [
        {
          "output_type": "stream",
          "text": [
            "<class 'pandas.core.frame.DataFrame'>\n",
            "Int64Index: 889 entries, 0 to 890\n",
            "Data columns (total 13 columns):\n",
            " #   Column        Non-Null Count  Dtype  \n",
            "---  ------        --------------  -----  \n",
            " 0   PassengerId   889 non-null    int64  \n",
            " 1   Survived      889 non-null    int64  \n",
            " 2   Pclass        889 non-null    int64  \n",
            " 3   Name          889 non-null    object \n",
            " 4   Sex           889 non-null    object \n",
            " 5   Age           889 non-null    float64\n",
            " 6   SibSp         889 non-null    int64  \n",
            " 7   Parch         889 non-null    int64  \n",
            " 8   Ticket        889 non-null    object \n",
            " 9   Fare          889 non-null    float64\n",
            " 10  Embarked      889 non-null    object \n",
            " 11  Sex_Cat       889 non-null    int64  \n",
            " 12  Embarked_Cat  889 non-null    int64  \n",
            "dtypes: float64(2), int64(7), object(4)\n",
            "memory usage: 97.2+ KB\n"
          ],
          "name": "stdout"
        }
      ]
    },
    {
      "cell_type": "code",
      "metadata": {
        "id": "B7rswO-_03_c"
      },
      "source": [
        "# Splitting the independent and dependent variables\n",
        "\n",
        "X = train[['Pclass', 'Sex_Cat', 'Age', 'SibSp', 'Parch', 'Fare', 'Embarked_Cat']]\n",
        "y = train.iloc[:, 1].values"
      ],
      "execution_count": 145,
      "outputs": []
    },
    {
      "cell_type": "code",
      "metadata": {
        "id": "geDoIkfNmU9t"
      },
      "source": [
        "# Importing train_test_split\n",
        "from sklearn.model_selection import train_test_split\n",
        "\n",
        "# Training using 80% of the data.\n",
        "X_train, X_test, y_train, y_test = train_test_split(X, y, random_state= 0, test_size= 0.2)\n"
      ],
      "execution_count": 146,
      "outputs": []
    },
    {
      "cell_type": "code",
      "metadata": {
        "id": "bXpjdu612UXH"
      },
      "source": [
        "# Feature scaling\n",
        "from sklearn.preprocessing import StandardScaler\n",
        "sc = StandardScaler()\n",
        "\n",
        "X_train = sc.fit_transform(X_train)\n",
        "X_test = sc.fit_transform(X_test)"
      ],
      "execution_count": 147,
      "outputs": []
    },
    {
      "cell_type": "code",
      "metadata": {
        "colab": {
          "base_uri": "https://localhost:8080/"
        },
        "id": "JI3y6xJV55_m",
        "outputId": "2fbd6512-eb1c-47c9-cebb-c965cbe586f1"
      },
      "source": [
        "# Training and predictions\n",
        "from sklearn.neighbors import KNeighborsClassifier\n",
        "classifier = KNeighborsClassifier(n_neighbors = 4)\n",
        "classifier.fit(X_train, y_train)"
      ],
      "execution_count": 150,
      "outputs": [
        {
          "output_type": "execute_result",
          "data": {
            "text/plain": [
              "KNeighborsClassifier(algorithm='auto', leaf_size=30, metric='minkowski',\n",
              "                     metric_params=None, n_jobs=None, n_neighbors=4, p=2,\n",
              "                     weights='uniform')"
            ]
          },
          "metadata": {
            "tags": []
          },
          "execution_count": 150
        }
      ]
    },
    {
      "cell_type": "code",
      "metadata": {
        "id": "GBqSz6Uv6BiI"
      },
      "source": [
        "# Making prediction on the resting data\n",
        "\n",
        "y_pred = classifier.predict(X_test)"
      ],
      "execution_count": 151,
      "outputs": []
    },
    {
      "cell_type": "code",
      "metadata": {
        "colab": {
          "base_uri": "https://localhost:8080/"
        },
        "id": "3WzFWSMG6E_K",
        "outputId": "079a8c21-78a6-41e4-cbf3-5b23d3e0bbc1"
      },
      "source": [
        "from sklearn.metrics import classification_report, confusion_matrix\n",
        "print(confusion_matrix(y_test, y_pred))\n",
        "print(classification_report(y_test, y_pred))"
      ],
      "execution_count": 152,
      "outputs": [
        {
          "output_type": "stream",
          "text": [
            "[[90 15]\n",
            " [35 38]]\n",
            "              precision    recall  f1-score   support\n",
            "\n",
            "           0       0.72      0.86      0.78       105\n",
            "           1       0.72      0.52      0.60        73\n",
            "\n",
            "    accuracy                           0.72       178\n",
            "   macro avg       0.72      0.69      0.69       178\n",
            "weighted avg       0.72      0.72      0.71       178\n",
            "\n"
          ],
          "name": "stdout"
        }
      ]
    },
    {
      "cell_type": "code",
      "metadata": {
        "id": "nwXJfbIjCAZK"
      },
      "source": [
        "# Importing train_test_split\n",
        "from sklearn.model_selection import train_test_split\n",
        "\n",
        "# Training using 70% of the data.\n",
        "X_train, X_test, y_train, y_test = train_test_split(X, y, random_state= 0, test_size= 0.3)\n"
      ],
      "execution_count": 153,
      "outputs": []
    },
    {
      "cell_type": "code",
      "metadata": {
        "id": "RhOQxb55CFYJ"
      },
      "source": [
        "# Feature scaling\n",
        "from sklearn.preprocessing import StandardScaler\n",
        "sc = StandardScaler()\n",
        "\n",
        "X_train = sc.fit_transform(X_train)\n",
        "X_test = sc.fit_transform(X_test)"
      ],
      "execution_count": 154,
      "outputs": []
    },
    {
      "cell_type": "code",
      "metadata": {
        "colab": {
          "base_uri": "https://localhost:8080/"
        },
        "id": "-3mYc2sICIrE",
        "outputId": "59587591-ec0a-4282-9de9-4ca640df66d9"
      },
      "source": [
        "# Training and predictions\n",
        "from sklearn.neighbors import KNeighborsClassifier\n",
        "classifier = KNeighborsClassifier(n_neighbors = 4)\n",
        "classifier.fit(X_train, y_train)"
      ],
      "execution_count": 155,
      "outputs": [
        {
          "output_type": "execute_result",
          "data": {
            "text/plain": [
              "KNeighborsClassifier(algorithm='auto', leaf_size=30, metric='minkowski',\n",
              "                     metric_params=None, n_jobs=None, n_neighbors=4, p=2,\n",
              "                     weights='uniform')"
            ]
          },
          "metadata": {
            "tags": []
          },
          "execution_count": 155
        }
      ]
    },
    {
      "cell_type": "code",
      "metadata": {
        "id": "NY_LcR2JCMMs"
      },
      "source": [
        "# Making prediction on the resting data\n",
        "\n",
        "y_pred = classifier.predict(X_test)"
      ],
      "execution_count": 156,
      "outputs": []
    },
    {
      "cell_type": "code",
      "metadata": {
        "colab": {
          "base_uri": "https://localhost:8080/"
        },
        "id": "-BbFPoIKCPuJ",
        "outputId": "955d7df9-5b8f-4886-bf69-cccb689330ba"
      },
      "source": [
        "from sklearn.metrics import classification_report, confusion_matrix\n",
        "print(confusion_matrix(y_test, y_pred))\n",
        "print(classification_report(y_test, y_pred))"
      ],
      "execution_count": 157,
      "outputs": [
        {
          "output_type": "stream",
          "text": [
            "[[140  17]\n",
            " [ 43  67]]\n",
            "              precision    recall  f1-score   support\n",
            "\n",
            "           0       0.77      0.89      0.82       157\n",
            "           1       0.80      0.61      0.69       110\n",
            "\n",
            "    accuracy                           0.78       267\n",
            "   macro avg       0.78      0.75      0.76       267\n",
            "weighted avg       0.78      0.78      0.77       267\n",
            "\n"
          ],
          "name": "stdout"
        }
      ]
    },
    {
      "cell_type": "code",
      "metadata": {
        "id": "it-MArKcEl7q"
      },
      "source": [
        "# Importing train_test_split\n",
        "from sklearn.model_selection import train_test_split\n",
        "\n",
        "# Training using 60% of the data.\n",
        "X_train, X_test, y_train, y_test = train_test_split(X, y, random_state= 0, test_size= 0.4)"
      ],
      "execution_count": 159,
      "outputs": []
    },
    {
      "cell_type": "code",
      "metadata": {
        "id": "z2hX-QBpEp6o"
      },
      "source": [
        "# Feature scaling\n",
        "from sklearn.preprocessing import StandardScaler\n",
        "sc = StandardScaler()\n",
        "\n",
        "X_train = sc.fit_transform(X_train)\n",
        "X_test = sc.fit_transform(X_test)"
      ],
      "execution_count": 160,
      "outputs": []
    },
    {
      "cell_type": "code",
      "metadata": {
        "colab": {
          "base_uri": "https://localhost:8080/"
        },
        "id": "Kiys2RJBEzZh",
        "outputId": "8a50ce3f-54c0-4495-c370-b6b103c9ebb9"
      },
      "source": [
        "# Training and predictions\n",
        "from sklearn.neighbors import KNeighborsClassifier\n",
        "classifier = KNeighborsClassifier(n_neighbors = 4)\n",
        "classifier.fit(X_train, y_train)"
      ],
      "execution_count": 161,
      "outputs": [
        {
          "output_type": "execute_result",
          "data": {
            "text/plain": [
              "KNeighborsClassifier(algorithm='auto', leaf_size=30, metric='minkowski',\n",
              "                     metric_params=None, n_jobs=None, n_neighbors=4, p=2,\n",
              "                     weights='uniform')"
            ]
          },
          "metadata": {
            "tags": []
          },
          "execution_count": 161
        }
      ]
    },
    {
      "cell_type": "code",
      "metadata": {
        "id": "M4vZeCbOE4wn"
      },
      "source": [
        "# Making prediction on the resting data\n",
        "\n",
        "y_pred = classifier.predict(X_test)"
      ],
      "execution_count": 162,
      "outputs": []
    },
    {
      "cell_type": "code",
      "metadata": {
        "colab": {
          "base_uri": "https://localhost:8080/"
        },
        "id": "ErXiXreuE-UN",
        "outputId": "690b5e43-bcd6-47d5-b3f7-6132db9b0c35"
      },
      "source": [
        "from sklearn.metrics import classification_report, confusion_matrix\n",
        "print(confusion_matrix(y_test, y_pred))\n",
        "print(classification_report(y_test, y_pred))"
      ],
      "execution_count": 163,
      "outputs": [
        {
          "output_type": "stream",
          "text": [
            "[[187  29]\n",
            " [ 54  86]]\n",
            "              precision    recall  f1-score   support\n",
            "\n",
            "           0       0.78      0.87      0.82       216\n",
            "           1       0.75      0.61      0.67       140\n",
            "\n",
            "    accuracy                           0.77       356\n",
            "   macro avg       0.76      0.74      0.75       356\n",
            "weighted avg       0.76      0.77      0.76       356\n",
            "\n"
          ],
          "name": "stdout"
        }
      ]
    },
    {
      "cell_type": "markdown",
      "metadata": {
        "id": "hwWlrL4j5DD1"
      },
      "source": [
        "### LDA with KNN"
      ]
    },
    {
      "cell_type": "code",
      "metadata": {
        "colab": {
          "base_uri": "https://localhost:8080/"
        },
        "id": "rn1i5sJhK0P9",
        "outputId": "56bfe98f-9242-4d09-ea5e-8c12665a8321"
      },
      "source": [
        "train.info()"
      ],
      "execution_count": 164,
      "outputs": [
        {
          "output_type": "stream",
          "text": [
            "<class 'pandas.core.frame.DataFrame'>\n",
            "Int64Index: 889 entries, 0 to 890\n",
            "Data columns (total 13 columns):\n",
            " #   Column        Non-Null Count  Dtype  \n",
            "---  ------        --------------  -----  \n",
            " 0   PassengerId   889 non-null    int64  \n",
            " 1   Survived      889 non-null    int64  \n",
            " 2   Pclass        889 non-null    int64  \n",
            " 3   Name          889 non-null    object \n",
            " 4   Sex           889 non-null    object \n",
            " 5   Age           889 non-null    float64\n",
            " 6   SibSp         889 non-null    int64  \n",
            " 7   Parch         889 non-null    int64  \n",
            " 8   Ticket        889 non-null    object \n",
            " 9   Fare          889 non-null    float64\n",
            " 10  Embarked      889 non-null    object \n",
            " 11  Sex_Cat       889 non-null    int64  \n",
            " 12  Embarked_Cat  889 non-null    int64  \n",
            "dtypes: float64(2), int64(7), object(4)\n",
            "memory usage: 97.2+ KB\n"
          ],
          "name": "stdout"
        }
      ]
    },
    {
      "cell_type": "code",
      "metadata": {
        "id": "Tk1yZb8OK-_g"
      },
      "source": [
        "# Splitting the independent and dependent variables\n",
        "\n",
        "X = train[['Pclass', 'Sex_Cat', 'Age', 'SibSp', 'Parch', 'Fare', 'Embarked_Cat']]\n",
        "y = train.iloc[:, 1].values"
      ],
      "execution_count": 165,
      "outputs": []
    },
    {
      "cell_type": "code",
      "metadata": {
        "colab": {
          "base_uri": "https://localhost:8080/"
        },
        "id": "pUku288t2hbO",
        "outputId": "6134ecda-9c37-4fd3-8133-96ddd0aa6f56"
      },
      "source": [
        "# Peforming LDA\n",
        "from sklearn.discriminant_analysis import LinearDiscriminantAnalysis as LDA\n",
        "lda = LDA(n_components= 5)\n",
        "X_train = lda.fit_transform(X_train, y_train)\n",
        "X_test = lda.transform(X_test)"
      ],
      "execution_count": 166,
      "outputs": [
        {
          "output_type": "stream",
          "text": [
            "/usr/local/lib/python3.7/dist-packages/sklearn/discriminant_analysis.py:463: ChangedBehaviorWarning: n_components cannot be larger than min(n_features, n_classes - 1). Using min(n_features, n_classes - 1) = min(7, 2 - 1) = 1 components.\n",
            "  ChangedBehaviorWarning)\n",
            "/usr/local/lib/python3.7/dist-packages/sklearn/discriminant_analysis.py:469: FutureWarning: In version 0.23, setting n_components > min(n_features, n_classes - 1) will raise a ValueError. You should set n_components to None (default), or a value smaller or equal to min(n_features, n_classes - 1).\n",
            "  warnings.warn(future_msg, FutureWarning)\n"
          ],
          "name": "stderr"
        }
      ]
    },
    {
      "cell_type": "code",
      "metadata": {
        "id": "yCamF3CVLGZo"
      },
      "source": [
        "# Training and predictions\n",
        "from sklearn.neighbors import KNeighborsClassifier\n",
        "classifier = KNeighborsClassifier(n_neighbors = 5)\n",
        "classifier.fit(X_train, y_train)\n",
        "\n",
        "# Making prediction on the resting data\n",
        "\n",
        "y_pred = classifier.predict(X_test)"
      ],
      "execution_count": 167,
      "outputs": []
    },
    {
      "cell_type": "code",
      "metadata": {
        "colab": {
          "base_uri": "https://localhost:8080/"
        },
        "id": "Mpm_ufPjK5HO",
        "outputId": "0377fd30-7e22-4391-dfbb-dfad564f6a99"
      },
      "source": [
        "from sklearn.metrics import classification_report, confusion_matrix\n",
        "print(confusion_matrix(y_test, y_pred))\n",
        "print(classification_report(y_test, y_pred))"
      ],
      "execution_count": 168,
      "outputs": [
        {
          "output_type": "stream",
          "text": [
            "[[179  37]\n",
            " [ 59  81]]\n",
            "              precision    recall  f1-score   support\n",
            "\n",
            "           0       0.75      0.83      0.79       216\n",
            "           1       0.69      0.58      0.63       140\n",
            "\n",
            "    accuracy                           0.73       356\n",
            "   macro avg       0.72      0.70      0.71       356\n",
            "weighted avg       0.73      0.73      0.73       356\n",
            "\n"
          ],
          "name": "stdout"
        }
      ]
    },
    {
      "cell_type": "markdown",
      "metadata": {
        "id": "yOebL35-FAPP"
      },
      "source": [
        "## 5. Naive Bayes Classifier"
      ]
    },
    {
      "cell_type": "code",
      "metadata": {
        "colab": {
          "base_uri": "https://localhost:8080/"
        },
        "id": "CkKPWCEi3Uvo",
        "outputId": "1ab2e8ba-f45d-4fbc-c849-68c2cbca6b5c"
      },
      "source": [
        "spam.info()"
      ],
      "execution_count": 214,
      "outputs": [
        {
          "output_type": "stream",
          "text": [
            "<class 'pandas.core.frame.DataFrame'>\n",
            "RangeIndex: 4601 entries, 0 to 4600\n",
            "Data columns (total 58 columns):\n",
            " #   Column                       Non-Null Count  Dtype  \n",
            "---  ------                       --------------  -----  \n",
            " 0   word_freq_make:              4601 non-null   float64\n",
            " 1   word_freq_address:           4601 non-null   float64\n",
            " 2   word_freq_all:               4601 non-null   float64\n",
            " 3   word_freq_3d:                4601 non-null   float64\n",
            " 4   word_freq_our:               4601 non-null   float64\n",
            " 5   word_freq_over:              4601 non-null   float64\n",
            " 6   word_freq_remove:            4601 non-null   float64\n",
            " 7   word_freq_internet:          4601 non-null   float64\n",
            " 8   word_freq_order:             4601 non-null   float64\n",
            " 9   word_freq_mail:              4601 non-null   float64\n",
            " 10  word_freq_receive:           4601 non-null   float64\n",
            " 11  word_freq_will:              4601 non-null   float64\n",
            " 12  word_freq_people:            4601 non-null   float64\n",
            " 13  word_freq_report:            4601 non-null   float64\n",
            " 14  word_freq_addresses:         4601 non-null   float64\n",
            " 15  word_freq_free:              4601 non-null   float64\n",
            " 16  word_freq_business:          4601 non-null   float64\n",
            " 17  word_freq_email:             4601 non-null   float64\n",
            " 18  word_freq_you:               4601 non-null   float64\n",
            " 19  word_freq_credit:            4601 non-null   float64\n",
            " 20  word_freq_your:              4601 non-null   float64\n",
            " 21  word_freq_font:              4601 non-null   float64\n",
            " 22  word_freq_000:               4601 non-null   float64\n",
            " 23  word_freq_money:             4601 non-null   float64\n",
            " 24  word_freq_hp:                4601 non-null   float64\n",
            " 25  word_freq_hpl:               4601 non-null   float64\n",
            " 26  word_freq_george:            4601 non-null   float64\n",
            " 27  word_freq_650:               4601 non-null   float64\n",
            " 28  word_freq_lab:               4601 non-null   float64\n",
            " 29  word_freq_labs:              4601 non-null   float64\n",
            " 30  word_freq_telnet:            4601 non-null   float64\n",
            " 31  word_freq_857:               4601 non-null   float64\n",
            " 32  word_freq_data:              4601 non-null   float64\n",
            " 33  word_freq_415:               4601 non-null   float64\n",
            " 34  word_freq_85:                4601 non-null   float64\n",
            " 35  word_freq_technology:        4601 non-null   float64\n",
            " 36  word_freq_1999:              4601 non-null   float64\n",
            " 37  word_freq_parts:             4601 non-null   float64\n",
            " 38  word_freq_pm:                4601 non-null   float64\n",
            " 39  word_freq_direct:            4601 non-null   float64\n",
            " 40  word_freq_cs:                4601 non-null   float64\n",
            " 41  word_freq_meeting:           4601 non-null   float64\n",
            " 42  word_freq_original:          4601 non-null   float64\n",
            " 43  word_freq_project:           4601 non-null   float64\n",
            " 44  word_freq_re:                4601 non-null   float64\n",
            " 45  word_freq_edu:               4601 non-null   float64\n",
            " 46  word_freq_table:             4601 non-null   float64\n",
            " 47  word_freq_conference:        4601 non-null   float64\n",
            " 48  char_freq_;:                 4601 non-null   float64\n",
            " 49  char_freq_(:                 4601 non-null   float64\n",
            " 50  char_freq_[:                 4601 non-null   float64\n",
            " 51  char_freq_!:                 4601 non-null   float64\n",
            " 52  char_freq_$:                 4601 non-null   float64\n",
            " 53  char_freq_#:                 4601 non-null   float64\n",
            " 54  capital_run_length_average:  4601 non-null   float64\n",
            " 55  capital_run_length_longest:  4601 non-null   int64  \n",
            " 56  capital_run_length_total:    4601 non-null   int64  \n",
            " 57  spam                         4601 non-null   int64  \n",
            "dtypes: float64(55), int64(3)\n",
            "memory usage: 2.0 MB\n"
          ],
          "name": "stdout"
        }
      ]
    },
    {
      "cell_type": "code",
      "metadata": {
        "id": "6r7W9JCF3S-n"
      },
      "source": [
        "# Implementing the Solution\n",
        "# Splitting the dataset\n",
        "X = spam.iloc[:, 0:56].values\n",
        "y = spam.iloc[:, 57].values"
      ],
      "execution_count": 215,
      "outputs": []
    },
    {
      "cell_type": "code",
      "metadata": {
        "id": "Lpthf-R03hf7"
      },
      "source": [
        "# Importing train_test_split\n",
        "from sklearn.model_selection import train_test_split\n",
        "\n",
        "# Training using 80% of the data.\n",
        "X_train, X_test, y_train, y_test = train_test_split(X, y, random_state= 0, test_size= 0.2)"
      ],
      "execution_count": 216,
      "outputs": []
    },
    {
      "cell_type": "code",
      "metadata": {
        "id": "qxDAHFRr3yMM"
      },
      "source": [
        "# Training our model\n",
        "#\n",
        "from sklearn.naive_bayes import GaussianNB \n",
        "clf = GaussianNB()  \n",
        "model = clf.fit(X_train, y_train) \n"
      ],
      "execution_count": 217,
      "outputs": []
    },
    {
      "cell_type": "code",
      "metadata": {
        "id": "IR7aRR3s387T"
      },
      "source": [
        "# Making prediction on the resting data\n",
        "\n",
        "y_pred = model.predict(X_test)"
      ],
      "execution_count": 218,
      "outputs": []
    },
    {
      "cell_type": "code",
      "metadata": {
        "colab": {
          "base_uri": "https://localhost:8080/"
        },
        "id": "RFmnEU9e4E4p",
        "outputId": "989f2183-1634-4f5e-f9d4-f91c867079a3"
      },
      "source": [
        "from sklearn.metrics import classification_report, confusion_matrix\n",
        "print(confusion_matrix(y_test, y_pred))\n",
        "print(classification_report(y_test, y_pred))"
      ],
      "execution_count": 219,
      "outputs": [
        {
          "output_type": "stream",
          "text": [
            "[[387 151]\n",
            " [ 28 355]]\n",
            "              precision    recall  f1-score   support\n",
            "\n",
            "           0       0.93      0.72      0.81       538\n",
            "           1       0.70      0.93      0.80       383\n",
            "\n",
            "    accuracy                           0.81       921\n",
            "   macro avg       0.82      0.82      0.81       921\n",
            "weighted avg       0.84      0.81      0.81       921\n",
            "\n"
          ],
          "name": "stdout"
        }
      ]
    },
    {
      "cell_type": "code",
      "metadata": {
        "id": "whCeauP64qQj"
      },
      "source": [
        "# Importing train_test_split\n",
        "from sklearn.model_selection import train_test_split\n",
        "\n",
        "# Training using 70% of the data.\n",
        "X_train, X_test, y_train, y_test = train_test_split(X, y, random_state= 0, test_size= 0.3)"
      ],
      "execution_count": 220,
      "outputs": []
    },
    {
      "cell_type": "code",
      "metadata": {
        "id": "AE0dqNrR4yvD"
      },
      "source": [
        "# Training the model\n",
        "#\n",
        "from sklearn.naive_bayes import GaussianNB \n",
        "clf = GaussianNB()  \n",
        "model = clf.fit(X_train, y_train) \n"
      ],
      "execution_count": 221,
      "outputs": []
    },
    {
      "cell_type": "code",
      "metadata": {
        "id": "8LqHCjTp4z49"
      },
      "source": [
        "# Making prediction on the resting data\n",
        "\n",
        "y_pred = model.predict(X_test)"
      ],
      "execution_count": 222,
      "outputs": []
    },
    {
      "cell_type": "code",
      "metadata": {
        "colab": {
          "base_uri": "https://localhost:8080/"
        },
        "id": "uA91Vl2G5WM-",
        "outputId": "b3498ad4-9221-4e6e-de84-c23db25adc1c"
      },
      "source": [
        "from sklearn.metrics import classification_report, confusion_matrix\n",
        "print(confusion_matrix(y_test, y_pred))\n",
        "print(classification_report(y_test, y_pred))"
      ],
      "execution_count": 223,
      "outputs": [
        {
          "output_type": "stream",
          "text": [
            "[[598 224]\n",
            " [ 37 522]]\n",
            "              precision    recall  f1-score   support\n",
            "\n",
            "           0       0.94      0.73      0.82       822\n",
            "           1       0.70      0.93      0.80       559\n",
            "\n",
            "    accuracy                           0.81      1381\n",
            "   macro avg       0.82      0.83      0.81      1381\n",
            "weighted avg       0.84      0.81      0.81      1381\n",
            "\n"
          ],
          "name": "stdout"
        }
      ]
    },
    {
      "cell_type": "code",
      "metadata": {
        "id": "YvHqquAH5gcU"
      },
      "source": [
        "# Importing train_test_split\n",
        "from sklearn.model_selection import train_test_split\n",
        "\n",
        "# Training using 60% of the data.\n",
        "X_train, X_test, y_train, y_test = train_test_split(X, y, random_state= 0, test_size= 0.4)"
      ],
      "execution_count": 224,
      "outputs": []
    },
    {
      "cell_type": "code",
      "metadata": {
        "id": "7xck9ubx5ory"
      },
      "source": [
        "# Training the model\n",
        "#\n",
        "from sklearn.naive_bayes import GaussianNB \n",
        "clf = GaussianNB()  \n",
        "model = clf.fit(X_train, y_train) \n"
      ],
      "execution_count": 225,
      "outputs": []
    },
    {
      "cell_type": "code",
      "metadata": {
        "id": "BRpee7Ti5rhv"
      },
      "source": [
        "# Making prediction on the resting data\n",
        "\n",
        "y_pred = model.predict(X_test)"
      ],
      "execution_count": 226,
      "outputs": []
    },
    {
      "cell_type": "code",
      "metadata": {
        "colab": {
          "base_uri": "https://localhost:8080/"
        },
        "id": "Lx2KFDY95uBe",
        "outputId": "11cf6049-e3e0-4a47-aba2-050c804a4430"
      },
      "source": [
        "from sklearn.metrics import classification_report, confusion_matrix\n",
        "print(confusion_matrix(y_test, y_pred))\n",
        "print(classification_report(y_test, y_pred))"
      ],
      "execution_count": 227,
      "outputs": [
        {
          "output_type": "stream",
          "text": [
            "[[817 280]\n",
            " [ 45 699]]\n",
            "              precision    recall  f1-score   support\n",
            "\n",
            "           0       0.95      0.74      0.83      1097\n",
            "           1       0.71      0.94      0.81       744\n",
            "\n",
            "    accuracy                           0.82      1841\n",
            "   macro avg       0.83      0.84      0.82      1841\n",
            "weighted avg       0.85      0.82      0.82      1841\n",
            "\n"
          ],
          "name": "stdout"
        }
      ]
    },
    {
      "cell_type": "markdown",
      "metadata": {
        "id": "mcshAU6WjEGR"
      },
      "source": [
        "\n",
        "### Normalization"
      ]
    },
    {
      "cell_type": "code",
      "metadata": {
        "id": "YtlJqBMibtb_"
      },
      "source": [
        "# Importing train_test_split\n",
        "from sklearn.model_selection import train_test_split\n",
        "\n",
        "# Training using 60% of the data.\n",
        "X_train, X_test, y_train, y_test = train_test_split(X, y, random_state= 0, test_size= 0.4)"
      ],
      "execution_count": 236,
      "outputs": []
    },
    {
      "cell_type": "code",
      "metadata": {
        "id": "U7YEuuhPZ6Bp"
      },
      "source": [
        "from sklearn.preprocessing import Normalizer\n",
        "# Create normalizer\n",
        "normalizer = Normalizer(norm='l1')\n",
        "\n",
        "# Transform feature matrix\n",
        "X_train = normalizer.transform(X_train)"
      ],
      "execution_count": 245,
      "outputs": []
    },
    {
      "cell_type": "code",
      "metadata": {
        "id": "at3QgJwGbgrz"
      },
      "source": [
        "# Training the model\n",
        "#\n",
        "from sklearn.naive_bayes import GaussianNB \n",
        "clf = GaussianNB()  \n",
        "model = clf.fit(X_train, y_train) \n"
      ],
      "execution_count": 246,
      "outputs": []
    },
    {
      "cell_type": "code",
      "metadata": {
        "id": "dYPLY18ib1zm"
      },
      "source": [
        "# Making prediction on the resting data\n",
        "\n",
        "y_pred = model.predict(X_test)"
      ],
      "execution_count": 247,
      "outputs": []
    },
    {
      "cell_type": "code",
      "metadata": {
        "colab": {
          "base_uri": "https://localhost:8080/"
        },
        "id": "2e4UOC6ob5IM",
        "outputId": "a0a01332-f3a6-4d1c-9f2c-fbd9278306a1"
      },
      "source": [
        "from sklearn.metrics import classification_report, confusion_matrix\n",
        "print(confusion_matrix(y_test, y_pred))\n",
        "print(classification_report(y_test, y_pred))"
      ],
      "execution_count": 248,
      "outputs": [
        {
          "output_type": "stream",
          "text": [
            "[[1074   23]\n",
            " [ 487  257]]\n",
            "              precision    recall  f1-score   support\n",
            "\n",
            "           0       0.69      0.98      0.81      1097\n",
            "           1       0.92      0.35      0.50       744\n",
            "\n",
            "    accuracy                           0.72      1841\n",
            "   macro avg       0.80      0.66      0.66      1841\n",
            "weighted avg       0.78      0.72      0.68      1841\n",
            "\n"
          ],
          "name": "stdout"
        }
      ]
    },
    {
      "cell_type": "markdown",
      "metadata": {
        "id": "xrmHVMVsVS--"
      },
      "source": [
        "## 6. Follow up questions"
      ]
    },
    {
      "cell_type": "markdown",
      "metadata": {
        "id": "HPQviDmNtta8"
      },
      "source": [
        "### a). Did we have the right data?"
      ]
    },
    {
      "cell_type": "markdown",
      "metadata": {
        "id": "8vo0ljNYmG-b"
      },
      "source": [
        "The data available was sufficient to meet the requirements of the question"
      ]
    },
    {
      "cell_type": "markdown",
      "metadata": {
        "id": "qjFHK1CKty7o"
      },
      "source": [
        "### b). Do we need other data to answer our question?"
      ]
    },
    {
      "cell_type": "markdown",
      "metadata": {
        "id": "0-HszZNkmRms"
      },
      "source": [
        "More features should be considered to ensure the accuracy of the model. "
      ]
    },
    {
      "cell_type": "markdown",
      "metadata": {
        "id": "HSsicSdvt4Zs"
      },
      "source": [
        "### c). Did we have the right question?"
      ]
    },
    {
      "cell_type": "markdown",
      "metadata": {
        "id": "MsyrZn1Gmaky"
      },
      "source": [
        "We did have the right questions."
      ]
    }
  ]
}