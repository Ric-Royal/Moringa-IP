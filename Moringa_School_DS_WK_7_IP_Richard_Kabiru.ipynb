{
  "nbformat": 4,
  "nbformat_minor": 0,
  "metadata": {
    "colab": {
      "name": "Moringa_School_DS_WK_7_IP_Richard_Kabiru",
      "provenance": [],
      "collapsed_sections": [
        "kLG2VTrnTvYL",
        "iUNbvIvnT7ep",
        "OI3P3YnHUEBk",
        "ckfufNrcUHeH",
        "FlBMxEDBUc9B",
        "rF2ABPsHUtbZ",
        "fp5dq0Na57qR",
        "MzlVAYhrviAW",
        "tfxMIU5_nLqb",
        "SrgxE6S4ZNpq",
        "XAVW-AvwoXGV",
        "xrmHVMVsVS--",
        "HPQviDmNtta8",
        "qjFHK1CKty7o",
        "HSsicSdvt4Zs"
      ],
      "include_colab_link": true
    },
    "kernelspec": {
      "name": "python3",
      "display_name": "Python 3"
    }
  },
  "cells": [
    {
      "cell_type": "markdown",
      "metadata": {
        "id": "view-in-github",
        "colab_type": "text"
      },
      "source": [
        "<a href=\"https://colab.research.google.com/github/Ric-Royal/Moringa-IP/blob/master/Moringa_School_DS_WK_7_IP_Richard_Kabiru.ipynb\" target=\"_parent\"><img src=\"https://colab.research.google.com/assets/colab-badge.svg\" alt=\"Open In Colab\"/></a>"
      ]
    },
    {
      "cell_type": "markdown",
      "metadata": {
        "id": "kLG2VTrnTvYL"
      },
      "source": [
        "## 1. Defining the Question"
      ]
    },
    {
      "cell_type": "markdown",
      "metadata": {
        "id": "XecOwPNorl2W"
      },
      "source": [
        "### a) Specifying the Question"
      ]
    },
    {
      "cell_type": "markdown",
      "metadata": {
        "id": "8l3-hBO6bODP"
      },
      "source": [
        "How do various predictor variables affect real estate prices (target variable)?"
      ]
    },
    {
      "cell_type": "markdown",
      "metadata": {
        "id": "J4wfHZwQrs-t"
      },
      "source": [
        "### b) Defining the Metric for Success"
      ]
    },
    {
      "cell_type": "markdown",
      "metadata": {
        "id": "33zqiSdVm9Bl"
      },
      "source": [
        "Model should have a minimum of 80% accuracy"
      ]
    },
    {
      "cell_type": "markdown",
      "metadata": {
        "id": "a9BPYqunry97"
      },
      "source": [
        "### c) Understanding the context "
      ]
    },
    {
      "cell_type": "markdown",
      "metadata": {
        "id": "RfcF6eZCnFpC"
      },
      "source": [
        "Hass Consult limited is a company with over 25 years experience in the real estate sector. They conduct market analysis to identify different valuations of real estate property across the country."
      ]
    },
    {
      "cell_type": "markdown",
      "metadata": {
        "id": "7KMRBJ7zr9HD"
      },
      "source": [
        "### d) Recording the Experimental Design"
      ]
    },
    {
      "cell_type": "markdown",
      "metadata": {
        "id": "k_0U6uDgna8t"
      },
      "source": [
        "CRISP-DM methodology was used."
      ]
    },
    {
      "cell_type": "markdown",
      "metadata": {
        "id": "iUNbvIvnT7ep"
      },
      "source": [
        "## 2. Reading the Data"
      ]
    },
    {
      "cell_type": "code",
      "metadata": {
        "id": "mWutF-7SAT37"
      },
      "source": [
        "# Importing libraries\n",
        "#\n",
        "import pandas as pd\n",
        "import numpy as np\n",
        "import matplotlib.pyplot as plt\n",
        "import seaborn as sns\n"
      ],
      "execution_count": null,
      "outputs": []
    },
    {
      "cell_type": "code",
      "metadata": {
        "id": "XJn2KjW-WMlG"
      },
      "source": [
        "# Loading the Dataset\n",
        "#\n",
        "house = pd.read_csv('house_data.csv')\n"
      ],
      "execution_count": null,
      "outputs": []
    },
    {
      "cell_type": "code",
      "metadata": {
        "colab": {
          "base_uri": "https://localhost:8080/"
        },
        "id": "B89TBoHgAQaR",
        "outputId": "593d27ef-b357-4e82-c006-9c096a899830"
      },
      "source": [
        "house[:5]"
      ],
      "execution_count": null,
      "outputs": [
        {
          "output_type": "execute_result",
          "data": {
            "text/html": [
              "<div>\n",
              "<style scoped>\n",
              "    .dataframe tbody tr th:only-of-type {\n",
              "        vertical-align: middle;\n",
              "    }\n",
              "\n",
              "    .dataframe tbody tr th {\n",
              "        vertical-align: top;\n",
              "    }\n",
              "\n",
              "    .dataframe thead th {\n",
              "        text-align: right;\n",
              "    }\n",
              "</style>\n",
              "<table border=\"1\" class=\"dataframe\">\n",
              "  <thead>\n",
              "    <tr style=\"text-align: right;\">\n",
              "      <th></th>\n",
              "      <th>id</th>\n",
              "      <th>price</th>\n",
              "      <th>bedrooms</th>\n",
              "      <th>bathrooms</th>\n",
              "      <th>sqft_living</th>\n",
              "      <th>sqft_lot</th>\n",
              "      <th>floors</th>\n",
              "      <th>waterfront</th>\n",
              "      <th>view</th>\n",
              "      <th>condition</th>\n",
              "      <th>grade</th>\n",
              "      <th>sqft_above</th>\n",
              "      <th>sqft_basement</th>\n",
              "      <th>yr_built</th>\n",
              "      <th>yr_renovated</th>\n",
              "      <th>zipcode</th>\n",
              "      <th>lat</th>\n",
              "      <th>long</th>\n",
              "      <th>sqft_living15</th>\n",
              "      <th>sqft_lot15</th>\n",
              "    </tr>\n",
              "  </thead>\n",
              "  <tbody>\n",
              "    <tr>\n",
              "      <th>0</th>\n",
              "      <td>7129300520</td>\n",
              "      <td>221900.0</td>\n",
              "      <td>3</td>\n",
              "      <td>1.00</td>\n",
              "      <td>1180</td>\n",
              "      <td>5650</td>\n",
              "      <td>1.0</td>\n",
              "      <td>0</td>\n",
              "      <td>0</td>\n",
              "      <td>3</td>\n",
              "      <td>7</td>\n",
              "      <td>1180</td>\n",
              "      <td>0</td>\n",
              "      <td>1955</td>\n",
              "      <td>0</td>\n",
              "      <td>98178</td>\n",
              "      <td>47.5112</td>\n",
              "      <td>-122.257</td>\n",
              "      <td>1340</td>\n",
              "      <td>5650</td>\n",
              "    </tr>\n",
              "    <tr>\n",
              "      <th>1</th>\n",
              "      <td>6414100192</td>\n",
              "      <td>538000.0</td>\n",
              "      <td>3</td>\n",
              "      <td>2.25</td>\n",
              "      <td>2570</td>\n",
              "      <td>7242</td>\n",
              "      <td>2.0</td>\n",
              "      <td>0</td>\n",
              "      <td>0</td>\n",
              "      <td>3</td>\n",
              "      <td>7</td>\n",
              "      <td>2170</td>\n",
              "      <td>400</td>\n",
              "      <td>1951</td>\n",
              "      <td>1991</td>\n",
              "      <td>98125</td>\n",
              "      <td>47.7210</td>\n",
              "      <td>-122.319</td>\n",
              "      <td>1690</td>\n",
              "      <td>7639</td>\n",
              "    </tr>\n",
              "    <tr>\n",
              "      <th>2</th>\n",
              "      <td>5631500400</td>\n",
              "      <td>180000.0</td>\n",
              "      <td>2</td>\n",
              "      <td>1.00</td>\n",
              "      <td>770</td>\n",
              "      <td>10000</td>\n",
              "      <td>1.0</td>\n",
              "      <td>0</td>\n",
              "      <td>0</td>\n",
              "      <td>3</td>\n",
              "      <td>6</td>\n",
              "      <td>770</td>\n",
              "      <td>0</td>\n",
              "      <td>1933</td>\n",
              "      <td>0</td>\n",
              "      <td>98028</td>\n",
              "      <td>47.7379</td>\n",
              "      <td>-122.233</td>\n",
              "      <td>2720</td>\n",
              "      <td>8062</td>\n",
              "    </tr>\n",
              "    <tr>\n",
              "      <th>3</th>\n",
              "      <td>2487200875</td>\n",
              "      <td>604000.0</td>\n",
              "      <td>4</td>\n",
              "      <td>3.00</td>\n",
              "      <td>1960</td>\n",
              "      <td>5000</td>\n",
              "      <td>1.0</td>\n",
              "      <td>0</td>\n",
              "      <td>0</td>\n",
              "      <td>5</td>\n",
              "      <td>7</td>\n",
              "      <td>1050</td>\n",
              "      <td>910</td>\n",
              "      <td>1965</td>\n",
              "      <td>0</td>\n",
              "      <td>98136</td>\n",
              "      <td>47.5208</td>\n",
              "      <td>-122.393</td>\n",
              "      <td>1360</td>\n",
              "      <td>5000</td>\n",
              "    </tr>\n",
              "    <tr>\n",
              "      <th>4</th>\n",
              "      <td>1954400510</td>\n",
              "      <td>510000.0</td>\n",
              "      <td>3</td>\n",
              "      <td>2.00</td>\n",
              "      <td>1680</td>\n",
              "      <td>8080</td>\n",
              "      <td>1.0</td>\n",
              "      <td>0</td>\n",
              "      <td>0</td>\n",
              "      <td>3</td>\n",
              "      <td>8</td>\n",
              "      <td>1680</td>\n",
              "      <td>0</td>\n",
              "      <td>1987</td>\n",
              "      <td>0</td>\n",
              "      <td>98074</td>\n",
              "      <td>47.6168</td>\n",
              "      <td>-122.045</td>\n",
              "      <td>1800</td>\n",
              "      <td>7503</td>\n",
              "    </tr>\n",
              "  </tbody>\n",
              "</table>\n",
              "</div>"
            ],
            "text/plain": [
              "           id     price  bedrooms  ...     long  sqft_living15  sqft_lot15\n",
              "0  7129300520  221900.0         3  ... -122.257           1340        5650\n",
              "1  6414100192  538000.0         3  ... -122.319           1690        7639\n",
              "2  5631500400  180000.0         2  ... -122.233           2720        8062\n",
              "3  2487200875  604000.0         4  ... -122.393           1360        5000\n",
              "4  1954400510  510000.0         3  ... -122.045           1800        7503\n",
              "\n",
              "[5 rows x 20 columns]"
            ]
          },
          "metadata": {
            "tags": []
          },
          "execution_count": 4
        }
      ]
    },
    {
      "cell_type": "markdown",
      "metadata": {
        "id": "OI3P3YnHUEBk"
      },
      "source": [
        "## 3. Checking the Data"
      ]
    },
    {
      "cell_type": "code",
      "metadata": {
        "id": "YjSVNwgptHxY",
        "colab": {
          "base_uri": "https://localhost:8080/"
        },
        "outputId": "6d94df29-f584-4166-c398-c15685af7af1"
      },
      "source": [
        "# Determining the no. of records in our house dataset\n",
        "#\n",
        "house.shape"
      ],
      "execution_count": null,
      "outputs": [
        {
          "output_type": "execute_result",
          "data": {
            "text/plain": [
              "(21613, 20)"
            ]
          },
          "metadata": {
            "tags": []
          },
          "execution_count": 5
        }
      ]
    },
    {
      "cell_type": "code",
      "metadata": {
        "id": "xHhTw5eKWr0n",
        "colab": {
          "base_uri": "https://localhost:8080/"
        },
        "outputId": "7ba9a405-9c35-4fd4-db82-926ac2ab6710"
      },
      "source": [
        "# Previewing the top of our house dataset\n",
        "#\n",
        "house.head()"
      ],
      "execution_count": null,
      "outputs": [
        {
          "output_type": "execute_result",
          "data": {
            "text/html": [
              "<div>\n",
              "<style scoped>\n",
              "    .dataframe tbody tr th:only-of-type {\n",
              "        vertical-align: middle;\n",
              "    }\n",
              "\n",
              "    .dataframe tbody tr th {\n",
              "        vertical-align: top;\n",
              "    }\n",
              "\n",
              "    .dataframe thead th {\n",
              "        text-align: right;\n",
              "    }\n",
              "</style>\n",
              "<table border=\"1\" class=\"dataframe\">\n",
              "  <thead>\n",
              "    <tr style=\"text-align: right;\">\n",
              "      <th></th>\n",
              "      <th>id</th>\n",
              "      <th>price</th>\n",
              "      <th>bedrooms</th>\n",
              "      <th>bathrooms</th>\n",
              "      <th>sqft_living</th>\n",
              "      <th>sqft_lot</th>\n",
              "      <th>floors</th>\n",
              "      <th>waterfront</th>\n",
              "      <th>view</th>\n",
              "      <th>condition</th>\n",
              "      <th>grade</th>\n",
              "      <th>sqft_above</th>\n",
              "      <th>sqft_basement</th>\n",
              "      <th>yr_built</th>\n",
              "      <th>yr_renovated</th>\n",
              "      <th>zipcode</th>\n",
              "      <th>lat</th>\n",
              "      <th>long</th>\n",
              "      <th>sqft_living15</th>\n",
              "      <th>sqft_lot15</th>\n",
              "    </tr>\n",
              "  </thead>\n",
              "  <tbody>\n",
              "    <tr>\n",
              "      <th>0</th>\n",
              "      <td>7129300520</td>\n",
              "      <td>221900.0</td>\n",
              "      <td>3</td>\n",
              "      <td>1.00</td>\n",
              "      <td>1180</td>\n",
              "      <td>5650</td>\n",
              "      <td>1.0</td>\n",
              "      <td>0</td>\n",
              "      <td>0</td>\n",
              "      <td>3</td>\n",
              "      <td>7</td>\n",
              "      <td>1180</td>\n",
              "      <td>0</td>\n",
              "      <td>1955</td>\n",
              "      <td>0</td>\n",
              "      <td>98178</td>\n",
              "      <td>47.5112</td>\n",
              "      <td>-122.257</td>\n",
              "      <td>1340</td>\n",
              "      <td>5650</td>\n",
              "    </tr>\n",
              "    <tr>\n",
              "      <th>1</th>\n",
              "      <td>6414100192</td>\n",
              "      <td>538000.0</td>\n",
              "      <td>3</td>\n",
              "      <td>2.25</td>\n",
              "      <td>2570</td>\n",
              "      <td>7242</td>\n",
              "      <td>2.0</td>\n",
              "      <td>0</td>\n",
              "      <td>0</td>\n",
              "      <td>3</td>\n",
              "      <td>7</td>\n",
              "      <td>2170</td>\n",
              "      <td>400</td>\n",
              "      <td>1951</td>\n",
              "      <td>1991</td>\n",
              "      <td>98125</td>\n",
              "      <td>47.7210</td>\n",
              "      <td>-122.319</td>\n",
              "      <td>1690</td>\n",
              "      <td>7639</td>\n",
              "    </tr>\n",
              "    <tr>\n",
              "      <th>2</th>\n",
              "      <td>5631500400</td>\n",
              "      <td>180000.0</td>\n",
              "      <td>2</td>\n",
              "      <td>1.00</td>\n",
              "      <td>770</td>\n",
              "      <td>10000</td>\n",
              "      <td>1.0</td>\n",
              "      <td>0</td>\n",
              "      <td>0</td>\n",
              "      <td>3</td>\n",
              "      <td>6</td>\n",
              "      <td>770</td>\n",
              "      <td>0</td>\n",
              "      <td>1933</td>\n",
              "      <td>0</td>\n",
              "      <td>98028</td>\n",
              "      <td>47.7379</td>\n",
              "      <td>-122.233</td>\n",
              "      <td>2720</td>\n",
              "      <td>8062</td>\n",
              "    </tr>\n",
              "    <tr>\n",
              "      <th>3</th>\n",
              "      <td>2487200875</td>\n",
              "      <td>604000.0</td>\n",
              "      <td>4</td>\n",
              "      <td>3.00</td>\n",
              "      <td>1960</td>\n",
              "      <td>5000</td>\n",
              "      <td>1.0</td>\n",
              "      <td>0</td>\n",
              "      <td>0</td>\n",
              "      <td>5</td>\n",
              "      <td>7</td>\n",
              "      <td>1050</td>\n",
              "      <td>910</td>\n",
              "      <td>1965</td>\n",
              "      <td>0</td>\n",
              "      <td>98136</td>\n",
              "      <td>47.5208</td>\n",
              "      <td>-122.393</td>\n",
              "      <td>1360</td>\n",
              "      <td>5000</td>\n",
              "    </tr>\n",
              "    <tr>\n",
              "      <th>4</th>\n",
              "      <td>1954400510</td>\n",
              "      <td>510000.0</td>\n",
              "      <td>3</td>\n",
              "      <td>2.00</td>\n",
              "      <td>1680</td>\n",
              "      <td>8080</td>\n",
              "      <td>1.0</td>\n",
              "      <td>0</td>\n",
              "      <td>0</td>\n",
              "      <td>3</td>\n",
              "      <td>8</td>\n",
              "      <td>1680</td>\n",
              "      <td>0</td>\n",
              "      <td>1987</td>\n",
              "      <td>0</td>\n",
              "      <td>98074</td>\n",
              "      <td>47.6168</td>\n",
              "      <td>-122.045</td>\n",
              "      <td>1800</td>\n",
              "      <td>7503</td>\n",
              "    </tr>\n",
              "  </tbody>\n",
              "</table>\n",
              "</div>"
            ],
            "text/plain": [
              "           id     price  bedrooms  ...     long  sqft_living15  sqft_lot15\n",
              "0  7129300520  221900.0         3  ... -122.257           1340        5650\n",
              "1  6414100192  538000.0         3  ... -122.319           1690        7639\n",
              "2  5631500400  180000.0         2  ... -122.233           2720        8062\n",
              "3  2487200875  604000.0         4  ... -122.393           1360        5000\n",
              "4  1954400510  510000.0         3  ... -122.045           1800        7503\n",
              "\n",
              "[5 rows x 20 columns]"
            ]
          },
          "metadata": {
            "tags": []
          },
          "execution_count": 6
        }
      ]
    },
    {
      "cell_type": "code",
      "metadata": {
        "id": "e9AzGcZFrIIr",
        "colab": {
          "base_uri": "https://localhost:8080/"
        },
        "outputId": "8c242ab1-d871-45aa-e445-93c8cd0e78c4"
      },
      "source": [
        "# Previewing the bottom of our house dataset\n",
        "# \n",
        "house.tail()"
      ],
      "execution_count": null,
      "outputs": [
        {
          "output_type": "execute_result",
          "data": {
            "text/html": [
              "<div>\n",
              "<style scoped>\n",
              "    .dataframe tbody tr th:only-of-type {\n",
              "        vertical-align: middle;\n",
              "    }\n",
              "\n",
              "    .dataframe tbody tr th {\n",
              "        vertical-align: top;\n",
              "    }\n",
              "\n",
              "    .dataframe thead th {\n",
              "        text-align: right;\n",
              "    }\n",
              "</style>\n",
              "<table border=\"1\" class=\"dataframe\">\n",
              "  <thead>\n",
              "    <tr style=\"text-align: right;\">\n",
              "      <th></th>\n",
              "      <th>id</th>\n",
              "      <th>price</th>\n",
              "      <th>bedrooms</th>\n",
              "      <th>bathrooms</th>\n",
              "      <th>sqft_living</th>\n",
              "      <th>sqft_lot</th>\n",
              "      <th>floors</th>\n",
              "      <th>waterfront</th>\n",
              "      <th>view</th>\n",
              "      <th>condition</th>\n",
              "      <th>grade</th>\n",
              "      <th>sqft_above</th>\n",
              "      <th>sqft_basement</th>\n",
              "      <th>yr_built</th>\n",
              "      <th>yr_renovated</th>\n",
              "      <th>zipcode</th>\n",
              "      <th>lat</th>\n",
              "      <th>long</th>\n",
              "      <th>sqft_living15</th>\n",
              "      <th>sqft_lot15</th>\n",
              "    </tr>\n",
              "  </thead>\n",
              "  <tbody>\n",
              "    <tr>\n",
              "      <th>21608</th>\n",
              "      <td>263000018</td>\n",
              "      <td>360000.0</td>\n",
              "      <td>3</td>\n",
              "      <td>2.50</td>\n",
              "      <td>1530</td>\n",
              "      <td>1131</td>\n",
              "      <td>3.0</td>\n",
              "      <td>0</td>\n",
              "      <td>0</td>\n",
              "      <td>3</td>\n",
              "      <td>8</td>\n",
              "      <td>1530</td>\n",
              "      <td>0</td>\n",
              "      <td>2009</td>\n",
              "      <td>0</td>\n",
              "      <td>98103</td>\n",
              "      <td>47.6993</td>\n",
              "      <td>-122.346</td>\n",
              "      <td>1530</td>\n",
              "      <td>1509</td>\n",
              "    </tr>\n",
              "    <tr>\n",
              "      <th>21609</th>\n",
              "      <td>6600060120</td>\n",
              "      <td>400000.0</td>\n",
              "      <td>4</td>\n",
              "      <td>2.50</td>\n",
              "      <td>2310</td>\n",
              "      <td>5813</td>\n",
              "      <td>2.0</td>\n",
              "      <td>0</td>\n",
              "      <td>0</td>\n",
              "      <td>3</td>\n",
              "      <td>8</td>\n",
              "      <td>2310</td>\n",
              "      <td>0</td>\n",
              "      <td>2014</td>\n",
              "      <td>0</td>\n",
              "      <td>98146</td>\n",
              "      <td>47.5107</td>\n",
              "      <td>-122.362</td>\n",
              "      <td>1830</td>\n",
              "      <td>7200</td>\n",
              "    </tr>\n",
              "    <tr>\n",
              "      <th>21610</th>\n",
              "      <td>1523300141</td>\n",
              "      <td>402101.0</td>\n",
              "      <td>2</td>\n",
              "      <td>0.75</td>\n",
              "      <td>1020</td>\n",
              "      <td>1350</td>\n",
              "      <td>2.0</td>\n",
              "      <td>0</td>\n",
              "      <td>0</td>\n",
              "      <td>3</td>\n",
              "      <td>7</td>\n",
              "      <td>1020</td>\n",
              "      <td>0</td>\n",
              "      <td>2009</td>\n",
              "      <td>0</td>\n",
              "      <td>98144</td>\n",
              "      <td>47.5944</td>\n",
              "      <td>-122.299</td>\n",
              "      <td>1020</td>\n",
              "      <td>2007</td>\n",
              "    </tr>\n",
              "    <tr>\n",
              "      <th>21611</th>\n",
              "      <td>291310100</td>\n",
              "      <td>400000.0</td>\n",
              "      <td>3</td>\n",
              "      <td>2.50</td>\n",
              "      <td>1600</td>\n",
              "      <td>2388</td>\n",
              "      <td>2.0</td>\n",
              "      <td>0</td>\n",
              "      <td>0</td>\n",
              "      <td>3</td>\n",
              "      <td>8</td>\n",
              "      <td>1600</td>\n",
              "      <td>0</td>\n",
              "      <td>2004</td>\n",
              "      <td>0</td>\n",
              "      <td>98027</td>\n",
              "      <td>47.5345</td>\n",
              "      <td>-122.069</td>\n",
              "      <td>1410</td>\n",
              "      <td>1287</td>\n",
              "    </tr>\n",
              "    <tr>\n",
              "      <th>21612</th>\n",
              "      <td>1523300157</td>\n",
              "      <td>325000.0</td>\n",
              "      <td>2</td>\n",
              "      <td>0.75</td>\n",
              "      <td>1020</td>\n",
              "      <td>1076</td>\n",
              "      <td>2.0</td>\n",
              "      <td>0</td>\n",
              "      <td>0</td>\n",
              "      <td>3</td>\n",
              "      <td>7</td>\n",
              "      <td>1020</td>\n",
              "      <td>0</td>\n",
              "      <td>2008</td>\n",
              "      <td>0</td>\n",
              "      <td>98144</td>\n",
              "      <td>47.5941</td>\n",
              "      <td>-122.299</td>\n",
              "      <td>1020</td>\n",
              "      <td>1357</td>\n",
              "    </tr>\n",
              "  </tbody>\n",
              "</table>\n",
              "</div>"
            ],
            "text/plain": [
              "               id     price  bedrooms  ...     long  sqft_living15  sqft_lot15\n",
              "21608   263000018  360000.0         3  ... -122.346           1530        1509\n",
              "21609  6600060120  400000.0         4  ... -122.362           1830        7200\n",
              "21610  1523300141  402101.0         2  ... -122.299           1020        2007\n",
              "21611   291310100  400000.0         3  ... -122.069           1410        1287\n",
              "21612  1523300157  325000.0         2  ... -122.299           1020        1357\n",
              "\n",
              "[5 rows x 20 columns]"
            ]
          },
          "metadata": {
            "tags": []
          },
          "execution_count": 7
        }
      ]
    },
    {
      "cell_type": "code",
      "metadata": {
        "id": "n8-dW4sQWzbc",
        "colab": {
          "base_uri": "https://localhost:8080/"
        },
        "outputId": "eab11110-4a6f-458a-cca8-b6e5908a38f3"
      },
      "source": [
        "# Checking whether each column in house dataset has an appropriate datatype\n",
        "#\n",
        "house.info()"
      ],
      "execution_count": null,
      "outputs": [
        {
          "output_type": "stream",
          "text": [
            "<class 'pandas.core.frame.DataFrame'>\n",
            "RangeIndex: 21613 entries, 0 to 21612\n",
            "Data columns (total 20 columns):\n",
            " #   Column         Non-Null Count  Dtype  \n",
            "---  ------         --------------  -----  \n",
            " 0   id             21613 non-null  int64  \n",
            " 1   price          21613 non-null  float64\n",
            " 2   bedrooms       21613 non-null  int64  \n",
            " 3   bathrooms      21613 non-null  float64\n",
            " 4   sqft_living    21613 non-null  int64  \n",
            " 5   sqft_lot       21613 non-null  int64  \n",
            " 6   floors         21613 non-null  float64\n",
            " 7   waterfront     21613 non-null  int64  \n",
            " 8   view           21613 non-null  int64  \n",
            " 9   condition      21613 non-null  int64  \n",
            " 10  grade          21613 non-null  int64  \n",
            " 11  sqft_above     21613 non-null  int64  \n",
            " 12  sqft_basement  21613 non-null  int64  \n",
            " 13  yr_built       21613 non-null  int64  \n",
            " 14  yr_renovated   21613 non-null  int64  \n",
            " 15  zipcode        21613 non-null  int64  \n",
            " 16  lat            21613 non-null  float64\n",
            " 17  long           21613 non-null  float64\n",
            " 18  sqft_living15  21613 non-null  int64  \n",
            " 19  sqft_lot15     21613 non-null  int64  \n",
            "dtypes: float64(5), int64(15)\n",
            "memory usage: 3.3 MB\n"
          ],
          "name": "stdout"
        }
      ]
    },
    {
      "cell_type": "markdown",
      "metadata": {
        "id": "ckfufNrcUHeH"
      },
      "source": [
        "## 4. External Data Source Validation"
      ]
    },
    {
      "cell_type": "markdown",
      "metadata": {
        "id": "6L4sl_0WXlbg"
      },
      "source": [
        "Making sure your data matches something outside of the dataset is very important. It allows you to ensure that the measurements are roughly in line with what they should be and it serves as a check on what other things might be wrong in your dataset. External validation can often be as simple as checking your data against a single number, as we will do here."
      ]
    },
    {
      "cell_type": "markdown",
      "metadata": {
        "id": "6XC_g-zKxe-r"
      },
      "source": [
        "### a.Validation"
      ]
    },
    {
      "cell_type": "markdown",
      "metadata": {
        "id": "FlBMxEDBUc9B"
      },
      "source": [
        "## 5. Tidying the Dataset"
      ]
    },
    {
      "cell_type": "code",
      "metadata": {
        "id": "5o_bQcT5W3Wz",
        "colab": {
          "base_uri": "https://localhost:8080/"
        },
        "outputId": "df585f26-b58d-4e9c-a744-542a7bba220e"
      },
      "source": [
        "# Checking for Outliers in house dataset\n",
        "#\n",
        "col_names= ['price', 'bedrooms', 'bathrooms']\n",
        "\n",
        "fig, ax = plt.subplots(len(col_names), figsize=(10,15))\n",
        "\n",
        "for i, col_val in enumerate(col_names):\n",
        "\n",
        "    sns.boxplot(x=house[col_val], ax=ax[i])\n",
        "    ax[i].set_title('Box plot for {}'.format(col_val), fontsize=14)\n",
        "    ax[i].set_xlabel(col_val, fontsize=12)"
      ],
      "execution_count": null,
      "outputs": [
        {
          "output_type": "display_data",
          "data": {
            "image/png": "[encoded data removed]",
            "text/plain": [
              "<Figure size 720x1080 with 3 Axes>"
            ]
          },
          "metadata": {
            "tags": [],
            "needs_background": "light"
          }
        }
      ]
    },
    {
      "cell_type": "code",
      "metadata": {
        "colab": {
          "base_uri": "https://localhost:8080/"
        },
        "id": "QuylMarLpYwK",
        "outputId": "001c95ab-bdb1-41e1-95ed-adf8767ba693"
      },
      "source": [
        "# Checking for Outliers in the house dataset\n",
        "#\n",
        "col_names= ['sqft_living', 'sqft_lot', 'floors']\n",
        "\n",
        "fig, ax = plt.subplots(len(col_names), figsize=(10,15))\n",
        "\n",
        "for i, col_val in enumerate(col_names):\n",
        "\n",
        "    sns.boxplot(x=house[col_val], ax=ax[i])\n",
        "    ax[i].set_title('Box plot for {}'.format(col_val), fontsize=14)\n",
        "    ax[i].set_xlabel(col_val, fontsize=12)"
      ],
      "execution_count": null,
      "outputs": [
        {
          "output_type": "display_data",
          "data": {
            "image/png": "[encoded data removed]",
            "text/plain": [
              "<Figure size 720x1080 with 3 Axes>"
            ]
          },
          "metadata": {
            "tags": [],
            "needs_background": "light"
          }
        }
      ]
    },
    {
      "cell_type": "code",
      "metadata": {
        "colab": {
          "base_uri": "https://localhost:8080/"
        },
        "id": "VAvRhiLka43X",
        "outputId": "0b08765a-500e-4831-8345-353e3fbe67df"
      },
      "source": [
        "# Checking for Outliers in house dataset\n",
        "#\n",
        "col_names= ['waterfront', 'view', 'condition']\n",
        "\n",
        "fig, ax = plt.subplots(len(col_names), figsize=(10,15))\n",
        "\n",
        "for i, col_val in enumerate(col_names):\n",
        "\n",
        "    sns.boxplot(x=house[col_val], ax=ax[i])\n",
        "    ax[i].set_title('Box plot for {}'.format(col_val), fontsize=14)\n",
        "    ax[i].set_xlabel(col_val, fontsize=12)"
      ],
      "execution_count": null,
      "outputs": [
        {
          "output_type": "display_data",
          "data": {
            "image/png": "[encoded data removed]",
            "text/plain": [
              "<Figure size 720x1080 with 3 Axes>"
            ]
          },
          "metadata": {
            "tags": [],
            "needs_background": "light"
          }
        }
      ]
    },
    {
      "cell_type": "code",
      "metadata": {
        "colab": {
          "base_uri": "https://localhost:8080/"
        },
        "id": "y65YQrT0bHJO",
        "outputId": "2f46a693-e815-407e-cd61-7efe9e937e03"
      },
      "source": [
        "# Checking for Outliers in house dataset\n",
        "#\n",
        "col_names= ['grade', 'sqft_above', 'sqft_basement']\n",
        "\n",
        "fig, ax = plt.subplots(len(col_names), figsize=(10,15))\n",
        "\n",
        "for i, col_val in enumerate(col_names):\n",
        "\n",
        "    sns.boxplot(x=house[col_val], ax=ax[i])\n",
        "    ax[i].set_title('Box plot for {}'.format(col_val), fontsize=14)\n",
        "    ax[i].set_xlabel(col_val, fontsize=12)"
      ],
      "execution_count": null,
      "outputs": [
        {
          "output_type": "display_data",
          "data": {
            "image/png": "[encoded data removed]",
            "text/plain": [
              "<Figure size 720x1080 with 3 Axes>"
            ]
          },
          "metadata": {
            "tags": [],
            "needs_background": "light"
          }
        }
      ]
    },
    {
      "cell_type": "code",
      "metadata": {
        "colab": {
          "base_uri": "https://localhost:8080/"
        },
        "id": "BV_YUzH-bZg4",
        "outputId": "d079a9ce-bc62-4ea5-c3ca-c280dd5dcab0"
      },
      "source": [
        "# Checking for Outliers in house dataset\n",
        "#\n",
        "col_names= ['sqft_living15', 'sqft_lot15']\n",
        "\n",
        "fig, ax = plt.subplots(len(col_names), figsize=(10,15))\n",
        "\n",
        "for i, col_val in enumerate(col_names):\n",
        "\n",
        "    sns.boxplot(x=house[col_val], ax=ax[i])\n",
        "    ax[i].set_title('Box plot for {}'.format(col_val), fontsize=14)\n",
        "    ax[i].set_xlabel(col_val, fontsize=12)"
      ],
      "execution_count": null,
      "outputs": [
        {
          "output_type": "display_data",
          "data": {
            "image/png": "[encoded data removed]",
            "text/plain": [
              "<Figure size 720x1080 with 2 Axes>"
            ]
          },
          "metadata": {
            "tags": [],
            "needs_background": "light"
          }
        }
      ]
    },
    {
      "cell_type": "code",
      "metadata": {
        "id": "izHm-qibab47"
      },
      "source": [
        "# Checking for Outliers in fifa ranking dataset\n",
        "#\n",
        "#col_names= ['price', 'bedrooms', 'bathrooms', 'sqft_living', 'sqft_lot', 'floors', 'waterfront', 'view', 'condition', 'grade', 'sqft_above', 'sqft_basement', 'sqft_living15', 'sqft_lot15']\n",
        "\n",
        "#fig, ax = plt.subplots(len(col_names), figsize=(10,15))\n",
        "\n",
        "#for i, col_val in enumerate(col_names):\n",
        "\n",
        "#    sns.boxplot(x=house[col_val], ax=ax[i])\n",
        "#    ax[i].set_title('Box plot for {}'.format(col_val), fontsize=14)\n",
        "#    ax[i].set_xlabel(col_val, fontsize=12)"
      ],
      "execution_count": null,
      "outputs": []
    },
    {
      "cell_type": "code",
      "metadata": {
        "id": "PvCYb6dgW4yh",
        "colab": {
          "base_uri": "https://localhost:8080/"
        },
        "outputId": "192188b9-5426-496d-a773-665cdd7d8eeb"
      },
      "source": [
        "# Identifying the Missing Data in house dataset\n",
        "#\n",
        "house.isnull().sum()"
      ],
      "execution_count": null,
      "outputs": [
        {
          "output_type": "execute_result",
          "data": {
            "text/plain": [
              "id               0\n",
              "price            0\n",
              "bedrooms         0\n",
              "bathrooms        0\n",
              "sqft_living      0\n",
              "sqft_lot         0\n",
              "floors           0\n",
              "waterfront       0\n",
              "view             0\n",
              "condition        0\n",
              "grade            0\n",
              "sqft_above       0\n",
              "sqft_basement    0\n",
              "yr_built         0\n",
              "yr_renovated     0\n",
              "zipcode          0\n",
              "lat              0\n",
              "long             0\n",
              "sqft_living15    0\n",
              "sqft_lot15       0\n",
              "dtype: int64"
            ]
          },
          "metadata": {
            "tags": []
          },
          "execution_count": 15
        }
      ]
    },
    {
      "cell_type": "code",
      "metadata": {
        "colab": {
          "base_uri": "https://localhost:8080/"
        },
        "id": "CoNUQ0KPG_JE",
        "outputId": "e61b7c77-f54d-4934-9bc7-d10eed534cb2"
      },
      "source": [
        "# Checking for unique values in the house dataset\n",
        "house.nunique()"
      ],
      "execution_count": null,
      "outputs": [
        {
          "output_type": "execute_result",
          "data": {
            "text/plain": [
              "id               21436\n",
              "price             3625\n",
              "bedrooms            13\n",
              "bathrooms           30\n",
              "sqft_living       1038\n",
              "sqft_lot          9782\n",
              "floors               6\n",
              "waterfront           2\n",
              "view                 5\n",
              "condition            5\n",
              "grade               12\n",
              "sqft_above         946\n",
              "sqft_basement      306\n",
              "yr_built           116\n",
              "yr_renovated        70\n",
              "zipcode             70\n",
              "lat               5034\n",
              "long               752\n",
              "sqft_living15      777\n",
              "sqft_lot15        8689\n",
              "dtype: int64"
            ]
          },
          "metadata": {
            "tags": []
          },
          "execution_count": 16
        }
      ]
    },
    {
      "cell_type": "code",
      "metadata": {
        "colab": {
          "base_uri": "https://localhost:8080/"
        },
        "id": "LUHZAfFqHMa1",
        "outputId": "07b01e20-c3ab-4b45-bca5-80424fbacd89"
      },
      "source": [
        "# Checking for duplicates in the house dataset\n",
        "#\n",
        "house.duplicated().sum()\n"
      ],
      "execution_count": null,
      "outputs": [
        {
          "output_type": "execute_result",
          "data": {
            "text/plain": [
              "3"
            ]
          },
          "metadata": {
            "tags": []
          },
          "execution_count": 17
        }
      ]
    },
    {
      "cell_type": "code",
      "metadata": {
        "id": "udq93L0crajR"
      },
      "source": [
        "# Dropping the duplicates\n",
        "#\n",
        "house = house.drop_duplicates()"
      ],
      "execution_count": null,
      "outputs": []
    },
    {
      "cell_type": "code",
      "metadata": {
        "colab": {
          "base_uri": "https://localhost:8080/"
        },
        "id": "hDBP6jYHHY-b",
        "outputId": "b0e70c33-cd52-43e1-f908-8fe8ca75002d"
      },
      "source": [
        "# Checking for duplicates in the house dataset\n",
        "#\n",
        "house.duplicated().sum()"
      ],
      "execution_count": null,
      "outputs": [
        {
          "output_type": "execute_result",
          "data": {
            "text/plain": [
              "0"
            ]
          },
          "metadata": {
            "tags": []
          },
          "execution_count": 19
        }
      ]
    },
    {
      "cell_type": "code",
      "metadata": {
        "colab": {
          "base_uri": "https://localhost:8080/"
        },
        "id": "mRmdL-4GtIgn",
        "outputId": "36de8f08-b905-4bac-e984-2e343019eb14"
      },
      "source": [
        "# Dropping unnecessary columns in the fifa ranking datasets\n",
        "house_df = house.drop(['id','sqft_living15', 'sqft_lot15', 'zipcode','lat', 'long'], axis= 1)\n",
        "house_df.info()"
      ],
      "execution_count": null,
      "outputs": [
        {
          "output_type": "stream",
          "text": [
            "<class 'pandas.core.frame.DataFrame'>\n",
            "Int64Index: 21610 entries, 0 to 21612\n",
            "Data columns (total 14 columns):\n",
            " #   Column         Non-Null Count  Dtype  \n",
            "---  ------         --------------  -----  \n",
            " 0   price          21610 non-null  float64\n",
            " 1   bedrooms       21610 non-null  int64  \n",
            " 2   bathrooms      21610 non-null  float64\n",
            " 3   sqft_living    21610 non-null  int64  \n",
            " 4   sqft_lot       21610 non-null  int64  \n",
            " 5   floors         21610 non-null  float64\n",
            " 6   waterfront     21610 non-null  int64  \n",
            " 7   view           21610 non-null  int64  \n",
            " 8   condition      21610 non-null  int64  \n",
            " 9   grade          21610 non-null  int64  \n",
            " 10  sqft_above     21610 non-null  int64  \n",
            " 11  sqft_basement  21610 non-null  int64  \n",
            " 12  yr_built       21610 non-null  int64  \n",
            " 13  yr_renovated   21610 non-null  int64  \n",
            "dtypes: float64(3), int64(11)\n",
            "memory usage: 2.5 MB\n"
          ],
          "name": "stdout"
        }
      ]
    },
    {
      "cell_type": "code",
      "metadata": {
        "colab": {
          "base_uri": "https://localhost:8080/"
        },
        "id": "aC0xO_EsxXjp",
        "outputId": "1262e5a5-ea78-46fc-889b-d3dc7310c1b7"
      },
      "source": [
        "house_df.head()"
      ],
      "execution_count": null,
      "outputs": [
        {
          "output_type": "execute_result",
          "data": {
            "text/html": [
              "<div>\n",
              "<style scoped>\n",
              "    .dataframe tbody tr th:only-of-type {\n",
              "        vertical-align: middle;\n",
              "    }\n",
              "\n",
              "    .dataframe tbody tr th {\n",
              "        vertical-align: top;\n",
              "    }\n",
              "\n",
              "    .dataframe thead th {\n",
              "        text-align: right;\n",
              "    }\n",
              "</style>\n",
              "<table border=\"1\" class=\"dataframe\">\n",
              "  <thead>\n",
              "    <tr style=\"text-align: right;\">\n",
              "      <th></th>\n",
              "      <th>price</th>\n",
              "      <th>bedrooms</th>\n",
              "      <th>bathrooms</th>\n",
              "      <th>sqft_living</th>\n",
              "      <th>sqft_lot</th>\n",
              "      <th>floors</th>\n",
              "      <th>waterfront</th>\n",
              "      <th>view</th>\n",
              "      <th>condition</th>\n",
              "      <th>grade</th>\n",
              "      <th>sqft_above</th>\n",
              "      <th>sqft_basement</th>\n",
              "      <th>yr_built</th>\n",
              "      <th>yr_renovated</th>\n",
              "    </tr>\n",
              "  </thead>\n",
              "  <tbody>\n",
              "    <tr>\n",
              "      <th>0</th>\n",
              "      <td>221900.0</td>\n",
              "      <td>3</td>\n",
              "      <td>1.00</td>\n",
              "      <td>1180</td>\n",
              "      <td>5650</td>\n",
              "      <td>1.0</td>\n",
              "      <td>0</td>\n",
              "      <td>0</td>\n",
              "      <td>3</td>\n",
              "      <td>7</td>\n",
              "      <td>1180</td>\n",
              "      <td>0</td>\n",
              "      <td>1955</td>\n",
              "      <td>0</td>\n",
              "    </tr>\n",
              "    <tr>\n",
              "      <th>1</th>\n",
              "      <td>538000.0</td>\n",
              "      <td>3</td>\n",
              "      <td>2.25</td>\n",
              "      <td>2570</td>\n",
              "      <td>7242</td>\n",
              "      <td>2.0</td>\n",
              "      <td>0</td>\n",
              "      <td>0</td>\n",
              "      <td>3</td>\n",
              "      <td>7</td>\n",
              "      <td>2170</td>\n",
              "      <td>400</td>\n",
              "      <td>1951</td>\n",
              "      <td>1991</td>\n",
              "    </tr>\n",
              "    <tr>\n",
              "      <th>2</th>\n",
              "      <td>180000.0</td>\n",
              "      <td>2</td>\n",
              "      <td>1.00</td>\n",
              "      <td>770</td>\n",
              "      <td>10000</td>\n",
              "      <td>1.0</td>\n",
              "      <td>0</td>\n",
              "      <td>0</td>\n",
              "      <td>3</td>\n",
              "      <td>6</td>\n",
              "      <td>770</td>\n",
              "      <td>0</td>\n",
              "      <td>1933</td>\n",
              "      <td>0</td>\n",
              "    </tr>\n",
              "    <tr>\n",
              "      <th>3</th>\n",
              "      <td>604000.0</td>\n",
              "      <td>4</td>\n",
              "      <td>3.00</td>\n",
              "      <td>1960</td>\n",
              "      <td>5000</td>\n",
              "      <td>1.0</td>\n",
              "      <td>0</td>\n",
              "      <td>0</td>\n",
              "      <td>5</td>\n",
              "      <td>7</td>\n",
              "      <td>1050</td>\n",
              "      <td>910</td>\n",
              "      <td>1965</td>\n",
              "      <td>0</td>\n",
              "    </tr>\n",
              "    <tr>\n",
              "      <th>4</th>\n",
              "      <td>510000.0</td>\n",
              "      <td>3</td>\n",
              "      <td>2.00</td>\n",
              "      <td>1680</td>\n",
              "      <td>8080</td>\n",
              "      <td>1.0</td>\n",
              "      <td>0</td>\n",
              "      <td>0</td>\n",
              "      <td>3</td>\n",
              "      <td>8</td>\n",
              "      <td>1680</td>\n",
              "      <td>0</td>\n",
              "      <td>1987</td>\n",
              "      <td>0</td>\n",
              "    </tr>\n",
              "  </tbody>\n",
              "</table>\n",
              "</div>"
            ],
            "text/plain": [
              "      price  bedrooms  bathrooms  ...  sqft_basement  yr_built  yr_renovated\n",
              "0  221900.0         3       1.00  ...              0      1955             0\n",
              "1  538000.0         3       2.25  ...            400      1951          1991\n",
              "2  180000.0         2       1.00  ...              0      1933             0\n",
              "3  604000.0         4       3.00  ...            910      1965             0\n",
              "4  510000.0         3       2.00  ...              0      1987             0\n",
              "\n",
              "[5 rows x 14 columns]"
            ]
          },
          "metadata": {
            "tags": []
          },
          "execution_count": 21
        }
      ]
    },
    {
      "cell_type": "code",
      "metadata": {
        "colab": {
          "base_uri": "https://localhost:8080/"
        },
        "id": "9IF3ofVoeVCv",
        "outputId": "b43b974c-1aea-4373-a647-6a79ce496b28"
      },
      "source": [
        "# creating a new column for age of the house. Assumption is made that the data was collected in the year 2021\n",
        "house_df['house_age'] = 2021 - house_df['yr_built']\n",
        "house_df.head()"
      ],
      "execution_count": null,
      "outputs": [
        {
          "output_type": "execute_result",
          "data": {
            "text/html": [
              "<div>\n",
              "<style scoped>\n",
              "    .dataframe tbody tr th:only-of-type {\n",
              "        vertical-align: middle;\n",
              "    }\n",
              "\n",
              "    .dataframe tbody tr th {\n",
              "        vertical-align: top;\n",
              "    }\n",
              "\n",
              "    .dataframe thead th {\n",
              "        text-align: right;\n",
              "    }\n",
              "</style>\n",
              "<table border=\"1\" class=\"dataframe\">\n",
              "  <thead>\n",
              "    <tr style=\"text-align: right;\">\n",
              "      <th></th>\n",
              "      <th>price</th>\n",
              "      <th>bedrooms</th>\n",
              "      <th>bathrooms</th>\n",
              "      <th>sqft_living</th>\n",
              "      <th>sqft_lot</th>\n",
              "      <th>floors</th>\n",
              "      <th>waterfront</th>\n",
              "      <th>view</th>\n",
              "      <th>condition</th>\n",
              "      <th>grade</th>\n",
              "      <th>sqft_above</th>\n",
              "      <th>sqft_basement</th>\n",
              "      <th>yr_built</th>\n",
              "      <th>yr_renovated</th>\n",
              "      <th>house_age</th>\n",
              "    </tr>\n",
              "  </thead>\n",
              "  <tbody>\n",
              "    <tr>\n",
              "      <th>0</th>\n",
              "      <td>221900.0</td>\n",
              "      <td>3</td>\n",
              "      <td>1.00</td>\n",
              "      <td>1180</td>\n",
              "      <td>5650</td>\n",
              "      <td>1.0</td>\n",
              "      <td>0</td>\n",
              "      <td>0</td>\n",
              "      <td>3</td>\n",
              "      <td>7</td>\n",
              "      <td>1180</td>\n",
              "      <td>0</td>\n",
              "      <td>1955</td>\n",
              "      <td>0</td>\n",
              "      <td>66</td>\n",
              "    </tr>\n",
              "    <tr>\n",
              "      <th>1</th>\n",
              "      <td>538000.0</td>\n",
              "      <td>3</td>\n",
              "      <td>2.25</td>\n",
              "      <td>2570</td>\n",
              "      <td>7242</td>\n",
              "      <td>2.0</td>\n",
              "      <td>0</td>\n",
              "      <td>0</td>\n",
              "      <td>3</td>\n",
              "      <td>7</td>\n",
              "      <td>2170</td>\n",
              "      <td>400</td>\n",
              "      <td>1951</td>\n",
              "      <td>1991</td>\n",
              "      <td>70</td>\n",
              "    </tr>\n",
              "    <tr>\n",
              "      <th>2</th>\n",
              "      <td>180000.0</td>\n",
              "      <td>2</td>\n",
              "      <td>1.00</td>\n",
              "      <td>770</td>\n",
              "      <td>10000</td>\n",
              "      <td>1.0</td>\n",
              "      <td>0</td>\n",
              "      <td>0</td>\n",
              "      <td>3</td>\n",
              "      <td>6</td>\n",
              "      <td>770</td>\n",
              "      <td>0</td>\n",
              "      <td>1933</td>\n",
              "      <td>0</td>\n",
              "      <td>88</td>\n",
              "    </tr>\n",
              "    <tr>\n",
              "      <th>3</th>\n",
              "      <td>604000.0</td>\n",
              "      <td>4</td>\n",
              "      <td>3.00</td>\n",
              "      <td>1960</td>\n",
              "      <td>5000</td>\n",
              "      <td>1.0</td>\n",
              "      <td>0</td>\n",
              "      <td>0</td>\n",
              "      <td>5</td>\n",
              "      <td>7</td>\n",
              "      <td>1050</td>\n",
              "      <td>910</td>\n",
              "      <td>1965</td>\n",
              "      <td>0</td>\n",
              "      <td>56</td>\n",
              "    </tr>\n",
              "    <tr>\n",
              "      <th>4</th>\n",
              "      <td>510000.0</td>\n",
              "      <td>3</td>\n",
              "      <td>2.00</td>\n",
              "      <td>1680</td>\n",
              "      <td>8080</td>\n",
              "      <td>1.0</td>\n",
              "      <td>0</td>\n",
              "      <td>0</td>\n",
              "      <td>3</td>\n",
              "      <td>8</td>\n",
              "      <td>1680</td>\n",
              "      <td>0</td>\n",
              "      <td>1987</td>\n",
              "      <td>0</td>\n",
              "      <td>34</td>\n",
              "    </tr>\n",
              "  </tbody>\n",
              "</table>\n",
              "</div>"
            ],
            "text/plain": [
              "      price  bedrooms  bathrooms  ...  yr_built  yr_renovated  house_age\n",
              "0  221900.0         3       1.00  ...      1955             0         66\n",
              "1  538000.0         3       2.25  ...      1951          1991         70\n",
              "2  180000.0         2       1.00  ...      1933             0         88\n",
              "3  604000.0         4       3.00  ...      1965             0         56\n",
              "4  510000.0         3       2.00  ...      1987             0         34\n",
              "\n",
              "[5 rows x 15 columns]"
            ]
          },
          "metadata": {
            "tags": []
          },
          "execution_count": 22
        }
      ]
    },
    {
      "cell_type": "code",
      "metadata": {
        "id": "G7iPnEfGd_H_"
      },
      "source": [
        "# Dropping columns from the dataset\n",
        "house_df = house_df.drop(columns=['yr_built', 'yr_renovated'])"
      ],
      "execution_count": null,
      "outputs": []
    },
    {
      "cell_type": "code",
      "metadata": {
        "colab": {
          "base_uri": "https://localhost:8080/"
        },
        "id": "r--5d2SJ7gBn",
        "outputId": "7ac7aa57-70cb-4e94-eb6e-e35055e0c953"
      },
      "source": [
        "house_df[:2]"
      ],
      "execution_count": null,
      "outputs": [
        {
          "output_type": "execute_result",
          "data": {
            "text/html": [
              "<div>\n",
              "<style scoped>\n",
              "    .dataframe tbody tr th:only-of-type {\n",
              "        vertical-align: middle;\n",
              "    }\n",
              "\n",
              "    .dataframe tbody tr th {\n",
              "        vertical-align: top;\n",
              "    }\n",
              "\n",
              "    .dataframe thead th {\n",
              "        text-align: right;\n",
              "    }\n",
              "</style>\n",
              "<table border=\"1\" class=\"dataframe\">\n",
              "  <thead>\n",
              "    <tr style=\"text-align: right;\">\n",
              "      <th></th>\n",
              "      <th>price</th>\n",
              "      <th>bedrooms</th>\n",
              "      <th>bathrooms</th>\n",
              "      <th>sqft_living</th>\n",
              "      <th>sqft_lot</th>\n",
              "      <th>floors</th>\n",
              "      <th>waterfront</th>\n",
              "      <th>view</th>\n",
              "      <th>condition</th>\n",
              "      <th>grade</th>\n",
              "      <th>sqft_above</th>\n",
              "      <th>sqft_basement</th>\n",
              "      <th>house_age</th>\n",
              "    </tr>\n",
              "  </thead>\n",
              "  <tbody>\n",
              "    <tr>\n",
              "      <th>0</th>\n",
              "      <td>221900.0</td>\n",
              "      <td>3</td>\n",
              "      <td>1.00</td>\n",
              "      <td>1180</td>\n",
              "      <td>5650</td>\n",
              "      <td>1.0</td>\n",
              "      <td>0</td>\n",
              "      <td>0</td>\n",
              "      <td>3</td>\n",
              "      <td>7</td>\n",
              "      <td>1180</td>\n",
              "      <td>0</td>\n",
              "      <td>66</td>\n",
              "    </tr>\n",
              "    <tr>\n",
              "      <th>1</th>\n",
              "      <td>538000.0</td>\n",
              "      <td>3</td>\n",
              "      <td>2.25</td>\n",
              "      <td>2570</td>\n",
              "      <td>7242</td>\n",
              "      <td>2.0</td>\n",
              "      <td>0</td>\n",
              "      <td>0</td>\n",
              "      <td>3</td>\n",
              "      <td>7</td>\n",
              "      <td>2170</td>\n",
              "      <td>400</td>\n",
              "      <td>70</td>\n",
              "    </tr>\n",
              "  </tbody>\n",
              "</table>\n",
              "</div>"
            ],
            "text/plain": [
              "      price  bedrooms  bathrooms  ...  sqft_above  sqft_basement  house_age\n",
              "0  221900.0         3       1.00  ...        1180              0         66\n",
              "1  538000.0         3       2.25  ...        2170            400         70\n",
              "\n",
              "[2 rows x 13 columns]"
            ]
          },
          "metadata": {
            "tags": []
          },
          "execution_count": 24
        }
      ]
    },
    {
      "cell_type": "code",
      "metadata": {
        "colab": {
          "base_uri": "https://localhost:8080/"
        },
        "id": "xFSUYVCTPyGr",
        "outputId": "b209598f-cfdd-451e-a668-46e029164360"
      },
      "source": [
        "# Checking the number of rows and columns in the new house_df dataset.\n",
        "house_df.shape"
      ],
      "execution_count": null,
      "outputs": [
        {
          "output_type": "execute_result",
          "data": {
            "text/plain": [
              "(21610, 13)"
            ]
          },
          "metadata": {
            "tags": []
          },
          "execution_count": 25
        }
      ]
    },
    {
      "cell_type": "code",
      "metadata": {
        "colab": {
          "base_uri": "https://localhost:8080/"
        },
        "id": "GFucdEwj2Vd1",
        "outputId": "aa5b510a-780d-4a39-9309-6b3f0d7803a8"
      },
      "source": [
        "house_df.info()"
      ],
      "execution_count": null,
      "outputs": [
        {
          "output_type": "stream",
          "text": [
            "<class 'pandas.core.frame.DataFrame'>\n",
            "Int64Index: 21610 entries, 0 to 21612\n",
            "Data columns (total 13 columns):\n",
            " #   Column         Non-Null Count  Dtype  \n",
            "---  ------         --------------  -----  \n",
            " 0   price          21610 non-null  float64\n",
            " 1   bedrooms       21610 non-null  int64  \n",
            " 2   bathrooms      21610 non-null  float64\n",
            " 3   sqft_living    21610 non-null  int64  \n",
            " 4   sqft_lot       21610 non-null  int64  \n",
            " 5   floors         21610 non-null  float64\n",
            " 6   waterfront     21610 non-null  int64  \n",
            " 7   view           21610 non-null  int64  \n",
            " 8   condition      21610 non-null  int64  \n",
            " 9   grade          21610 non-null  int64  \n",
            " 10  sqft_above     21610 non-null  int64  \n",
            " 11  sqft_basement  21610 non-null  int64  \n",
            " 12  house_age      21610 non-null  int64  \n",
            "dtypes: float64(3), int64(10)\n",
            "memory usage: 2.3 MB\n"
          ],
          "name": "stdout"
        }
      ]
    },
    {
      "cell_type": "markdown",
      "metadata": {
        "id": "rF2ABPsHUtbZ"
      },
      "source": [
        "## 6. Exploratory Analysis"
      ]
    },
    {
      "cell_type": "code",
      "metadata": {
        "id": "5nnRToniXGDK",
        "colab": {
          "base_uri": "https://localhost:8080/"
        },
        "outputId": "2e80e310-4a7e-479f-a4cd-8d2df43ceb0d"
      },
      "source": [
        "# Ploting the univariate summaries and recording our observations\n",
        "#\n",
        "house_df.describe()"
      ],
      "execution_count": null,
      "outputs": [
        {
          "output_type": "execute_result",
          "data": {
            "text/html": [
              "<div>\n",
              "<style scoped>\n",
              "    .dataframe tbody tr th:only-of-type {\n",
              "        vertical-align: middle;\n",
              "    }\n",
              "\n",
              "    .dataframe tbody tr th {\n",
              "        vertical-align: top;\n",
              "    }\n",
              "\n",
              "    .dataframe thead th {\n",
              "        text-align: right;\n",
              "    }\n",
              "</style>\n",
              "<table border=\"1\" class=\"dataframe\">\n",
              "  <thead>\n",
              "    <tr style=\"text-align: right;\">\n",
              "      <th></th>\n",
              "      <th>price</th>\n",
              "      <th>bedrooms</th>\n",
              "      <th>bathrooms</th>\n",
              "      <th>sqft_living</th>\n",
              "      <th>sqft_lot</th>\n",
              "      <th>floors</th>\n",
              "      <th>waterfront</th>\n",
              "      <th>view</th>\n",
              "      <th>condition</th>\n",
              "      <th>grade</th>\n",
              "      <th>sqft_above</th>\n",
              "      <th>sqft_basement</th>\n",
              "      <th>house_age</th>\n",
              "    </tr>\n",
              "  </thead>\n",
              "  <tbody>\n",
              "    <tr>\n",
              "      <th>count</th>\n",
              "      <td>2.161000e+04</td>\n",
              "      <td>21610.000000</td>\n",
              "      <td>21610.000000</td>\n",
              "      <td>21610.000000</td>\n",
              "      <td>2.161000e+04</td>\n",
              "      <td>21610.000000</td>\n",
              "      <td>21610.000000</td>\n",
              "      <td>21610.000000</td>\n",
              "      <td>21610.000000</td>\n",
              "      <td>21610.000000</td>\n",
              "      <td>21610.000000</td>\n",
              "      <td>21610.000000</td>\n",
              "      <td>21610.000000</td>\n",
              "    </tr>\n",
              "    <tr>\n",
              "      <th>mean</th>\n",
              "      <td>5.401789e+05</td>\n",
              "      <td>3.370847</td>\n",
              "      <td>2.114739</td>\n",
              "      <td>2079.881212</td>\n",
              "      <td>1.510829e+04</td>\n",
              "      <td>1.494239</td>\n",
              "      <td>0.007543</td>\n",
              "      <td>0.234197</td>\n",
              "      <td>3.409440</td>\n",
              "      <td>7.656779</td>\n",
              "      <td>1788.347894</td>\n",
              "      <td>291.533318</td>\n",
              "      <td>49.996391</td>\n",
              "    </tr>\n",
              "    <tr>\n",
              "      <th>std</th>\n",
              "      <td>3.673876e+05</td>\n",
              "      <td>0.930110</td>\n",
              "      <td>0.770204</td>\n",
              "      <td>918.500299</td>\n",
              "      <td>4.142323e+04</td>\n",
              "      <td>0.539994</td>\n",
              "      <td>0.086523</td>\n",
              "      <td>0.766136</td>\n",
              "      <td>0.650764</td>\n",
              "      <td>1.175500</td>\n",
              "      <td>828.138723</td>\n",
              "      <td>442.596699</td>\n",
              "      <td>29.372639</td>\n",
              "    </tr>\n",
              "    <tr>\n",
              "      <th>min</th>\n",
              "      <td>7.500000e+04</td>\n",
              "      <td>0.000000</td>\n",
              "      <td>0.000000</td>\n",
              "      <td>290.000000</td>\n",
              "      <td>5.200000e+02</td>\n",
              "      <td>1.000000</td>\n",
              "      <td>0.000000</td>\n",
              "      <td>0.000000</td>\n",
              "      <td>1.000000</td>\n",
              "      <td>1.000000</td>\n",
              "      <td>290.000000</td>\n",
              "      <td>0.000000</td>\n",
              "      <td>6.000000</td>\n",
              "    </tr>\n",
              "    <tr>\n",
              "      <th>25%</th>\n",
              "      <td>3.216125e+05</td>\n",
              "      <td>3.000000</td>\n",
              "      <td>1.750000</td>\n",
              "      <td>1425.500000</td>\n",
              "      <td>5.040000e+03</td>\n",
              "      <td>1.000000</td>\n",
              "      <td>0.000000</td>\n",
              "      <td>0.000000</td>\n",
              "      <td>3.000000</td>\n",
              "      <td>7.000000</td>\n",
              "      <td>1190.000000</td>\n",
              "      <td>0.000000</td>\n",
              "      <td>24.000000</td>\n",
              "    </tr>\n",
              "    <tr>\n",
              "      <th>50%</th>\n",
              "      <td>4.500000e+05</td>\n",
              "      <td>3.000000</td>\n",
              "      <td>2.250000</td>\n",
              "      <td>1910.000000</td>\n",
              "      <td>7.619000e+03</td>\n",
              "      <td>1.500000</td>\n",
              "      <td>0.000000</td>\n",
              "      <td>0.000000</td>\n",
              "      <td>3.000000</td>\n",
              "      <td>7.000000</td>\n",
              "      <td>1560.000000</td>\n",
              "      <td>0.000000</td>\n",
              "      <td>46.000000</td>\n",
              "    </tr>\n",
              "    <tr>\n",
              "      <th>75%</th>\n",
              "      <td>6.450000e+05</td>\n",
              "      <td>4.000000</td>\n",
              "      <td>2.500000</td>\n",
              "      <td>2550.000000</td>\n",
              "      <td>1.068875e+04</td>\n",
              "      <td>2.000000</td>\n",
              "      <td>0.000000</td>\n",
              "      <td>0.000000</td>\n",
              "      <td>4.000000</td>\n",
              "      <td>8.000000</td>\n",
              "      <td>2210.000000</td>\n",
              "      <td>560.000000</td>\n",
              "      <td>70.000000</td>\n",
              "    </tr>\n",
              "    <tr>\n",
              "      <th>max</th>\n",
              "      <td>7.700000e+06</td>\n",
              "      <td>33.000000</td>\n",
              "      <td>8.000000</td>\n",
              "      <td>13540.000000</td>\n",
              "      <td>1.651359e+06</td>\n",
              "      <td>3.500000</td>\n",
              "      <td>1.000000</td>\n",
              "      <td>4.000000</td>\n",
              "      <td>5.000000</td>\n",
              "      <td>13.000000</td>\n",
              "      <td>9410.000000</td>\n",
              "      <td>4820.000000</td>\n",
              "      <td>121.000000</td>\n",
              "    </tr>\n",
              "  </tbody>\n",
              "</table>\n",
              "</div>"
            ],
            "text/plain": [
              "              price      bedrooms  ...  sqft_basement     house_age\n",
              "count  2.161000e+04  21610.000000  ...   21610.000000  21610.000000\n",
              "mean   5.401789e+05      3.370847  ...     291.533318     49.996391\n",
              "std    3.673876e+05      0.930110  ...     442.596699     29.372639\n",
              "min    7.500000e+04      0.000000  ...       0.000000      6.000000\n",
              "25%    3.216125e+05      3.000000  ...       0.000000     24.000000\n",
              "50%    4.500000e+05      3.000000  ...       0.000000     46.000000\n",
              "75%    6.450000e+05      4.000000  ...     560.000000     70.000000\n",
              "max    7.700000e+06     33.000000  ...    4820.000000    121.000000\n",
              "\n",
              "[8 rows x 13 columns]"
            ]
          },
          "metadata": {
            "tags": []
          },
          "execution_count": 27
        }
      ]
    },
    {
      "cell_type": "code",
      "metadata": {
        "colab": {
          "base_uri": "https://localhost:8080/"
        },
        "id": "_HaqEN_OGYc8",
        "outputId": "1fca7d5b-0baa-4516-c466-4220c45a82c4"
      },
      "source": [
        "# Plotting a histogram of house price\n",
        "sns.histplot(data= house_df['price'], bins=10)\n",
        "plt.title('Histogram of price')\n",
        "plt.show()"
      ],
      "execution_count": null,
      "outputs": [
        {
          "output_type": "display_data",
          "data": {
            "image/png": "[encoded data removed]",
            "text/plain": [
              "<Figure size 432x288 with 1 Axes>"
            ]
          },
          "metadata": {
            "tags": [],
            "needs_background": "light"
          }
        }
      ]
    },
    {
      "cell_type": "code",
      "metadata": {
        "colab": {
          "base_uri": "https://localhost:8080/"
        },
        "id": "vyfGcaWvLMSg",
        "outputId": "b492c66a-1d1e-45ea-8fc6-1ae1c8130ec6"
      },
      "source": [
        "# Plotting a histogram of no. of bedrooms\n",
        "sns.histplot(data= house_df['bedrooms'], bins=10)\n",
        "plt.title('Histogram of Away Score')\n",
        "plt.show()"
      ],
      "execution_count": null,
      "outputs": [
        {
          "output_type": "display_data",
          "data": {
            "image/png": "[encoded data removed]",
            "text/plain": [
              "<Figure size 432x288 with 1 Axes>"
            ]
          },
          "metadata": {
            "tags": [],
            "needs_background": "light"
          }
        }
      ]
    },
    {
      "cell_type": "code",
      "metadata": {
        "colab": {
          "base_uri": "https://localhost:8080/"
        },
        "id": "5J__cG6kLTSL",
        "outputId": "8d0deb06-f42a-4f12-e5a5-2f37aa1e28a7"
      },
      "source": [
        "# Plotting a histogram of number of bathrooms\n",
        "sns.histplot(data= house_df['bathrooms'], bins=10)\n",
        "plt.title('Histogram of number of bathrooms')\n",
        "plt.show()"
      ],
      "execution_count": null,
      "outputs": [
        {
          "output_type": "display_data",
          "data": {
            "image/png": "[encoded data removed]",
            "text/plain": [
              "<Figure size 432x288 with 1 Axes>"
            ]
          },
          "metadata": {
            "tags": [],
            "needs_background": "light"
          }
        }
      ]
    },
    {
      "cell_type": "code",
      "metadata": {
        "colab": {
          "base_uri": "https://localhost:8080/"
        },
        "id": "OgbDSLCKLm5H",
        "outputId": "2fa70a54-28eb-4be9-80eb-af7c8f765690"
      },
      "source": [
        "# Plotting a histogram of square feet of living space\n",
        "sns.histplot(data= house_df['sqft_living'], bins=10)\n",
        "plt.title('Histogram of living space in square feet')\n",
        "plt.show()"
      ],
      "execution_count": null,
      "outputs": [
        {
          "output_type": "display_data",
          "data": {
            "image/png": "[encoded data removed]",
            "text/plain": [
              "<Figure size 432x288 with 1 Axes>"
            ]
          },
          "metadata": {
            "tags": [],
            "needs_background": "light"
          }
        }
      ]
    },
    {
      "cell_type": "code",
      "metadata": {
        "colab": {
          "base_uri": "https://localhost:8080/"
        },
        "id": "KgRFYEtfLxGL",
        "outputId": "8d146021-af68-4bc1-e5c3-24029587582c"
      },
      "source": [
        "# Plotting a histogram of Parking lot space in square feet\n",
        "sns.histplot(data= house_df['sqft_lot'], bins=10)\n",
        "plt.title('Histogram of Parking lot space in square feet')\n",
        "plt.show()"
      ],
      "execution_count": null,
      "outputs": [
        {
          "output_type": "display_data",
          "data": {
            "image/png": "[encoded data removed]",
            "text/plain": [
              "<Figure size 432x288 with 1 Axes>"
            ]
          },
          "metadata": {
            "tags": [],
            "needs_background": "light"
          }
        }
      ]
    },
    {
      "cell_type": "code",
      "metadata": {
        "colab": {
          "base_uri": "https://localhost:8080/"
        },
        "id": "nyNJlmLQGy-m",
        "outputId": "6fbfe129-fb73-4794-d3d9-20e7a110881b"
      },
      "source": [
        "# Correlation matrix\n",
        "fig, ax = plt.subplots()\n",
        "fig.set_size_inches(15, 15)\n",
        "corr1 = house_df.corr()\n",
        "corr1\n",
        "sns.heatmap(corr1,annot=True)"
      ],
      "execution_count": null,
      "outputs": [
        {
          "output_type": "execute_result",
          "data": {
            "text/plain": [
              "<matplotlib.axes._subplots.AxesSubplot at 0x7f5dc1ab1ed0>"
            ]
          },
          "metadata": {
            "tags": []
          },
          "execution_count": 33
        },
        {
          "output_type": "display_data",
          "data": {
            "image/png": "[encoded data removed]",
            "text/plain": [
              "<Figure size 1080x1080 with 2 Axes>"
            ]
          },
          "metadata": {
            "tags": [],
            "needs_background": "light"
          }
        }
      ]
    },
    {
      "cell_type": "code",
      "metadata": {
        "id": "leRkNmt7ASJB"
      },
      "source": [
        "house_df.to_csv('house_df.csv')"
      ],
      "execution_count": null,
      "outputs": []
    },
    {
      "cell_type": "code",
      "metadata": {
        "colab": {
          "base_uri": "https://localhost:8080/"
        },
        "id": "oHbASZ0hGWUF",
        "outputId": "4d62adc2-7fb0-47b3-f3f0-ebe833170ddf"
      },
      "source": [
        "# Getting the IQR Score\n",
        "Q1 = house_df.quantile(0.25)\n",
        "Q3 = house_df.quantile(0.75)\n",
        "IQR = Q3 - Q1\n",
        "IQR"
      ],
      "execution_count": null,
      "outputs": [
        {
          "output_type": "execute_result",
          "data": {
            "text/plain": [
              "price            323387.50\n",
              "bedrooms              1.00\n",
              "bathrooms             0.75\n",
              "sqft_living        1124.50\n",
              "sqft_lot           5648.75\n",
              "floors                1.00\n",
              "waterfront            0.00\n",
              "view                  0.00\n",
              "condition             1.00\n",
              "grade                 1.00\n",
              "sqft_above         1020.00\n",
              "sqft_basement       560.00\n",
              "house_age            46.00\n",
              "dtype: float64"
            ]
          },
          "metadata": {
            "tags": []
          },
          "execution_count": 35
        }
      ]
    },
    {
      "cell_type": "code",
      "metadata": {
        "id": "3UeRm4M6IQtC"
      },
      "source": [
        "#Dropping the outlier rows with Percentiles\n",
        "upper_lim = house_df['sqft_living'].quantile(.95)\n",
        "lower_lim = house_df['sqft_living'].quantile(.05)\n",
        "\n",
        "house_df = house_df[(house_df['sqft_living'] < upper_lim) & (house_df['sqft_living'] > lower_lim)]"
      ],
      "execution_count": null,
      "outputs": []
    },
    {
      "cell_type": "code",
      "metadata": {
        "id": "6kIsXqOWImpZ"
      },
      "source": [
        "#Dropping the outlier rows with Percentiles\n",
        "upper_lim = house_df['sqft_lot'].quantile(.95)\n",
        "lower_lim = house_df['sqft_lot'].quantile(.05)\n",
        "\n",
        "house_df = house_df[(house_df['sqft_lot'] < upper_lim) & (house_df['sqft_lot'] > lower_lim)]"
      ],
      "execution_count": null,
      "outputs": []
    },
    {
      "cell_type": "code",
      "metadata": {
        "id": "RrXA8imjImR0"
      },
      "source": [
        "#Dropping the outlier rows with Percentiles\n",
        "upper_lim = house_df['sqft_basement'].quantile(.95)\n",
        "lower_lim = house_df['sqft_basement'].quantile(.05)\n",
        "\n",
        "house_df = house_df[(house_df['sqft_basement'] < upper_lim) & (house_df['sqft_basement'] > lower_lim)]"
      ],
      "execution_count": null,
      "outputs": []
    },
    {
      "cell_type": "code",
      "metadata": {
        "id": "bzkqr48-I5OE"
      },
      "source": [
        "#Dropping the outlier rows with Percentiles\n",
        "upper_lim = house_df['sqft_above'].quantile(.95)\n",
        "lower_lim = house_df['sqft_above'].quantile(.05)\n",
        "\n",
        "house_df = house_df[(house_df['sqft_above'] < upper_lim) & (house_df['sqft_above'] > lower_lim)]"
      ],
      "execution_count": null,
      "outputs": []
    },
    {
      "cell_type": "code",
      "metadata": {
        "colab": {
          "base_uri": "https://localhost:8080/"
        },
        "id": "_vVlbY5EJEv9",
        "outputId": "0f869162-cb8e-4072-e2ca-8c57eaa9114a"
      },
      "source": [
        "house_df.shape"
      ],
      "execution_count": null,
      "outputs": [
        {
          "output_type": "execute_result",
          "data": {
            "text/plain": [
              "(5434, 13)"
            ]
          },
          "metadata": {
            "tags": []
          },
          "execution_count": 40
        }
      ]
    },
    {
      "cell_type": "code",
      "metadata": {
        "id": "F53pVHK6t188"
      },
      "source": [
        "house_df.to_csv('house_df2.csv')"
      ],
      "execution_count": null,
      "outputs": []
    },
    {
      "cell_type": "code",
      "metadata": {
        "colab": {
          "base_uri": "https://localhost:8080/"
        },
        "id": "9aEyoERo6-o8",
        "outputId": "576566a5-6b49-45cd-dc2b-1847916c7c92"
      },
      "source": [
        "house_df.isnull().sum()"
      ],
      "execution_count": null,
      "outputs": [
        {
          "output_type": "execute_result",
          "data": {
            "text/plain": [
              "price            0\n",
              "bedrooms         0\n",
              "bathrooms        0\n",
              "sqft_living      0\n",
              "sqft_lot         0\n",
              "floors           0\n",
              "waterfront       0\n",
              "view             0\n",
              "condition        0\n",
              "grade            0\n",
              "sqft_above       0\n",
              "sqft_basement    0\n",
              "house_age        0\n",
              "dtype: int64"
            ]
          },
          "metadata": {
            "tags": []
          },
          "execution_count": 42
        }
      ]
    },
    {
      "cell_type": "markdown",
      "metadata": {
        "id": "4D8umSFYOniE"
      },
      "source": [
        "#### Checking for Multicolinearity"
      ]
    },
    {
      "cell_type": "code",
      "metadata": {
        "colab": {
          "base_uri": "https://localhost:8080/"
        },
        "id": "u28rHHVoCSSm",
        "outputId": "1253324c-9540-4419-b3ac-7fed2245d63f"
      },
      "source": [
        "# Remove the price column and focus on our independent variables only.\n",
        "independent_only = house_df.drop(columns=['price'])\n",
        "\n",
        "# Displaying the correlations between the variables\n",
        "correlations = independent_only.corr()\n",
        "\n",
        "correlations"
      ],
      "execution_count": null,
      "outputs": [
        {
          "output_type": "execute_result",
          "data": {
            "text/html": [
              "<div>\n",
              "<style scoped>\n",
              "    .dataframe tbody tr th:only-of-type {\n",
              "        vertical-align: middle;\n",
              "    }\n",
              "\n",
              "    .dataframe tbody tr th {\n",
              "        vertical-align: top;\n",
              "    }\n",
              "\n",
              "    .dataframe thead th {\n",
              "        text-align: right;\n",
              "    }\n",
              "</style>\n",
              "<table border=\"1\" class=\"dataframe\">\n",
              "  <thead>\n",
              "    <tr style=\"text-align: right;\">\n",
              "      <th></th>\n",
              "      <th>bedrooms</th>\n",
              "      <th>bathrooms</th>\n",
              "      <th>sqft_living</th>\n",
              "      <th>sqft_lot</th>\n",
              "      <th>floors</th>\n",
              "      <th>waterfront</th>\n",
              "      <th>view</th>\n",
              "      <th>condition</th>\n",
              "      <th>grade</th>\n",
              "      <th>sqft_above</th>\n",
              "      <th>sqft_basement</th>\n",
              "      <th>house_age</th>\n",
              "    </tr>\n",
              "  </thead>\n",
              "  <tbody>\n",
              "    <tr>\n",
              "      <th>bedrooms</th>\n",
              "      <td>1.000000</td>\n",
              "      <td>0.329826</td>\n",
              "      <td>0.380382</td>\n",
              "      <td>0.046513</td>\n",
              "      <td>0.090577</td>\n",
              "      <td>-0.052366</td>\n",
              "      <td>-0.005514</td>\n",
              "      <td>0.050188</td>\n",
              "      <td>0.096766</td>\n",
              "      <td>0.274109</td>\n",
              "      <td>0.294688</td>\n",
              "      <td>-0.045309</td>\n",
              "    </tr>\n",
              "    <tr>\n",
              "      <th>bathrooms</th>\n",
              "      <td>0.329826</td>\n",
              "      <td>1.000000</td>\n",
              "      <td>0.592308</td>\n",
              "      <td>-0.006870</td>\n",
              "      <td>0.401351</td>\n",
              "      <td>0.006655</td>\n",
              "      <td>0.099759</td>\n",
              "      <td>0.009347</td>\n",
              "      <td>0.455533</td>\n",
              "      <td>0.543225</td>\n",
              "      <td>0.292787</td>\n",
              "      <td>-0.354533</td>\n",
              "    </tr>\n",
              "    <tr>\n",
              "      <th>sqft_living</th>\n",
              "      <td>0.380382</td>\n",
              "      <td>0.592308</td>\n",
              "      <td>1.000000</td>\n",
              "      <td>0.127642</td>\n",
              "      <td>0.401338</td>\n",
              "      <td>0.033694</td>\n",
              "      <td>0.211773</td>\n",
              "      <td>0.088562</td>\n",
              "      <td>0.553819</td>\n",
              "      <td>0.833126</td>\n",
              "      <td>0.614179</td>\n",
              "      <td>-0.108471</td>\n",
              "    </tr>\n",
              "    <tr>\n",
              "      <th>sqft_lot</th>\n",
              "      <td>0.046513</td>\n",
              "      <td>-0.006870</td>\n",
              "      <td>0.127642</td>\n",
              "      <td>1.000000</td>\n",
              "      <td>-0.260009</td>\n",
              "      <td>0.117905</td>\n",
              "      <td>0.062577</td>\n",
              "      <td>-0.006860</td>\n",
              "      <td>0.076317</td>\n",
              "      <td>0.104276</td>\n",
              "      <td>0.081344</td>\n",
              "      <td>-0.185780</td>\n",
              "    </tr>\n",
              "    <tr>\n",
              "      <th>floors</th>\n",
              "      <td>0.090577</td>\n",
              "      <td>0.401351</td>\n",
              "      <td>0.401338</td>\n",
              "      <td>-0.260009</td>\n",
              "      <td>1.000000</td>\n",
              "      <td>0.048321</td>\n",
              "      <td>0.141886</td>\n",
              "      <td>-0.035413</td>\n",
              "      <td>0.376797</td>\n",
              "      <td>0.561675</td>\n",
              "      <td>-0.077844</td>\n",
              "      <td>0.014240</td>\n",
              "    </tr>\n",
              "    <tr>\n",
              "      <th>waterfront</th>\n",
              "      <td>-0.052366</td>\n",
              "      <td>0.006655</td>\n",
              "      <td>0.033694</td>\n",
              "      <td>0.117905</td>\n",
              "      <td>0.048321</td>\n",
              "      <td>1.000000</td>\n",
              "      <td>0.331030</td>\n",
              "      <td>0.013630</td>\n",
              "      <td>0.071374</td>\n",
              "      <td>0.036001</td>\n",
              "      <td>0.009380</td>\n",
              "      <td>0.033196</td>\n",
              "    </tr>\n",
              "    <tr>\n",
              "      <th>view</th>\n",
              "      <td>-0.005514</td>\n",
              "      <td>0.099759</td>\n",
              "      <td>0.211773</td>\n",
              "      <td>0.062577</td>\n",
              "      <td>0.141886</td>\n",
              "      <td>0.331030</td>\n",
              "      <td>1.000000</td>\n",
              "      <td>0.008071</td>\n",
              "      <td>0.263942</td>\n",
              "      <td>0.208770</td>\n",
              "      <td>0.083927</td>\n",
              "      <td>0.058766</td>\n",
              "    </tr>\n",
              "    <tr>\n",
              "      <th>condition</th>\n",
              "      <td>0.050188</td>\n",
              "      <td>0.009347</td>\n",
              "      <td>0.088562</td>\n",
              "      <td>-0.006860</td>\n",
              "      <td>-0.035413</td>\n",
              "      <td>0.013630</td>\n",
              "      <td>0.008071</td>\n",
              "      <td>1.000000</td>\n",
              "      <td>-0.039783</td>\n",
              "      <td>-0.015243</td>\n",
              "      <td>0.181421</td>\n",
              "      <td>0.272044</td>\n",
              "    </tr>\n",
              "    <tr>\n",
              "      <th>grade</th>\n",
              "      <td>0.096766</td>\n",
              "      <td>0.455533</td>\n",
              "      <td>0.553819</td>\n",
              "      <td>0.076317</td>\n",
              "      <td>0.376797</td>\n",
              "      <td>0.071374</td>\n",
              "      <td>0.263942</td>\n",
              "      <td>-0.039783</td>\n",
              "      <td>1.000000</td>\n",
              "      <td>0.608844</td>\n",
              "      <td>0.129765</td>\n",
              "      <td>-0.261844</td>\n",
              "    </tr>\n",
              "    <tr>\n",
              "      <th>sqft_above</th>\n",
              "      <td>0.274109</td>\n",
              "      <td>0.543225</td>\n",
              "      <td>0.833126</td>\n",
              "      <td>0.104276</td>\n",
              "      <td>0.561675</td>\n",
              "      <td>0.036001</td>\n",
              "      <td>0.208770</td>\n",
              "      <td>-0.015243</td>\n",
              "      <td>0.608844</td>\n",
              "      <td>1.000000</td>\n",
              "      <td>0.075214</td>\n",
              "      <td>-0.126643</td>\n",
              "    </tr>\n",
              "    <tr>\n",
              "      <th>sqft_basement</th>\n",
              "      <td>0.294688</td>\n",
              "      <td>0.292787</td>\n",
              "      <td>0.614179</td>\n",
              "      <td>0.081344</td>\n",
              "      <td>-0.077844</td>\n",
              "      <td>0.009380</td>\n",
              "      <td>0.083927</td>\n",
              "      <td>0.181421</td>\n",
              "      <td>0.129765</td>\n",
              "      <td>0.075214</td>\n",
              "      <td>1.000000</td>\n",
              "      <td>-0.014864</td>\n",
              "    </tr>\n",
              "    <tr>\n",
              "      <th>house_age</th>\n",
              "      <td>-0.045309</td>\n",
              "      <td>-0.354533</td>\n",
              "      <td>-0.108471</td>\n",
              "      <td>-0.185780</td>\n",
              "      <td>0.014240</td>\n",
              "      <td>0.033196</td>\n",
              "      <td>0.058766</td>\n",
              "      <td>0.272044</td>\n",
              "      <td>-0.261844</td>\n",
              "      <td>-0.126643</td>\n",
              "      <td>-0.014864</td>\n",
              "      <td>1.000000</td>\n",
              "    </tr>\n",
              "  </tbody>\n",
              "</table>\n",
              "</div>"
            ],
            "text/plain": [
              "               bedrooms  bathrooms  ...  sqft_basement  house_age\n",
              "bedrooms       1.000000   0.329826  ...       0.294688  -0.045309\n",
              "bathrooms      0.329826   1.000000  ...       0.292787  -0.354533\n",
              "sqft_living    0.380382   0.592308  ...       0.614179  -0.108471\n",
              "sqft_lot       0.046513  -0.006870  ...       0.081344  -0.185780\n",
              "floors         0.090577   0.401351  ...      -0.077844   0.014240\n",
              "waterfront    -0.052366   0.006655  ...       0.009380   0.033196\n",
              "view          -0.005514   0.099759  ...       0.083927   0.058766\n",
              "condition      0.050188   0.009347  ...       0.181421   0.272044\n",
              "grade          0.096766   0.455533  ...       0.129765  -0.261844\n",
              "sqft_above     0.274109   0.543225  ...       0.075214  -0.126643\n",
              "sqft_basement  0.294688   0.292787  ...       1.000000  -0.014864\n",
              "house_age     -0.045309  -0.354533  ...      -0.014864   1.000000\n",
              "\n",
              "[12 rows x 12 columns]"
            ]
          },
          "metadata": {
            "tags": []
          },
          "execution_count": 43
        }
      ]
    },
    {
      "cell_type": "code",
      "metadata": {
        "colab": {
          "base_uri": "https://localhost:8080/"
        },
        "id": "09EEKWHeAekt",
        "outputId": "a3787de9-a7cb-4972-eef6-934b08bc6d78"
      },
      "source": [
        "# Checking for multicolinearity\n",
        "#\n",
        "pd.DataFrame(np.linalg.inv(correlations.values), index = correlations.index, columns=correlations.columns)"
      ],
      "execution_count": null,
      "outputs": [
        {
          "output_type": "execute_result",
          "data": {
            "text/html": [
              "<div>\n",
              "<style scoped>\n",
              "    .dataframe tbody tr th:only-of-type {\n",
              "        vertical-align: middle;\n",
              "    }\n",
              "\n",
              "    .dataframe tbody tr th {\n",
              "        vertical-align: top;\n",
              "    }\n",
              "\n",
              "    .dataframe thead th {\n",
              "        text-align: right;\n",
              "    }\n",
              "</style>\n",
              "<table border=\"1\" class=\"dataframe\">\n",
              "  <thead>\n",
              "    <tr style=\"text-align: right;\">\n",
              "      <th></th>\n",
              "      <th>bedrooms</th>\n",
              "      <th>bathrooms</th>\n",
              "      <th>sqft_living</th>\n",
              "      <th>sqft_lot</th>\n",
              "      <th>floors</th>\n",
              "      <th>waterfront</th>\n",
              "      <th>view</th>\n",
              "      <th>condition</th>\n",
              "      <th>grade</th>\n",
              "      <th>sqft_above</th>\n",
              "      <th>sqft_basement</th>\n",
              "      <th>house_age</th>\n",
              "    </tr>\n",
              "  </thead>\n",
              "  <tbody>\n",
              "    <tr>\n",
              "      <th>bedrooms</th>\n",
              "      <td>1.248813</td>\n",
              "      <td>-0.289057</td>\n",
              "      <td>-1.715991e-01</td>\n",
              "      <td>-0.009352</td>\n",
              "      <td>0.095643</td>\n",
              "      <td>0.048350</td>\n",
              "      <td>0.055949</td>\n",
              "      <td>0.010601</td>\n",
              "      <td>0.197534</td>\n",
              "      <td>-2.609837e-01</td>\n",
              "      <td>-2.214315e-01</td>\n",
              "      <td>-0.054485</td>\n",
              "    </tr>\n",
              "    <tr>\n",
              "      <th>bathrooms</th>\n",
              "      <td>-0.289057</td>\n",
              "      <td>2.015631</td>\n",
              "      <td>-8.235820e-01</td>\n",
              "      <td>0.156320</td>\n",
              "      <td>-0.392552</td>\n",
              "      <td>-0.016124</td>\n",
              "      <td>0.019973</td>\n",
              "      <td>-0.126163</td>\n",
              "      <td>-0.174043</td>\n",
              "      <td>4.062681e-02</td>\n",
              "      <td>-5.565705e-02</td>\n",
              "      <td>0.642097</td>\n",
              "    </tr>\n",
              "    <tr>\n",
              "      <th>sqft_living</th>\n",
              "      <td>-0.168053</td>\n",
              "      <td>-0.824222</td>\n",
              "      <td>-5.129876e+14</td>\n",
              "      <td>0.627355</td>\n",
              "      <td>2.348631</td>\n",
              "      <td>0.066837</td>\n",
              "      <td>-0.181272</td>\n",
              "      <td>1.043864</td>\n",
              "      <td>-1.839315</td>\n",
              "      <td>4.059829e+14</td>\n",
              "      <td>2.845306e+14</td>\n",
              "      <td>-1.099760</td>\n",
              "    </tr>\n",
              "    <tr>\n",
              "      <th>sqft_lot</th>\n",
              "      <td>-0.009352</td>\n",
              "      <td>0.156320</td>\n",
              "      <td>6.641140e-01</td>\n",
              "      <td>1.255979</td>\n",
              "      <td>0.527847</td>\n",
              "      <td>-0.155520</td>\n",
              "      <td>-0.030969</td>\n",
              "      <td>-0.032844</td>\n",
              "      <td>0.008084</td>\n",
              "      <td>-9.918974e-01</td>\n",
              "      <td>-4.216477e-01</td>\n",
              "      <td>0.238656</td>\n",
              "    </tr>\n",
              "    <tr>\n",
              "      <th>floors</th>\n",
              "      <td>0.095643</td>\n",
              "      <td>-0.392552</td>\n",
              "      <td>2.388940e+00</td>\n",
              "      <td>0.527847</td>\n",
              "      <td>1.854469</td>\n",
              "      <td>-0.093541</td>\n",
              "      <td>-0.023023</td>\n",
              "      <td>0.062960</td>\n",
              "      <td>-0.105770</td>\n",
              "      <td>-2.765392e+00</td>\n",
              "      <td>-1.058831e+00</td>\n",
              "      <td>-0.211455</td>\n",
              "    </tr>\n",
              "    <tr>\n",
              "      <th>waterfront</th>\n",
              "      <td>0.048350</td>\n",
              "      <td>-0.016124</td>\n",
              "      <td>6.068358e-02</td>\n",
              "      <td>-0.155520</td>\n",
              "      <td>-0.093541</td>\n",
              "      <td>1.146896</td>\n",
              "      <td>-0.373193</td>\n",
              "      <td>-0.011059</td>\n",
              "      <td>-0.003630</td>\n",
              "      <td>5.001778e-02</td>\n",
              "      <td>-2.280119e-02</td>\n",
              "      <td>-0.032599</td>\n",
              "    </tr>\n",
              "    <tr>\n",
              "      <th>view</th>\n",
              "      <td>0.055949</td>\n",
              "      <td>0.019973</td>\n",
              "      <td>-1.880591e-01</td>\n",
              "      <td>-0.030969</td>\n",
              "      <td>-0.023023</td>\n",
              "      <td>-0.373193</td>\n",
              "      <td>1.234865</td>\n",
              "      <td>0.035672</td>\n",
              "      <td>-0.265469</td>\n",
              "      <td>4.453724e-02</td>\n",
              "      <td>1.618663e-02</td>\n",
              "      <td>-0.149756</td>\n",
              "    </tr>\n",
              "    <tr>\n",
              "      <th>condition</th>\n",
              "      <td>0.010601</td>\n",
              "      <td>-0.126163</td>\n",
              "      <td>1.050268e+00</td>\n",
              "      <td>-0.032844</td>\n",
              "      <td>0.062960</td>\n",
              "      <td>-0.011059</td>\n",
              "      <td>0.035672</td>\n",
              "      <td>1.132733</td>\n",
              "      <td>-0.012680</td>\n",
              "      <td>-8.131313e-01</td>\n",
              "      <td>-7.542352e-01</td>\n",
              "      <td>-0.364679</td>\n",
              "    </tr>\n",
              "    <tr>\n",
              "      <th>grade</th>\n",
              "      <td>0.197534</td>\n",
              "      <td>-0.174043</td>\n",
              "      <td>-1.830913e+00</td>\n",
              "      <td>0.008084</td>\n",
              "      <td>-0.105770</td>\n",
              "      <td>-0.003630</td>\n",
              "      <td>-0.265469</td>\n",
              "      <td>-0.012680</td>\n",
              "      <td>1.826550</td>\n",
              "      <td>5.423313e-01</td>\n",
              "      <td>8.597779e-01</td>\n",
              "      <td>0.330879</td>\n",
              "    </tr>\n",
              "    <tr>\n",
              "      <th>sqft_above</th>\n",
              "      <td>-0.224266</td>\n",
              "      <td>0.056386</td>\n",
              "      <td>4.059829e+14</td>\n",
              "      <td>-0.965192</td>\n",
              "      <td>-2.740891</td>\n",
              "      <td>0.045073</td>\n",
              "      <td>0.038904</td>\n",
              "      <td>-0.807730</td>\n",
              "      <td>0.551498</td>\n",
              "      <td>-3.212984e+14</td>\n",
              "      <td>-2.251800e+14</td>\n",
              "      <td>0.647976</td>\n",
              "    </tr>\n",
              "    <tr>\n",
              "      <th>sqft_basement</th>\n",
              "      <td>-0.188604</td>\n",
              "      <td>0.007228</td>\n",
              "      <td>2.845306e+14</td>\n",
              "      <td>-0.404286</td>\n",
              "      <td>-1.046185</td>\n",
              "      <td>-0.026043</td>\n",
              "      <td>0.012412</td>\n",
              "      <td>-0.751146</td>\n",
              "      <td>0.864555</td>\n",
              "      <td>-2.251800e+14</td>\n",
              "      <td>-1.578160e+14</td>\n",
              "      <td>0.476372</td>\n",
              "    </tr>\n",
              "    <tr>\n",
              "      <th>house_age</th>\n",
              "      <td>-0.054485</td>\n",
              "      <td>0.642097</td>\n",
              "      <td>-1.095164e+00</td>\n",
              "      <td>0.238656</td>\n",
              "      <td>-0.211455</td>\n",
              "      <td>-0.032599</td>\n",
              "      <td>-0.149756</td>\n",
              "      <td>-0.364679</td>\n",
              "      <td>0.330879</td>\n",
              "      <td>6.443384e-01</td>\n",
              "      <td>4.738231e-01</td>\n",
              "      <td>1.438105</td>\n",
              "    </tr>\n",
              "  </tbody>\n",
              "</table>\n",
              "</div>"
            ],
            "text/plain": [
              "               bedrooms  bathrooms  ...  sqft_basement  house_age\n",
              "bedrooms       1.248813  -0.289057  ...  -2.214315e-01  -0.054485\n",
              "bathrooms     -0.289057   2.015631  ...  -5.565705e-02   0.642097\n",
              "sqft_living   -0.168053  -0.824222  ...   2.845306e+14  -1.099760\n",
              "sqft_lot      -0.009352   0.156320  ...  -4.216477e-01   0.238656\n",
              "floors         0.095643  -0.392552  ...  -1.058831e+00  -0.211455\n",
              "waterfront     0.048350  -0.016124  ...  -2.280119e-02  -0.032599\n",
              "view           0.055949   0.019973  ...   1.618663e-02  -0.149756\n",
              "condition      0.010601  -0.126163  ...  -7.542352e-01  -0.364679\n",
              "grade          0.197534  -0.174043  ...   8.597779e-01   0.330879\n",
              "sqft_above    -0.224266   0.056386  ...  -2.251800e+14   0.647976\n",
              "sqft_basement -0.188604   0.007228  ...  -1.578160e+14   0.476372\n",
              "house_age     -0.054485   0.642097  ...   4.738231e-01   1.438105\n",
              "\n",
              "[12 rows x 12 columns]"
            ]
          },
          "metadata": {
            "tags": []
          },
          "execution_count": 44
        }
      ]
    },
    {
      "cell_type": "markdown",
      "metadata": {
        "id": "rqU2B_ujDk-Y"
      },
      "source": [
        "The VIF scores of these columns:\n",
        "sqft_living -> 1.819677e+13, sqft_above -> 1.479251e+13, sqft_basement -> 4.225246e+12.\n",
        "\n",
        "These VIF scores are high indicating presence of multicolinearity which will affect the model.\n"
      ]
    },
    {
      "cell_type": "code",
      "metadata": {
        "colab": {
          "base_uri": "https://localhost:8080/"
        },
        "id": "uG2KeBqnyBRm",
        "outputId": "3598dfab-a4f8-4eae-8d13-08786d3c4739"
      },
      "source": [
        "# dropping sqft_basement to check if the VIF scores will reduce to below 5.\n",
        "revised = independent_only.drop(columns=['sqft_basement'])\n",
        "\n",
        "correlations = revised.corr()\n",
        "pd.DataFrame(np.linalg.inv(correlations.values), index = correlations.index, columns=correlations.columns)\n"
      ],
      "execution_count": null,
      "outputs": [
        {
          "output_type": "execute_result",
          "data": {
            "text/html": [
              "<div>\n",
              "<style scoped>\n",
              "    .dataframe tbody tr th:only-of-type {\n",
              "        vertical-align: middle;\n",
              "    }\n",
              "\n",
              "    .dataframe tbody tr th {\n",
              "        vertical-align: top;\n",
              "    }\n",
              "\n",
              "    .dataframe thead th {\n",
              "        text-align: right;\n",
              "    }\n",
              "</style>\n",
              "<table border=\"1\" class=\"dataframe\">\n",
              "  <thead>\n",
              "    <tr style=\"text-align: right;\">\n",
              "      <th></th>\n",
              "      <th>bedrooms</th>\n",
              "      <th>bathrooms</th>\n",
              "      <th>sqft_living</th>\n",
              "      <th>sqft_lot</th>\n",
              "      <th>floors</th>\n",
              "      <th>waterfront</th>\n",
              "      <th>view</th>\n",
              "      <th>condition</th>\n",
              "      <th>grade</th>\n",
              "      <th>sqft_above</th>\n",
              "      <th>house_age</th>\n",
              "    </tr>\n",
              "  </thead>\n",
              "  <tbody>\n",
              "    <tr>\n",
              "      <th>bedrooms</th>\n",
              "      <td>1.248813</td>\n",
              "      <td>-0.289057</td>\n",
              "      <td>-0.508092</td>\n",
              "      <td>-0.009352</td>\n",
              "      <td>0.095643</td>\n",
              "      <td>0.048350</td>\n",
              "      <td>0.055949</td>\n",
              "      <td>0.010601</td>\n",
              "      <td>0.197534</td>\n",
              "      <td>0.044844</td>\n",
              "      <td>-0.054485</td>\n",
              "    </tr>\n",
              "    <tr>\n",
              "      <th>bathrooms</th>\n",
              "      <td>-0.289057</td>\n",
              "      <td>2.015631</td>\n",
              "      <td>-0.811190</td>\n",
              "      <td>0.156320</td>\n",
              "      <td>-0.392552</td>\n",
              "      <td>-0.016124</td>\n",
              "      <td>0.019973</td>\n",
              "      <td>-0.126163</td>\n",
              "      <td>-0.174043</td>\n",
              "      <td>0.046073</td>\n",
              "      <td>0.642097</td>\n",
              "    </tr>\n",
              "    <tr>\n",
              "      <th>sqft_living</th>\n",
              "      <td>-0.508092</td>\n",
              "      <td>-0.811190</td>\n",
              "      <td>4.168854</td>\n",
              "      <td>-0.101543</td>\n",
              "      <td>0.462437</td>\n",
              "      <td>0.019884</td>\n",
              "      <td>-0.158894</td>\n",
              "      <td>-0.310396</td>\n",
              "      <td>-0.280586</td>\n",
              "      <td>-2.974351</td>\n",
              "      <td>-0.240896</td>\n",
              "    </tr>\n",
              "    <tr>\n",
              "      <th>sqft_lot</th>\n",
              "      <td>-0.009352</td>\n",
              "      <td>0.156320</td>\n",
              "      <td>-0.101543</td>\n",
              "      <td>1.255979</td>\n",
              "      <td>0.527847</td>\n",
              "      <td>-0.155520</td>\n",
              "      <td>-0.030969</td>\n",
              "      <td>-0.032844</td>\n",
              "      <td>0.008084</td>\n",
              "      <td>-0.388336</td>\n",
              "      <td>0.238656</td>\n",
              "    </tr>\n",
              "    <tr>\n",
              "      <th>floors</th>\n",
              "      <td>0.095643</td>\n",
              "      <td>-0.392552</td>\n",
              "      <td>0.462437</td>\n",
              "      <td>0.527847</td>\n",
              "      <td>1.854469</td>\n",
              "      <td>-0.093541</td>\n",
              "      <td>-0.023023</td>\n",
              "      <td>0.062960</td>\n",
              "      <td>-0.105770</td>\n",
              "      <td>-1.248140</td>\n",
              "      <td>-0.211455</td>\n",
              "    </tr>\n",
              "    <tr>\n",
              "      <th>waterfront</th>\n",
              "      <td>0.048350</td>\n",
              "      <td>-0.016124</td>\n",
              "      <td>0.019884</td>\n",
              "      <td>-0.155520</td>\n",
              "      <td>-0.093541</td>\n",
              "      <td>1.146896</td>\n",
              "      <td>-0.373193</td>\n",
              "      <td>-0.011059</td>\n",
              "      <td>-0.003630</td>\n",
              "      <td>0.082232</td>\n",
              "      <td>-0.032599</td>\n",
              "    </tr>\n",
              "    <tr>\n",
              "      <th>view</th>\n",
              "      <td>0.055949</td>\n",
              "      <td>0.019973</td>\n",
              "      <td>-0.158894</td>\n",
              "      <td>-0.030969</td>\n",
              "      <td>-0.023023</td>\n",
              "      <td>-0.373193</td>\n",
              "      <td>1.234865</td>\n",
              "      <td>0.035672</td>\n",
              "      <td>-0.265469</td>\n",
              "      <td>0.021194</td>\n",
              "      <td>-0.149756</td>\n",
              "    </tr>\n",
              "    <tr>\n",
              "      <th>condition</th>\n",
              "      <td>0.010601</td>\n",
              "      <td>-0.126163</td>\n",
              "      <td>-0.310396</td>\n",
              "      <td>-0.032844</td>\n",
              "      <td>0.062960</td>\n",
              "      <td>-0.011059</td>\n",
              "      <td>0.035672</td>\n",
              "      <td>1.132733</td>\n",
              "      <td>-0.012680</td>\n",
              "      <td>0.264043</td>\n",
              "      <td>-0.364679</td>\n",
              "    </tr>\n",
              "    <tr>\n",
              "      <th>grade</th>\n",
              "      <td>0.197534</td>\n",
              "      <td>-0.174043</td>\n",
              "      <td>-0.280586</td>\n",
              "      <td>0.008084</td>\n",
              "      <td>-0.105770</td>\n",
              "      <td>-0.003630</td>\n",
              "      <td>-0.265469</td>\n",
              "      <td>-0.012680</td>\n",
              "      <td>1.826550</td>\n",
              "      <td>-0.682095</td>\n",
              "      <td>0.330879</td>\n",
              "    </tr>\n",
              "    <tr>\n",
              "      <th>sqft_above</th>\n",
              "      <td>0.044844</td>\n",
              "      <td>0.046073</td>\n",
              "      <td>-2.974351</td>\n",
              "      <td>-0.388336</td>\n",
              "      <td>-1.248140</td>\n",
              "      <td>0.082232</td>\n",
              "      <td>0.021194</td>\n",
              "      <td>0.264043</td>\n",
              "      <td>-0.682095</td>\n",
              "      <td>4.590143</td>\n",
              "      <td>-0.031737</td>\n",
              "    </tr>\n",
              "    <tr>\n",
              "      <th>house_age</th>\n",
              "      <td>-0.054485</td>\n",
              "      <td>0.642097</td>\n",
              "      <td>-0.240896</td>\n",
              "      <td>0.238656</td>\n",
              "      <td>-0.211455</td>\n",
              "      <td>-0.032599</td>\n",
              "      <td>-0.149756</td>\n",
              "      <td>-0.364679</td>\n",
              "      <td>0.330879</td>\n",
              "      <td>-0.031737</td>\n",
              "      <td>1.438105</td>\n",
              "    </tr>\n",
              "  </tbody>\n",
              "</table>\n",
              "</div>"
            ],
            "text/plain": [
              "             bedrooms  bathrooms  sqft_living  ...     grade  sqft_above  house_age\n",
              "bedrooms     1.248813  -0.289057    -0.508092  ...  0.197534    0.044844  -0.054485\n",
              "bathrooms   -0.289057   2.015631    -0.811190  ... -0.174043    0.046073   0.642097\n",
              "sqft_living -0.508092  -0.811190     4.168854  ... -0.280586   -2.974351  -0.240896\n",
              "sqft_lot    -0.009352   0.156320    -0.101543  ...  0.008084   -0.388336   0.238656\n",
              "floors       0.095643  -0.392552     0.462437  ... -0.105770   -1.248140  -0.211455\n",
              "waterfront   0.048350  -0.016124     0.019884  ... -0.003630    0.082232  -0.032599\n",
              "view         0.055949   0.019973    -0.158894  ... -0.265469    0.021194  -0.149756\n",
              "condition    0.010601  -0.126163    -0.310396  ... -0.012680    0.264043  -0.364679\n",
              "grade        0.197534  -0.174043    -0.280586  ...  1.826550   -0.682095   0.330879\n",
              "sqft_above   0.044844   0.046073    -2.974351  ... -0.682095    4.590143  -0.031737\n",
              "house_age   -0.054485   0.642097    -0.240896  ...  0.330879   -0.031737   1.438105\n",
              "\n",
              "[11 rows x 11 columns]"
            ]
          },
          "metadata": {
            "tags": []
          },
          "execution_count": 45
        }
      ]
    },
    {
      "cell_type": "markdown",
      "metadata": {
        "id": "qoOW91paymRG"
      },
      "source": [
        "The aforementioned VIF scores are still high, above 5, but they did decrease."
      ]
    },
    {
      "cell_type": "code",
      "metadata": {
        "colab": {
          "base_uri": "https://localhost:8080/"
        },
        "id": "Dlx-xwi0yxaW",
        "outputId": "0426e44e-7818-4fe3-b75b-504f3deaee2c"
      },
      "source": [
        "#\n",
        "revised2 = independent_only.drop(columns=['sqft_above', 'sqft_basement'])\n",
        "\n",
        "correlations2 = revised2.corr()\n",
        "pd.DataFrame(np.linalg.inv(correlations2.values), index = correlations2.index, columns=correlations2.columns)\n"
      ],
      "execution_count": null,
      "outputs": [
        {
          "output_type": "execute_result",
          "data": {
            "text/html": [
              "<div>\n",
              "<style scoped>\n",
              "    .dataframe tbody tr th:only-of-type {\n",
              "        vertical-align: middle;\n",
              "    }\n",
              "\n",
              "    .dataframe tbody tr th {\n",
              "        vertical-align: top;\n",
              "    }\n",
              "\n",
              "    .dataframe thead th {\n",
              "        text-align: right;\n",
              "    }\n",
              "</style>\n",
              "<table border=\"1\" class=\"dataframe\">\n",
              "  <thead>\n",
              "    <tr style=\"text-align: right;\">\n",
              "      <th></th>\n",
              "      <th>bedrooms</th>\n",
              "      <th>bathrooms</th>\n",
              "      <th>sqft_living</th>\n",
              "      <th>sqft_lot</th>\n",
              "      <th>floors</th>\n",
              "      <th>waterfront</th>\n",
              "      <th>view</th>\n",
              "      <th>condition</th>\n",
              "      <th>grade</th>\n",
              "      <th>house_age</th>\n",
              "    </tr>\n",
              "  </thead>\n",
              "  <tbody>\n",
              "    <tr>\n",
              "      <th>bedrooms</th>\n",
              "      <td>1.248375</td>\n",
              "      <td>-0.289508</td>\n",
              "      <td>-0.479034</td>\n",
              "      <td>-0.005558</td>\n",
              "      <td>0.107837</td>\n",
              "      <td>0.047547</td>\n",
              "      <td>0.055742</td>\n",
              "      <td>0.008021</td>\n",
              "      <td>0.204198</td>\n",
              "      <td>-0.054175</td>\n",
              "    </tr>\n",
              "    <tr>\n",
              "      <th>bathrooms</th>\n",
              "      <td>-0.289508</td>\n",
              "      <td>2.015168</td>\n",
              "      <td>-0.781335</td>\n",
              "      <td>0.160218</td>\n",
              "      <td>-0.380024</td>\n",
              "      <td>-0.016949</td>\n",
              "      <td>0.019760</td>\n",
              "      <td>-0.128813</td>\n",
              "      <td>-0.167197</td>\n",
              "      <td>0.642415</td>\n",
              "    </tr>\n",
              "    <tr>\n",
              "      <th>sqft_living</th>\n",
              "      <td>-0.479034</td>\n",
              "      <td>-0.781335</td>\n",
              "      <td>2.241514</td>\n",
              "      <td>-0.353179</td>\n",
              "      <td>-0.346341</td>\n",
              "      <td>0.073169</td>\n",
              "      <td>-0.145161</td>\n",
              "      <td>-0.139300</td>\n",
              "      <td>-0.722574</td>\n",
              "      <td>-0.261461</td>\n",
              "    </tr>\n",
              "    <tr>\n",
              "      <th>sqft_lot</th>\n",
              "      <td>-0.005558</td>\n",
              "      <td>0.160218</td>\n",
              "      <td>-0.353179</td>\n",
              "      <td>1.223125</td>\n",
              "      <td>0.422251</td>\n",
              "      <td>-0.148563</td>\n",
              "      <td>-0.029176</td>\n",
              "      <td>-0.010505</td>\n",
              "      <td>-0.049623</td>\n",
              "      <td>0.235971</td>\n",
              "    </tr>\n",
              "    <tr>\n",
              "      <th>floors</th>\n",
              "      <td>0.107837</td>\n",
              "      <td>-0.380024</td>\n",
              "      <td>-0.346341</td>\n",
              "      <td>0.422251</td>\n",
              "      <td>1.515078</td>\n",
              "      <td>-0.071181</td>\n",
              "      <td>-0.017260</td>\n",
              "      <td>0.134758</td>\n",
              "      <td>-0.291243</td>\n",
              "      <td>-0.220084</td>\n",
              "    </tr>\n",
              "    <tr>\n",
              "      <th>waterfront</th>\n",
              "      <td>0.047547</td>\n",
              "      <td>-0.016949</td>\n",
              "      <td>0.073169</td>\n",
              "      <td>-0.148563</td>\n",
              "      <td>-0.071181</td>\n",
              "      <td>1.145422</td>\n",
              "      <td>-0.373573</td>\n",
              "      <td>-0.015789</td>\n",
              "      <td>0.008590</td>\n",
              "      <td>-0.032030</td>\n",
              "    </tr>\n",
              "    <tr>\n",
              "      <th>view</th>\n",
              "      <td>0.055742</td>\n",
              "      <td>0.019760</td>\n",
              "      <td>-0.145161</td>\n",
              "      <td>-0.029176</td>\n",
              "      <td>-0.017260</td>\n",
              "      <td>-0.373573</td>\n",
              "      <td>1.234767</td>\n",
              "      <td>0.034453</td>\n",
              "      <td>-0.262320</td>\n",
              "      <td>-0.149610</td>\n",
              "    </tr>\n",
              "    <tr>\n",
              "      <th>condition</th>\n",
              "      <td>0.008021</td>\n",
              "      <td>-0.128813</td>\n",
              "      <td>-0.139300</td>\n",
              "      <td>-0.010505</td>\n",
              "      <td>0.134758</td>\n",
              "      <td>-0.015789</td>\n",
              "      <td>0.034453</td>\n",
              "      <td>1.117544</td>\n",
              "      <td>0.026557</td>\n",
              "      <td>-0.362853</td>\n",
              "    </tr>\n",
              "    <tr>\n",
              "      <th>grade</th>\n",
              "      <td>0.204198</td>\n",
              "      <td>-0.167197</td>\n",
              "      <td>-0.722574</td>\n",
              "      <td>-0.049623</td>\n",
              "      <td>-0.291243</td>\n",
              "      <td>0.008590</td>\n",
              "      <td>-0.262320</td>\n",
              "      <td>0.026557</td>\n",
              "      <td>1.725191</td>\n",
              "      <td>0.326163</td>\n",
              "    </tr>\n",
              "    <tr>\n",
              "      <th>house_age</th>\n",
              "      <td>-0.054175</td>\n",
              "      <td>0.642415</td>\n",
              "      <td>-0.261461</td>\n",
              "      <td>0.235971</td>\n",
              "      <td>-0.220084</td>\n",
              "      <td>-0.032030</td>\n",
              "      <td>-0.149610</td>\n",
              "      <td>-0.362853</td>\n",
              "      <td>0.326163</td>\n",
              "      <td>1.437885</td>\n",
              "    </tr>\n",
              "  </tbody>\n",
              "</table>\n",
              "</div>"
            ],
            "text/plain": [
              "             bedrooms  bathrooms  sqft_living  ...  condition     grade  house_age\n",
              "bedrooms     1.248375  -0.289508    -0.479034  ...   0.008021  0.204198  -0.054175\n",
              "bathrooms   -0.289508   2.015168    -0.781335  ...  -0.128813 -0.167197   0.642415\n",
              "sqft_living -0.479034  -0.781335     2.241514  ...  -0.139300 -0.722574  -0.261461\n",
              "sqft_lot    -0.005558   0.160218    -0.353179  ...  -0.010505 -0.049623   0.235971\n",
              "floors       0.107837  -0.380024    -0.346341  ...   0.134758 -0.291243  -0.220084\n",
              "waterfront   0.047547  -0.016949     0.073169  ...  -0.015789  0.008590  -0.032030\n",
              "view         0.055742   0.019760    -0.145161  ...   0.034453 -0.262320  -0.149610\n",
              "condition    0.008021  -0.128813    -0.139300  ...   1.117544  0.026557  -0.362853\n",
              "grade        0.204198  -0.167197    -0.722574  ...   0.026557  1.725191   0.326163\n",
              "house_age   -0.054175   0.642415    -0.261461  ...  -0.362853  0.326163   1.437885\n",
              "\n",
              "[10 rows x 10 columns]"
            ]
          },
          "metadata": {
            "tags": []
          },
          "execution_count": 46
        }
      ]
    },
    {
      "cell_type": "markdown",
      "metadata": {
        "id": "L8QX5d8v2xBJ"
      },
      "source": [
        "dropping the column sqft_above and sqft_basement has led to the decrease of VIF scores to below 5. This column is not goin to be used in the regression steps that follow inorder to reduce multicolinearity"
      ]
    },
    {
      "cell_type": "markdown",
      "metadata": {
        "id": "fp5dq0Na57qR"
      },
      "source": [
        "#### Residual plots and Heteroskedaticity"
      ]
    },
    {
      "cell_type": "code",
      "metadata": {
        "colab": {
          "base_uri": "https://localhost:8080/"
        },
        "id": "xSqrlE-Z57E1",
        "outputId": "5c0d1ac4-7195-4b1c-8d6c-c0a6bf9ae8a2"
      },
      "source": [
        "from sklearn import metrics\n",
        "from sklearn.model_selection import train_test_split\n",
        "from sklearn.linear_model import LinearRegression\n",
        "\n",
        "revised2 = independent_only.drop(columns=['sqft_above', 'sqft_basement'])\n",
        "X = revised2.values\n",
        "y = house_df['price'].values\n",
        "\n",
        "X_train, X_test, price_train, price_test = train_test_split(X, y, test_size=0.2, random_state=0)\n",
        "\n",
        "regressor = LinearRegression()\n",
        "regressor.fit(X_train, price_train)\n",
        "\n",
        "# This is the prediction for price based on the model\n",
        "price_predict = regressor.predict(X_test)\n",
        "\n",
        "# creating the residual by substracting the test value from the predicted \n",
        "# value for each row in the dataset\n",
        "\n",
        "residuals = np.subtract(price_predict, price_test)\n",
        "\n",
        "# Let's describe our residual:\n",
        "pd.DataFrame(residuals).describe()\n",
        "\n"
      ],
      "execution_count": null,
      "outputs": [
        {
          "output_type": "execute_result",
          "data": {
            "text/html": [
              "<div>\n",
              "<style scoped>\n",
              "    .dataframe tbody tr th:only-of-type {\n",
              "        vertical-align: middle;\n",
              "    }\n",
              "\n",
              "    .dataframe tbody tr th {\n",
              "        vertical-align: top;\n",
              "    }\n",
              "\n",
              "    .dataframe thead th {\n",
              "        text-align: right;\n",
              "    }\n",
              "</style>\n",
              "<table border=\"1\" class=\"dataframe\">\n",
              "  <thead>\n",
              "    <tr style=\"text-align: right;\">\n",
              "      <th></th>\n",
              "      <th>0</th>\n",
              "    </tr>\n",
              "  </thead>\n",
              "  <tbody>\n",
              "    <tr>\n",
              "      <th>count</th>\n",
              "      <td>1.087000e+03</td>\n",
              "    </tr>\n",
              "    <tr>\n",
              "      <th>mean</th>\n",
              "      <td>-2.221918e+02</td>\n",
              "    </tr>\n",
              "    <tr>\n",
              "      <th>std</th>\n",
              "      <td>1.516355e+05</td>\n",
              "    </tr>\n",
              "    <tr>\n",
              "      <th>min</th>\n",
              "      <td>-1.050669e+06</td>\n",
              "    </tr>\n",
              "    <tr>\n",
              "      <th>25%</th>\n",
              "      <td>-8.765143e+04</td>\n",
              "    </tr>\n",
              "    <tr>\n",
              "      <th>50%</th>\n",
              "      <td>1.009491e+04</td>\n",
              "    </tr>\n",
              "    <tr>\n",
              "      <th>75%</th>\n",
              "      <td>9.989072e+04</td>\n",
              "    </tr>\n",
              "    <tr>\n",
              "      <th>max</th>\n",
              "      <td>4.822458e+05</td>\n",
              "    </tr>\n",
              "  </tbody>\n",
              "</table>\n",
              "</div>"
            ],
            "text/plain": [
              "                  0\n",
              "count  1.087000e+03\n",
              "mean  -2.221918e+02\n",
              "std    1.516355e+05\n",
              "min   -1.050669e+06\n",
              "25%   -8.765143e+04\n",
              "50%    1.009491e+04\n",
              "75%    9.989072e+04\n",
              "max    4.822458e+05"
            ]
          },
          "metadata": {
            "tags": []
          },
          "execution_count": 47
        }
      ]
    },
    {
      "cell_type": "code",
      "metadata": {
        "colab": {
          "base_uri": "https://localhost:8080/"
        },
        "id": "RxxQlN6O8UlH",
        "outputId": "bb7dcae2-8a21-4039-864e-2e25e01326f1"
      },
      "source": [
        "# describing the residual:\n",
        "residuals.mean()"
      ],
      "execution_count": null,
      "outputs": [
        {
          "output_type": "execute_result",
          "data": {
            "text/plain": [
              "-222.19179378403564"
            ]
          },
          "metadata": {
            "tags": []
          },
          "execution_count": 48
        }
      ]
    },
    {
      "cell_type": "code",
      "metadata": {
        "colab": {
          "base_uri": "https://localhost:8080/"
        },
        "id": "8Xjqq41a9Bng",
        "outputId": "d5eab143-349c-4915-e2da-9d2aba6f527e"
      },
      "source": [
        "# scatter plot for residuals\n",
        "import matplotlib.pyplot as plt\n",
        "\n",
        "plt.scatter(price_predict, residuals, color='black')\n",
        "plt.ylabel('residual')\n",
        "plt.xlabel('fitted values')\n",
        "plt.axhline(y= residuals.mean(), color='red', linewidth=1)\n",
        "plt.show()"
      ],
      "execution_count": null,
      "outputs": [
        {
          "output_type": "display_data",
          "data": {
            "image/png": "[encoded data removed]",
            "text/plain": [
              "<Figure size 432x288 with 1 Axes>"
            ]
          },
          "metadata": {
            "tags": [],
            "needs_background": "light"
          }
        }
      ]
    },
    {
      "cell_type": "markdown",
      "metadata": {
        "id": "9CT-ytuQ9Vq9"
      },
      "source": [
        "The residuals are centered around a mean that is very close to 0, and there are no great obvious patterns."
      ]
    },
    {
      "cell_type": "code",
      "metadata": {
        "colab": {
          "base_uri": "https://localhost:8080/"
        },
        "id": "jqrjH1TXKRRP",
        "outputId": "c05bdaf6-d5e8-40e9-ccd3-74a4cce2e2a8"
      },
      "source": [
        "# Barlett's test\n",
        "import scipy as sp\n",
        "\n",
        "test_result, p_value = sp.stats.bartlett(price_predict, residuals)\n",
        "\n",
        "# To interpret the results, compute a critical value of the chi squared distribution\n",
        "degree_of_freedom = len(price_predict)-1\n",
        "probability = 1 - p_value\n",
        "\n",
        "critical_value = sp.stats.chi2.ppf(probability, degree_of_freedom)\n",
        "print(critical_value)\n",
        "\n",
        "# If the test_result is greater than the critical value, reject the null\n",
        "# hypothesis. This would mean that there are patterns to the variance of the data\n",
        "\n",
        "# Otherwise, if there are no identifiable patterns, accept the null hypothesis that \n",
        "# the variance is homogeneous across our data\n",
        "\n",
        "if (test_result > critical_value):\n",
        "  print('the variances are unequal, and the model should be reassessed')\n",
        "else:\n",
        "  print('the variances are homogeneous!')\n"
      ],
      "execution_count": null,
      "outputs": [
        {
          "output_type": "stream",
          "text": [
            "1281.5577242982379\n",
            "the variances are homogeneous!\n"
          ],
          "name": "stdout"
        }
      ]
    },
    {
      "cell_type": "markdown",
      "metadata": {
        "id": "vTbdjSrhVIiT"
      },
      "source": [
        "## 7. Implementing the Solution"
      ]
    },
    {
      "cell_type": "markdown",
      "metadata": {
        "id": "MzlVAYhrviAW"
      },
      "source": [
        "#### Multiple Linear regression"
      ]
    },
    {
      "cell_type": "code",
      "metadata": {
        "id": "nHNTjD3CvhoT"
      },
      "source": [
        "# Importing the necessary libraries\n",
        "import numpy as np\n",
        "import pandas as pd\n",
        "from sklearn.model_selection import GridSearchCV\n",
        "from sklearn.linear_model import LinearRegression\n",
        "from sklearn.metrics import mean_squared_error"
      ],
      "execution_count": 71,
      "outputs": []
    },
    {
      "cell_type": "code",
      "metadata": {
        "colab": {
          "base_uri": "https://localhost:8080/"
        },
        "id": "LU3AOhIrFRrn",
        "outputId": "3787b4e8-6663-41cf-84b0-36782527c42c"
      },
      "source": [
        "house_df.info()"
      ],
      "execution_count": 72,
      "outputs": [
        {
          "output_type": "stream",
          "text": [
            "<class 'pandas.core.frame.DataFrame'>\n",
            "Int64Index: 5434 entries, 1 to 21577\n",
            "Data columns (total 13 columns):\n",
            " #   Column         Non-Null Count  Dtype  \n",
            "---  ------         --------------  -----  \n",
            " 0   price          5434 non-null   float64\n",
            " 1   bedrooms       5434 non-null   int64  \n",
            " 2   bathrooms      5434 non-null   float64\n",
            " 3   sqft_living    5434 non-null   int64  \n",
            " 4   sqft_lot       5434 non-null   int64  \n",
            " 5   floors         5434 non-null   float64\n",
            " 6   waterfront     5434 non-null   int64  \n",
            " 7   view           5434 non-null   int64  \n",
            " 8   condition      5434 non-null   int64  \n",
            " 9   grade          5434 non-null   int64  \n",
            " 10  sqft_above     5434 non-null   int64  \n",
            " 11  sqft_basement  5434 non-null   int64  \n",
            " 12  house_age      5434 non-null   int64  \n",
            "dtypes: float64(3), int64(10)\n",
            "memory usage: 594.3 KB\n"
          ],
          "name": "stdout"
        }
      ]
    },
    {
      "cell_type": "code",
      "metadata": {
        "id": "D1DCJuD_wESA"
      },
      "source": [
        "# Setting up the X and y datasets\n",
        "#\n",
        "X = house_df[['bedrooms', 'bathrooms', 'sqft_living', 'sqft_lot', 'floors', 'waterfront', 'view', 'condition', 'grade', 'house_age']]\n",
        "y = house_df['price']"
      ],
      "execution_count": 73,
      "outputs": []
    },
    {
      "cell_type": "code",
      "metadata": {
        "colab": {
          "base_uri": "https://localhost:8080/"
        },
        "id": "C9Y-fzYPxfuo",
        "outputId": "fe7c2fc9-fba0-4e91-e355-376d33b04e78"
      },
      "source": [
        "# Creating the linear regression model for the purpose of comparison\n",
        "# \n",
        "regression=LinearRegression()\n",
        "regression.fit(X,y)\n",
        "first_model=(mean_squared_error(y_true=y,y_pred=regression.predict(X)))\n",
        "print(first_model) \n",
        "\n",
        "# This mean standard error score of 24711730101.189957 is our benchmark.\n"
      ],
      "execution_count": 74,
      "outputs": [
        {
          "output_type": "stream",
          "text": [
            "24711730101.189957\n"
          ],
          "name": "stdout"
        }
      ]
    },
    {
      "cell_type": "markdown",
      "metadata": {
        "id": "Zhk-RwqC73Bm"
      },
      "source": [
        "#### quantile regression"
      ]
    },
    {
      "cell_type": "code",
      "metadata": {
        "colab": {
          "base_uri": "https://localhost:8080/"
        },
        "id": "9jDgjeApLcZw",
        "outputId": "f865373f-545c-4cb3-a99c-0a966c7d5b43"
      },
      "source": [
        "# Import the python package statsmodels for Quantile Regression\n",
        "#\n",
        "import statsmodels.formula.api as smf\n",
        "\n",
        "# Finding the regression coefficients for the conditioned  0.1 quantile\n",
        "#\n",
        "mod = smf.quantreg('y ~ X', house_df)\n",
        "res = mod.fit(q=.1)\n",
        "\n",
        "# Then print out the summary of the model\n",
        "#\n",
        "print(res.summary())\n",
        "\n",
        "# You see that our intercept is -5.013e+05 \n",
        "# These are the parameters for the 0.1th quantile of our y. "
      ],
      "execution_count": 85,
      "outputs": [
        {
          "output_type": "stream",
          "text": [
            "                         QuantReg Regression Results                          \n",
            "==============================================================================\n",
            "Dep. Variable:                      y   Pseudo R-squared:               0.1912\n",
            "Model:                       QuantReg   Bandwidth:                   3.504e+04\n",
            "Method:                 Least Squares   Sparsity:                    5.060e+05\n",
            "Date:                Fri, 16 Apr 2021   No. Observations:                 5434\n",
            "Time:                        08:40:08   Df Residuals:                     5423\n",
            "                                        Df Model:                           10\n",
            "==============================================================================\n",
            "                 coef    std err          t      P>|t|      [0.025      0.975]\n",
            "------------------------------------------------------------------------------\n",
            "Intercept  -5.013e+05   2.53e+04    -19.777      0.000   -5.51e+05   -4.52e+05\n",
            "X[0]       -1.544e+04   2327.938     -6.632      0.000      -2e+04   -1.09e+04\n",
            "X[1]        1.807e+04   5038.850      3.587      0.000    8195.049     2.8e+04\n",
            "X[2]          72.6437      7.046     10.310      0.000      58.831      86.456\n",
            "X[3]          -5.4861      0.316    -17.359      0.000      -6.106      -4.867\n",
            "X[4]        5.578e+04   7107.650      7.848      0.000    4.18e+04    6.97e+04\n",
            "X[5]        1.394e+04   2.81e+04      0.496      0.620   -4.11e+04     6.9e+04\n",
            "X[6]        2.219e+04   2827.050      7.850      0.000    1.67e+04    2.77e+04\n",
            "X[7]        2.032e+04   3264.311      6.224      0.000    1.39e+04    2.67e+04\n",
            "X[8]        6.584e+04   3736.940     17.619      0.000    5.85e+04    7.32e+04\n",
            "X[9]        1904.7744     93.640     20.342      0.000    1721.203    2088.345\n",
            "==============================================================================\n",
            "\n",
            "The condition number is large, 1.43e+05. This might indicate that there are\n",
            "strong multicollinearity or other numerical problems.\n"
          ],
          "name": "stdout"
        },
        {
          "output_type": "stream",
          "text": [
            "/usr/local/lib/python3.7/dist-packages/statsmodels/regression/quantile_regression.py:192: IterationLimitWarning: Maximum number of iterations (1000) reached.\n",
            "  \") reached.\", IterationLimitWarning)\n"
          ],
          "name": "stderr"
        }
      ]
    },
    {
      "cell_type": "code",
      "metadata": {
        "colab": {
          "base_uri": "https://localhost:8080/"
        },
        "id": "Ef46IFafLiZ0",
        "outputId": "9e683fc6-8f8a-414b-9f4f-bf1cd0608325"
      },
      "source": [
        "# import the python package statsmodels for Quantile Regression\n",
        "#\n",
        "import statsmodels.formula.api as smf\n",
        "\n",
        "# Finding the regression coefficients for the conditioned 0.2 quantile\n",
        "#\n",
        "mod = smf.quantreg('y ~ X', house_df)\n",
        "res = mod.fit(q=.2)\n",
        "\n",
        "# Then print out the summary of the model\n",
        "#\n",
        "print(res.summary())\n",
        "\n",
        "# You see that our intercept is -3.533e+05\n",
        "# These are the parameters for the 0.2th quantile of our y. "
      ],
      "execution_count": 76,
      "outputs": [
        {
          "output_type": "stream",
          "text": [
            "                         QuantReg Regression Results                          \n",
            "==============================================================================\n",
            "Dep. Variable:                      y   Pseudo R-squared:               0.2088\n",
            "Model:                       QuantReg   Bandwidth:                   3.678e+04\n",
            "Method:                 Least Squares   Sparsity:                    4.149e+05\n",
            "Date:                Fri, 16 Apr 2021   No. Observations:                 5434\n",
            "Time:                        08:39:19   Df Residuals:                     5423\n",
            "                                        Df Model:                           10\n",
            "==============================================================================\n",
            "                 coef    std err          t      P>|t|      [0.025      0.975]\n",
            "------------------------------------------------------------------------------\n",
            "Intercept  -3.533e+05   2.94e+04    -12.007      0.000   -4.11e+05   -2.96e+05\n",
            "X[0]       -4.267e+04   2456.652    -17.370      0.000   -4.75e+04   -3.79e+04\n",
            "X[1]        4.111e+04   5459.318      7.531      0.000    3.04e+04    5.18e+04\n",
            "X[2]          87.7819      7.952     11.040      0.000      72.194     103.370\n",
            "X[3]          -2.2951      0.441     -5.205      0.000      -3.160      -1.431\n",
            "X[4]        9.052e+04   7994.956     11.322      0.000    7.48e+04    1.06e+05\n",
            "X[5]        5.446e+04   3.76e+04      1.447      0.148   -1.93e+04    1.28e+05\n",
            "X[6]        4.495e+04   3454.535     13.011      0.000    3.82e+04    5.17e+04\n",
            "X[7]       -1.159e+04   3329.744     -3.481      0.001   -1.81e+04   -5064.806\n",
            "X[8]        5.844e+04   3987.404     14.656      0.000    5.06e+04    6.63e+04\n",
            "X[9]        2152.4123    106.984     20.119      0.000    1942.681    2362.144\n",
            "==============================================================================\n",
            "\n",
            "The condition number is large, 1.43e+05. This might indicate that there are\n",
            "strong multicollinearity or other numerical problems.\n"
          ],
          "name": "stdout"
        },
        {
          "output_type": "stream",
          "text": [
            "/usr/local/lib/python3.7/dist-packages/statsmodels/regression/quantile_regression.py:192: IterationLimitWarning: Maximum number of iterations (1000) reached.\n",
            "  \") reached.\", IterationLimitWarning)\n"
          ],
          "name": "stderr"
        }
      ]
    },
    {
      "cell_type": "code",
      "metadata": {
        "colab": {
          "base_uri": "https://localhost:8080/"
        },
        "id": "jRfIQr1yLlkA",
        "outputId": "eb15c22c-e5c6-4d63-a08e-b1144fced589"
      },
      "source": [
        "# import the python package statsmodels for Quantile Regression\n",
        "#\n",
        "import statsmodels.formula.api as smf\n",
        "\n",
        "# Finding the regression coefficients for the conditioned 0.3 quantile\n",
        "#\n",
        "mod = smf.quantreg('y ~ X', house_df)\n",
        "res = mod.fit(q=.3)\n",
        "\n",
        "# Then print out the summary of the model\n",
        "#\n",
        "print(res.summary())\n",
        "\n",
        "# You see that our intercept is -9.33e+05.\n",
        "# These are the parameters for the 0.3th quantile of our y. "
      ],
      "execution_count": 77,
      "outputs": [
        {
          "output_type": "stream",
          "text": [
            "                         QuantReg Regression Results                          \n",
            "==============================================================================\n",
            "Dep. Variable:                      y   Pseudo R-squared:               0.2881\n",
            "Model:                       QuantReg   Bandwidth:                   3.526e+04\n",
            "Method:                 Least Squares   Sparsity:                    3.690e+05\n",
            "Date:                Fri, 16 Apr 2021   No. Observations:                 5434\n",
            "Time:                        08:39:20   Df Residuals:                     5423\n",
            "                                        Df Model:                           10\n",
            "==============================================================================\n",
            "                 coef    std err          t      P>|t|      [0.025      0.975]\n",
            "------------------------------------------------------------------------------\n",
            "Intercept   -9.33e+05   2.81e+04    -33.191      0.000   -9.88e+05   -8.78e+05\n",
            "X[0]       -1.536e+04   2579.787     -5.952      0.000   -2.04e+04   -1.03e+04\n",
            "X[1]        2.808e+04   5303.358      5.295      0.000    1.77e+04    3.85e+04\n",
            "X[2]          74.4594      7.554      9.857      0.000      59.651      89.268\n",
            "X[3]          -3.8004      0.430     -8.833      0.000      -4.644      -2.957\n",
            "X[4]        7.271e+04   7422.132      9.796      0.000    5.82e+04    8.73e+04\n",
            "X[5]        5.739e+04   3.21e+04      1.790      0.073   -5456.573     1.2e+05\n",
            "X[6]        2.636e+04   3198.257      8.243      0.000    2.01e+04    3.26e+04\n",
            "X[7]        2.193e+04   3452.097      6.353      0.000    1.52e+04    2.87e+04\n",
            "X[8]        1.195e+05   3859.934     30.969      0.000    1.12e+05    1.27e+05\n",
            "X[9]        2928.0912    106.755     27.428      0.000    2718.808    3137.375\n",
            "==============================================================================\n",
            "\n",
            "The condition number is large, 1.43e+05. This might indicate that there are\n",
            "strong multicollinearity or other numerical problems.\n"
          ],
          "name": "stdout"
        },
        {
          "output_type": "stream",
          "text": [
            "/usr/local/lib/python3.7/dist-packages/statsmodels/regression/quantile_regression.py:192: IterationLimitWarning: Maximum number of iterations (1000) reached.\n",
            "  \") reached.\", IterationLimitWarning)\n"
          ],
          "name": "stderr"
        }
      ]
    },
    {
      "cell_type": "code",
      "metadata": {
        "colab": {
          "base_uri": "https://localhost:8080/"
        },
        "id": "2mIv37spLtyQ",
        "outputId": "54d6686a-a486-4fc8-efd4-81924f835fe9"
      },
      "source": [
        "# import the python package statsmodels for Quantile Regression\n",
        "#\n",
        "import statsmodels.formula.api as smf\n",
        "\n",
        "# Finding the regression coefficients for the conditioned median, 0.4 quantile\n",
        "#\n",
        "mod = smf.quantreg('y ~ X', house_df)\n",
        "res = mod.fit(q=.4)\n",
        "\n",
        "# Then print out the summary of our model\n",
        "#\n",
        "print(res.summary())\n",
        "\n",
        "# You see that our intercept is -1.018e+06.\n",
        "# These are the parameters for the 0.4th quantile of our y. "
      ],
      "execution_count": 78,
      "outputs": [
        {
          "output_type": "stream",
          "text": [
            "                         QuantReg Regression Results                          \n",
            "==============================================================================\n",
            "Dep. Variable:                      y   Pseudo R-squared:               0.2914\n",
            "Model:                       QuantReg   Bandwidth:                   3.745e+04\n",
            "Method:                 Least Squares   Sparsity:                    3.566e+05\n",
            "Date:                Fri, 16 Apr 2021   No. Observations:                 5434\n",
            "Time:                        08:39:21   Df Residuals:                     5423\n",
            "                                        Df Model:                           10\n",
            "==============================================================================\n",
            "                 coef    std err          t      P>|t|      [0.025      0.975]\n",
            "------------------------------------------------------------------------------\n",
            "Intercept  -1.018e+06   3.02e+04    -33.727      0.000   -1.08e+06   -9.59e+05\n",
            "X[0]       -1.333e+04   2781.468     -4.794      0.000   -1.88e+04   -7881.005\n",
            "X[1]        3.399e+04   5449.405      6.237      0.000    2.33e+04    4.47e+04\n",
            "X[2]          82.8783      7.872     10.528      0.000      67.446      98.311\n",
            "X[3]          -4.3308      0.479     -9.041      0.000      -5.270      -3.392\n",
            "X[4]        5.915e+04   7754.913      7.628      0.000    4.39e+04    7.44e+04\n",
            "X[5]        3.495e+04   3.37e+04      1.036      0.300   -3.12e+04    1.01e+05\n",
            "X[6]        7.309e+04   3565.037     20.502      0.000    6.61e+04    8.01e+04\n",
            "X[7]        2.128e+04   3599.199      5.913      0.000    1.42e+04    2.83e+04\n",
            "X[8]        1.326e+05   4058.057     32.678      0.000    1.25e+05    1.41e+05\n",
            "X[9]        3168.8740    111.049     28.536      0.000    2951.172    3386.576\n",
            "==============================================================================\n",
            "\n",
            "The condition number is large, 1.43e+05. This might indicate that there are\n",
            "strong multicollinearity or other numerical problems.\n"
          ],
          "name": "stdout"
        },
        {
          "output_type": "stream",
          "text": [
            "/usr/local/lib/python3.7/dist-packages/statsmodels/regression/quantile_regression.py:192: IterationLimitWarning: Maximum number of iterations (1000) reached.\n",
            "  \") reached.\", IterationLimitWarning)\n"
          ],
          "name": "stderr"
        }
      ]
    },
    {
      "cell_type": "code",
      "metadata": {
        "colab": {
          "base_uri": "https://localhost:8080/"
        },
        "id": "aNyJxGuL72rZ",
        "outputId": "4d1b26e8-4f7e-4469-a360-86bc1a06ec63"
      },
      "source": [
        "# Import python package statsmodels for Quantile Regression\n",
        "#\n",
        "import statsmodels.formula.api as smf\n",
        "\n",
        "# Finding the regression coefficients for the conditioned median, 0.5 quantile\n",
        "#\n",
        "mod = smf.quantreg('y ~ X', house_df)\n",
        "res = mod.fit(q=.5)\n",
        "\n",
        "# Then print out the summary of the model\n",
        "#\n",
        "print(res.summary())\n",
        "\n",
        "# You see that our intercept is -9.698e+05\n",
        "# These are the parameters for the 0.5th quantile of our y. "
      ],
      "execution_count": 79,
      "outputs": [
        {
          "output_type": "stream",
          "text": [
            "                         QuantReg Regression Results                          \n",
            "==============================================================================\n",
            "Dep. Variable:                      y   Pseudo R-squared:               0.3278\n",
            "Model:                       QuantReg   Bandwidth:                   3.811e+04\n",
            "Method:                 Least Squares   Sparsity:                    3.618e+05\n",
            "Date:                Fri, 16 Apr 2021   No. Observations:                 5434\n",
            "Time:                        08:39:22   Df Residuals:                     5423\n",
            "                                        Df Model:                           10\n",
            "==============================================================================\n",
            "                 coef    std err          t      P>|t|      [0.025      0.975]\n",
            "------------------------------------------------------------------------------\n",
            "Intercept  -9.698e+05   3.14e+04    -30.855      0.000   -1.03e+06   -9.08e+05\n",
            "X[0]       -1.396e+04   2972.844     -4.696      0.000   -1.98e+04   -8132.727\n",
            "X[1]        2.552e+04   5515.807      4.626      0.000    1.47e+04    3.63e+04\n",
            "X[2]         108.1905      8.041     13.455      0.000      92.427     123.954\n",
            "X[3]          -4.7284      0.507     -9.331      0.000      -5.722      -3.735\n",
            "X[4]        5.405e+04   7967.551      6.784      0.000    3.84e+04    6.97e+04\n",
            "X[5]        2.553e+05   3.49e+04      7.322      0.000    1.87e+05    3.24e+05\n",
            "X[6]        3.423e+04   3408.476     10.043      0.000    2.76e+04    4.09e+04\n",
            "X[7]         2.02e+04   3675.375      5.495      0.000     1.3e+04    2.74e+04\n",
            "X[8]        1.292e+05   4160.430     31.060      0.000    1.21e+05    1.37e+05\n",
            "X[9]        3080.2877    113.149     27.223      0.000    2858.470    3302.106\n",
            "==============================================================================\n",
            "\n",
            "The condition number is large, 1.43e+05. This might indicate that there are\n",
            "strong multicollinearity or other numerical problems.\n"
          ],
          "name": "stdout"
        },
        {
          "output_type": "stream",
          "text": [
            "/usr/local/lib/python3.7/dist-packages/statsmodels/regression/quantile_regression.py:192: IterationLimitWarning: Maximum number of iterations (1000) reached.\n",
            "  \") reached.\", IterationLimitWarning)\n"
          ],
          "name": "stderr"
        }
      ]
    },
    {
      "cell_type": "code",
      "metadata": {
        "colab": {
          "base_uri": "https://localhost:8080/"
        },
        "id": "caMiuef_yb8w",
        "outputId": "fb38fab4-4d09-433a-8902-5863ae7e1691"
      },
      "source": [
        "# Import python package statsmodels for Quantile Regression\n",
        "#\n",
        "import statsmodels.formula.api as smf\n",
        "\n",
        "# Finding the regression coefficients for the conditioned median, 0.6 quantile\n",
        "#\n",
        "mod = smf.quantreg('y ~ X', house_df)\n",
        "res = mod.fit(q=.6)\n",
        "\n",
        "# Then print out the summary of the model\n",
        "#\n",
        "print(res.summary())\n",
        "\n",
        "# You see that our intercept is -1.012e+06\n",
        "# These are the parameters for the 0.6th quantile of our y. "
      ],
      "execution_count": 80,
      "outputs": [
        {
          "output_type": "stream",
          "text": [
            "                         QuantReg Regression Results                          \n",
            "==============================================================================\n",
            "Dep. Variable:                      y   Pseudo R-squared:               0.3489\n",
            "Model:                       QuantReg   Bandwidth:                   3.685e+04\n",
            "Method:                 Least Squares   Sparsity:                    3.663e+05\n",
            "Date:                Fri, 16 Apr 2021   No. Observations:                 5434\n",
            "Time:                        08:39:23   Df Residuals:                     5423\n",
            "                                        Df Model:                           10\n",
            "==============================================================================\n",
            "                 coef    std err          t      P>|t|      [0.025      0.975]\n",
            "------------------------------------------------------------------------------\n",
            "Intercept  -1.012e+06   3.17e+04    -31.928      0.000   -1.07e+06    -9.5e+05\n",
            "X[0]       -8354.7064   3111.721     -2.685      0.007   -1.45e+04   -2254.483\n",
            "X[1]        2.522e+04   5404.319      4.667      0.000    1.46e+04    3.58e+04\n",
            "X[2]          95.6967      7.980     11.991      0.000      80.052     111.341\n",
            "X[3]          -4.0710      0.521     -7.819      0.000      -5.092      -3.050\n",
            "X[4]        6.123e+04   7951.349      7.700      0.000    4.56e+04    7.68e+04\n",
            "X[5]        3.077e+05    3.5e+04      8.801      0.000    2.39e+05    3.76e+05\n",
            "X[6]        3.331e+04   3380.557      9.854      0.000    2.67e+04    3.99e+04\n",
            "X[7]        2.219e+04   3639.399      6.097      0.000    1.51e+04    2.93e+04\n",
            "X[8]        1.377e+05   4144.783     33.225      0.000     1.3e+05    1.46e+05\n",
            "X[9]        3095.1246    111.509     27.757      0.000    2876.522    3313.727\n",
            "==============================================================================\n",
            "\n",
            "The condition number is large, 1.43e+05. This might indicate that there are\n",
            "strong multicollinearity or other numerical problems.\n"
          ],
          "name": "stdout"
        },
        {
          "output_type": "stream",
          "text": [
            "/usr/local/lib/python3.7/dist-packages/statsmodels/regression/quantile_regression.py:192: IterationLimitWarning: Maximum number of iterations (1000) reached.\n",
            "  \") reached.\", IterationLimitWarning)\n"
          ],
          "name": "stderr"
        }
      ]
    },
    {
      "cell_type": "code",
      "metadata": {
        "colab": {
          "base_uri": "https://localhost:8080/"
        },
        "id": "Kmf0lQGvytTL",
        "outputId": "54bddac7-3859-4b5d-fbed-5f589152803c"
      },
      "source": [
        "# Import python package statsmodels for Quantile Regression\n",
        "#\n",
        "import statsmodels.formula.api as smf\n",
        "\n",
        "# Finding the regression coefficients for the conditioned median, 0.7 quantile\n",
        "#\n",
        "mod = smf.quantreg('y ~ X', house_df)\n",
        "res = mod.fit(q=.7)\n",
        "\n",
        "# Then print out the summary of the model\n",
        "#\n",
        "print(res.summary())\n",
        "\n",
        "# You see that our intercept is -7.529e+05\n",
        "# These are the parameters for the 0.7th quantile of our y. "
      ],
      "execution_count": 81,
      "outputs": [
        {
          "output_type": "stream",
          "text": [
            "                         QuantReg Regression Results                          \n",
            "==============================================================================\n",
            "Dep. Variable:                      y   Pseudo R-squared:               0.3642\n",
            "Model:                       QuantReg   Bandwidth:                   3.527e+04\n",
            "Method:                 Least Squares   Sparsity:                    4.051e+05\n",
            "Date:                Fri, 16 Apr 2021   No. Observations:                 5434\n",
            "Time:                        08:39:24   Df Residuals:                     5423\n",
            "                                        Df Model:                           10\n",
            "==============================================================================\n",
            "                 coef    std err          t      P>|t|      [0.025      0.975]\n",
            "------------------------------------------------------------------------------\n",
            "Intercept  -7.529e+05   3.37e+04    -22.346      0.000   -8.19e+05   -6.87e+05\n",
            "X[0]       -1.737e+04   3489.876     -4.977      0.000   -2.42e+04   -1.05e+04\n",
            "X[1]        2.945e+04   5501.900      5.352      0.000    1.87e+04    4.02e+04\n",
            "X[2]         125.9209      8.262     15.240      0.000     109.723     142.118\n",
            "X[3]          -5.4904      0.580     -9.460      0.000      -6.628      -4.353\n",
            "X[4]        4.722e+04   8382.273      5.634      0.000    3.08e+04    6.37e+04\n",
            "X[5]        3.204e+05   3.57e+04      8.971      0.000     2.5e+05     3.9e+05\n",
            "X[6]        4.205e+04   3547.545     11.852      0.000    3.51e+04     4.9e+04\n",
            "X[7]        4164.6420   3796.892      1.097      0.273   -3278.791    1.16e+04\n",
            "X[8]        1.156e+05   4338.305     26.654      0.000    1.07e+05    1.24e+05\n",
            "X[9]        3069.5318    114.277     26.861      0.000    2845.504    3293.560\n",
            "==============================================================================\n",
            "\n",
            "The condition number is large, 1.43e+05. This might indicate that there are\n",
            "strong multicollinearity or other numerical problems.\n"
          ],
          "name": "stdout"
        },
        {
          "output_type": "stream",
          "text": [
            "/usr/local/lib/python3.7/dist-packages/statsmodels/regression/quantile_regression.py:192: IterationLimitWarning: Maximum number of iterations (1000) reached.\n",
            "  \") reached.\", IterationLimitWarning)\n"
          ],
          "name": "stderr"
        }
      ]
    },
    {
      "cell_type": "code",
      "metadata": {
        "colab": {
          "base_uri": "https://localhost:8080/"
        },
        "id": "n85-ayKny_Yc",
        "outputId": "26f3460c-f984-4b7d-c879-54d0c7ecce8c"
      },
      "source": [
        "# Import python package statsmodels for Quantile Regression\n",
        "#\n",
        "import statsmodels.formula.api as smf\n",
        "\n",
        "# Finding the regression coefficients for the conditioned median, 0.8 quantile\n",
        "#\n",
        "mod = smf.quantreg('y ~ X', house_df)\n",
        "res = mod.fit(q=.8)\n",
        "\n",
        "# Then print out the summary of the model\n",
        "#\n",
        "print(res.summary())\n",
        "\n",
        "# You see that our intercept is -7.556e+05\n",
        "# These are the parameters for the 0.8th quantile of our y. "
      ],
      "execution_count": 82,
      "outputs": [
        {
          "output_type": "stream",
          "text": [
            "                         QuantReg Regression Results                          \n",
            "==============================================================================\n",
            "Dep. Variable:                      y   Pseudo R-squared:               0.3852\n",
            "Model:                       QuantReg   Bandwidth:                   3.285e+04\n",
            "Method:                 Least Squares   Sparsity:                    4.955e+05\n",
            "Date:                Fri, 16 Apr 2021   No. Observations:                 5434\n",
            "Time:                        08:39:26   Df Residuals:                     5423\n",
            "                                        Df Model:                           10\n",
            "==============================================================================\n",
            "                 coef    std err          t      P>|t|      [0.025      0.975]\n",
            "------------------------------------------------------------------------------\n",
            "Intercept  -7.556e+05    3.9e+04    -19.379      0.000   -8.32e+05   -6.79e+05\n",
            "X[0]       -1.127e+04   4258.414     -2.647      0.008   -1.96e+04   -2922.878\n",
            "X[1]        2.616e+04   6030.031      4.337      0.000    1.43e+04     3.8e+04\n",
            "X[2]         133.5959      9.276     14.403      0.000     115.412     151.780\n",
            "X[3]          -4.3688      0.640     -6.831      0.000      -5.622      -3.115\n",
            "X[4]        5.686e+04   9250.956      6.146      0.000    3.87e+04     7.5e+04\n",
            "X[5]        3.928e+05   4.05e+04      9.694      0.000    3.13e+05    4.72e+05\n",
            "X[6]        4.563e+04   4038.308     11.298      0.000    3.77e+04    5.35e+04\n",
            "X[7]         1.72e+04   4135.863      4.158      0.000    9090.041    2.53e+04\n",
            "X[8]        1.082e+05   4931.588     21.935      0.000    9.85e+04    1.18e+05\n",
            "X[9]        3048.6189    125.357     24.320      0.000    2802.870    3294.368\n",
            "==============================================================================\n",
            "\n",
            "The condition number is large, 1.43e+05. This might indicate that there are\n",
            "strong multicollinearity or other numerical problems.\n"
          ],
          "name": "stdout"
        },
        {
          "output_type": "stream",
          "text": [
            "/usr/local/lib/python3.7/dist-packages/statsmodels/regression/quantile_regression.py:192: IterationLimitWarning: Maximum number of iterations (1000) reached.\n",
            "  \") reached.\", IterationLimitWarning)\n"
          ],
          "name": "stderr"
        }
      ]
    },
    {
      "cell_type": "code",
      "metadata": {
        "colab": {
          "base_uri": "https://localhost:8080/"
        },
        "id": "KbVGh1PB0S1S",
        "outputId": "f462c59e-c608-47c2-f28a-1078546b22c9"
      },
      "source": [
        "# Import python package statsmodels for Quantile Regression\n",
        "#\n",
        "import statsmodels.formula.api as smf\n",
        "\n",
        "# Finding the regression coefficients for the conditioned median, 0.9 quantile\n",
        "#\n",
        "mod = smf.quantreg('y ~ X', house_df)\n",
        "res = mod.fit(q=.9)\n",
        "\n",
        "# Then print out the summary of the model\n",
        "#\n",
        "print(res.summary())\n",
        "\n",
        "# You see that our intercept is -1.053e+06\n",
        "# These are the parameters for the 0.9th quantile of our y. "
      ],
      "execution_count": 83,
      "outputs": [
        {
          "output_type": "stream",
          "text": [
            "                         QuantReg Regression Results                          \n",
            "==============================================================================\n",
            "Dep. Variable:                      y   Pseudo R-squared:               0.4227\n",
            "Model:                       QuantReg   Bandwidth:                   3.333e+04\n",
            "Method:                 Least Squares   Sparsity:                    9.046e+05\n",
            "Date:                Fri, 16 Apr 2021   No. Observations:                 5434\n",
            "Time:                        08:39:27   Df Residuals:                     5423\n",
            "                                        Df Model:                           10\n",
            "==============================================================================\n",
            "                 coef    std err          t      P>|t|      [0.025      0.975]\n",
            "------------------------------------------------------------------------------\n",
            "Intercept  -1.053e+06   5.56e+04    -18.943      0.000   -1.16e+06   -9.44e+05\n",
            "X[0]       -8263.3446   7542.297     -1.096      0.273    -2.3e+04    6522.587\n",
            "X[1]         2.31e+04   8375.415      2.758      0.006    6677.307    3.95e+04\n",
            "X[2]         165.4936     13.340     12.406      0.000     139.342     191.646\n",
            "X[3]          -2.9230      0.858     -3.408      0.001      -4.604      -1.242\n",
            "X[4]        8.565e+04    1.2e+04      7.154      0.000    6.22e+04    1.09e+05\n",
            "X[5]        2.676e+05   5.35e+04      5.004      0.000    1.63e+05    3.72e+05\n",
            "X[6]        5.476e+04   5197.171     10.537      0.000    4.46e+04     6.5e+04\n",
            "X[7]        3814.7750   5630.433      0.678      0.498   -7223.135    1.49e+04\n",
            "X[8]        1.439e+05   6606.835     21.781      0.000    1.31e+05    1.57e+05\n",
            "X[9]        3704.9542    168.654     21.968      0.000    3374.325    4035.584\n",
            "==============================================================================\n",
            "\n",
            "The condition number is large, 1.43e+05. This might indicate that there are\n",
            "strong multicollinearity or other numerical problems.\n"
          ],
          "name": "stdout"
        },
        {
          "output_type": "stream",
          "text": [
            "/usr/local/lib/python3.7/dist-packages/statsmodels/regression/quantile_regression.py:192: IterationLimitWarning: Maximum number of iterations (1000) reached.\n",
            "  \") reached.\", IterationLimitWarning)\n"
          ],
          "name": "stderr"
        }
      ]
    },
    {
      "cell_type": "markdown",
      "metadata": {
        "id": "tfxMIU5_nLqb"
      },
      "source": [
        "#### Ridge regression"
      ]
    },
    {
      "cell_type": "code",
      "metadata": {
        "id": "mnbuNCI72SYr"
      },
      "source": [
        "# In order to create our ridge model, determine the most appropriate value for the l2 regularization. \n",
        "# L2 is the name of the hyperparameter that is used in ridge regression. \n",
        "# Determining the value of a hyperparameter requires the use of a grid. \n",
        "# First create the ridge model and indicate normalization in order to get better estimates. \n",
        "# Next, setup the grid that will be used. \n",
        "# The search object has several arguments within it. \n",
        "# Alpha is the hyperparameter trying to be set. \n",
        "# The log space is the range of values that should be tested. \n",
        "# Use log of -5 to 2 to only get 8 values from within that range evenly spread out. \n",
        "# The metric is the mean squared error. Refit set true means to adjust the parameters while modeling \n",
        "# and cv is the number of folds to develop for the cross-validation. \n",
        "#\n",
        "from sklearn.linear_model import Ridge\n",
        "ridge = Ridge(normalize=True)\n",
        "search = GridSearchCV(estimator=ridge, param_grid={'alpha':np.logspace(-5,2,8)}, scoring='neg_mean_squared_error',n_jobs=1, refit=True, cv=10)"
      ],
      "execution_count": 86,
      "outputs": []
    },
    {
      "cell_type": "code",
      "metadata": {
        "colab": {
          "base_uri": "https://localhost:8080/"
        },
        "id": "cY15rU3x3H7h",
        "outputId": "02338909-50bd-444b-d184-305bbb43388b"
      },
      "source": [
        "# using the .fit function to run the model and then use the .best_params_ and\n",
        "#  .best_scores_ function to determine the models strength. \n",
        "# \n",
        "search.fit(X,y)\n",
        "search.best_params_\n",
        "{'alpha': 0.01}\n",
        "abs(search.best_score_)\n",
        "\n",
        "# The best_params_ tells you what to set alpha too which in this case is 0.01. \n",
        "# The best_score_ tells us what the best possible mean squared error is. \n",
        "# In this case, the value of 24885868441.750652 is worse than what the baseline model was. "
      ],
      "execution_count": 90,
      "outputs": [
        {
          "output_type": "execute_result",
          "data": {
            "text/plain": [
              "24885868441.750652"
            ]
          },
          "metadata": {
            "tags": []
          },
          "execution_count": 90
        }
      ]
    },
    {
      "cell_type": "code",
      "metadata": {
        "colab": {
          "base_uri": "https://localhost:8080/"
        },
        "id": "FLKl2H0x3ln1",
        "outputId": "cc6669f5-3429-411c-b94c-8e2acc727927"
      },
      "source": [
        "# Confirm this by fitting the model with the ridge information and finding the mean squared error below\n",
        "#\n",
        "ridge = Ridge(normalize=True,alpha=0.01)\n",
        "ridge.fit(X,y)\n",
        "second_model = (mean_squared_error(y_true=y,y_pred=ridge.predict(X)))\n",
        "print(second_model)"
      ],
      "execution_count": 91,
      "outputs": [
        {
          "output_type": "stream",
          "text": [
            "24714245380.203487\n"
          ],
          "name": "stdout"
        }
      ]
    },
    {
      "cell_type": "code",
      "metadata": {
        "colab": {
          "base_uri": "https://localhost:8080/"
        },
        "id": "JYo-wZUL4LsZ",
        "outputId": "130b56f5-def3-4bf7-ab9a-a3ed14d6bf2f"
      },
      "source": [
        "# The MSE 24714245380.203487 is lower than the 24885868441.750652. This is because the last results is not cross-validated. \n",
        "# In addition, these results indicate that there is little difference between the ridge and baseline models. \n",
        "# This is confirmed with the coefficients of each model found below.\n",
        "# \n",
        "coef_dict_baseline = {}\n",
        "for coef, feat in zip(regression.coef_, house_df.columns):\n",
        "    coef_dict_baseline[feat] = coef\n",
        "coef_dict_baseline\n",
        "\n",
        "# The coefficient values are about the same. This means that the penalization made little difference with this dataset."
      ],
      "execution_count": null,
      "outputs": [
        {
          "output_type": "execute_result",
          "data": {
            "text/plain": [
              "{'bathrooms': 109.1816450585211,\n",
              " 'bedrooms': 19203.99773786263,\n",
              " 'condition': 137432.9305520094,\n",
              " 'floors': 189018.531415848,\n",
              " 'grade': 3093.3563502443944,\n",
              " 'price': -7054.903109850456,\n",
              " 'sqft_living': -3.6899801474373817,\n",
              " 'sqft_lot': 60771.09488732891,\n",
              " 'view': 20259.541691280443,\n",
              " 'waterfront': 34051.88725494668}"
            ]
          },
          "metadata": {
            "tags": []
          },
          "execution_count": 244
        }
      ]
    },
    {
      "cell_type": "code",
      "metadata": {
        "colab": {
          "base_uri": "https://localhost:8080/"
        },
        "id": "pK6ie_-7kAFY",
        "outputId": "d3470434-44cb-4df0-890c-fdbf7883b15c"
      },
      "source": [
        "# Making necessary imports, split data into training and test sets, and choose a set of parameters \n",
        "from sklearn.model_selection import train_test_split\n",
        "from sklearn.model_selection import GridSearchCV\n",
        "import warnings\n",
        "warnings.filterwarnings(\"ignore\")\n",
        "from sklearn import linear_model\n",
        "\n",
        "X_train, X_test, y_train, y_test = train_test_split(X, y, test_size=0.25, random_state=101)\n",
        "parameters = {'alpha': np.concatenate((np.arange(0.1,2,0.1), np.arange(2, 5, 0.5), np.arange(5, 25, 1)))}\n",
        "\n",
        "linear = linear_model.LinearRegression()\n",
        "ridge = linear_model.Ridge() \n",
        "gridridge = GridSearchCV(estimator=ridge, param_grid={'alpha':np.logspace(-5,2,8)}, scoring='neg_mean_squared_error',n_jobs=1, refit=True, cv=10) \n",
        "\n",
        "# Fitting models and print the best parameters, R-squared scores, MSE, and coefficients\n",
        "gridridge.fit(X_train, y_train) \n",
        "linear.fit(X_train, y_train) \n",
        "print(\"Ridge best parameters:\", gridridge.best_params_) \n",
        "print(\"Ridge score:\", gridridge.score(X_test, y_test))\n",
        "print(\"linear score:\", linear.score(X_test, y_test)) \n",
        "print(\"ridge MSE:\", mean_squared_error(y_test, gridridge.predict(X_test)))\n",
        "print(\"linear MSE:\", mean_squared_error(y_test, linear.predict(X_test))) \n",
        "print(\"ridge best estimator coef:\", gridridge.best_estimator_.coef_)\n",
        "print(\"linear coef:\", linear.coef_)"
      ],
      "execution_count": 94,
      "outputs": [
        {
          "output_type": "stream",
          "text": [
            "Ridge best parameters: {'alpha': 10.0}\n",
            "Ridge score: -25151705225.90365\n",
            "linear score: 0.5329747412159216\n",
            "ridge MSE: 25151705225.90365\n",
            "linear MSE: 25136287976.103767\n",
            "ridge best estimator coef: [-1.29833374e+04  2.31974128e+04  1.10860382e+02 -3.24129204e+00\n",
            "  6.00703846e+04  1.31712180e+05  3.52726220e+04  1.88727598e+04\n",
            "  1.37231280e+05  3.23134172e+03]\n",
            "linear coef: [-1.26330917e+04  2.30117689e+04  1.10343061e+02 -3.33205662e+00\n",
            "  6.03427612e+04  1.84668894e+05  3.33386742e+04  1.89785584e+04\n",
            "  1.37993229e+05  3.22824535e+03]\n"
          ],
          "name": "stdout"
        }
      ]
    },
    {
      "cell_type": "markdown",
      "metadata": {
        "id": "SrgxE6S4ZNpq"
      },
      "source": [
        "#### Lasso regression"
      ]
    },
    {
      "cell_type": "code",
      "metadata": {
        "id": "MQuT1UjHZRGI"
      },
      "source": [
        "# Loading the libraries\n",
        "#\n",
        "from sklearn.linear_model import Lasso\n",
        "from sklearn.preprocessing import StandardScaler"
      ],
      "execution_count": 95,
      "outputs": []
    },
    {
      "cell_type": "code",
      "metadata": {
        "id": "GOxSyjHbZpmb"
      },
      "source": [
        "# Standadizing the features\n",
        "#\n",
        "scaler = StandardScaler()\n",
        "X = scaler.fit_transform(X)"
      ],
      "execution_count": 96,
      "outputs": []
    },
    {
      "cell_type": "code",
      "metadata": {
        "colab": {
          "base_uri": "https://localhost:8080/"
        },
        "id": "zQwv-yz2Ztq4",
        "outputId": "7b1cc127-1435-45dd-ed95-13831f1594e1"
      },
      "source": [
        "from sklearn import linear_model\n",
        "from sklearn.metrics import mean_squared_error\n",
        "# Creating lasso object\n",
        "# \n",
        "lasso = linear_model.Lasso() \n",
        "# Fitting the models\n",
        "# \n",
        "lasso.fit(X, y) \n",
        "\n",
        "# Print scores, MSE, and coefficients\n",
        "# \n",
        "print(\"lasso score:\", lasso.score(X, y)) \n",
        "print(\"lasso MSE:\", mean_squared_error(y, lasso.predict(X))) \n",
        "print(\"lasso coef:\", lasso.coef_) "
      ],
      "execution_count": 97,
      "outputs": [
        {
          "output_type": "stream",
          "text": [
            "lasso score: 0.5557935475500944\n",
            "lasso MSE: 24711730108.97692\n",
            "lasso coef: [ -6504.50855684  12126.0391896   49880.11351606 -19758.99685391\n",
            "  23036.77003535  14235.02728182  27239.34040043  14297.75075301\n",
            " 106462.68709005  80438.20759419]\n"
          ],
          "name": "stdout"
        }
      ]
    },
    {
      "cell_type": "code",
      "metadata": {
        "colab": {
          "base_uri": "https://localhost:8080/"
        },
        "id": "Dhvq44lQhezb",
        "outputId": "61a9ebb7-b335-4ad3-9364-8336cccfc572"
      },
      "source": [
        "# Making necessary imports, split data into training and test sets, and choose a set of parameters \n",
        "from sklearn.model_selection import train_test_split\n",
        "from sklearn.model_selection import GridSearchCV\n",
        "import warnings\n",
        "warnings.filterwarnings(\"ignore\")\n",
        "\n",
        "X_train, X_test, y_train, y_test = train_test_split(X, y, test_size=0.25, random_state=101)\n",
        "parameters = {'alpha': np.concatenate((np.arange(0.1,2,0.1), np.arange(2, 5, 0.5), np.arange(5, 25, 1)))}\n",
        "\n",
        "linear = linear_model.LinearRegression()\n",
        "lasso = linear_model.Lasso() \n",
        "gridlasso = GridSearchCV(lasso, parameters, scoring ='r2') \n",
        "\n",
        "# Fitting models and print the best parameters, R-squared scores, MSE, and coefficients\n",
        "gridlasso.fit(X_train, y_train) \n",
        "linear.fit(X_train, y_train) \n",
        "print(\"lasso best parameters:\", gridlasso.best_params_) \n",
        "print(\"lasso score:\", gridlasso.score(X_test, y_test))\n",
        "print(\"linear score:\", linear.score(X_test, y_test)) \n",
        "print(\"lasso MSE:\", mean_squared_error(y_test, gridlasso.predict(X_test)))\n",
        "print(\"linear MSE:\", mean_squared_error(y_test, linear.predict(X_test))) \n",
        "print(\"lasso best estimator coef:\", gridlasso.best_estimator_.coef_)\n",
        "print(\"linear coef:\", linear.coef_)"
      ],
      "execution_count": 98,
      "outputs": [
        {
          "output_type": "stream",
          "text": [
            "lasso best parameters: {'alpha': 18.0}\n",
            "lasso score: 0.5330014579689486\n",
            "linear score: 0.532974741215924\n",
            "lasso MSE: 25134850023.90474\n",
            "linear MSE: 25136287976.10364\n",
            "lasso best estimator coef: [-11612.7194934   14509.93634558  50393.11512795 -17825.70114063\n",
            "  22877.84763396  13897.37710513  26663.7824698   13383.14697192\n",
            " 106890.18779972  83925.75685965]\n",
            "linear coef: [-11650.33405217  14531.98680834  50411.38451152 -17843.2803383\n",
            "  22874.21268262  13908.24862563  26669.13298776  13394.36668241\n",
            " 106897.23479246  83947.04550256]\n"
          ],
          "name": "stdout"
        }
      ]
    },
    {
      "cell_type": "markdown",
      "metadata": {
        "id": "XAVW-AvwoXGV"
      },
      "source": [
        "#### Elastic Net regression"
      ]
    },
    {
      "cell_type": "code",
      "metadata": {
        "id": "phHijjfhoWRR"
      },
      "source": [
        "# Importing necessary models\n",
        "from sklearn.model_selection import GridSearchCV\n",
        "from sklearn.linear_model import ElasticNet\n",
        "from sklearn.linear_model import LinearRegression\n",
        "from sklearn.metrics import mean_squared_error"
      ],
      "execution_count": 99,
      "outputs": []
    },
    {
      "cell_type": "code",
      "metadata": {
        "colab": {
          "base_uri": "https://localhost:8080/"
        },
        "id": "r0oogv3qrgdF",
        "outputId": "3acbe32c-dba7-4e85-db05-49ab98f726b3"
      },
      "source": [
        "# Creating the linear regression model for the purpose of comparison\n",
        "# \n",
        "regression=LinearRegression()\n",
        "regression.fit(X,y)\n",
        "first_model=(mean_squared_error(y_true=y,y_pred=regression.predict(X)))\n",
        "print(first_model) \n",
        "\n",
        "# This mean standard error score of 24711730101.189957 is the benchmark for determining \n",
        "# if the elastic net model will be better or worst. "
      ],
      "execution_count": 100,
      "outputs": [
        {
          "output_type": "stream",
          "text": [
            "24711730101.189957\n"
          ],
          "name": "stdout"
        }
      ]
    },
    {
      "cell_type": "code",
      "metadata": {
        "colab": {
          "base_uri": "https://localhost:8080/"
        },
        "id": "yiNtdH3frrMw",
        "outputId": "5f16d68e-6834-4dd7-e253-c2c844dfea76"
      },
      "source": [
        "# Below are the coefficients of this first model. Use a for loop to go through \n",
        "# the model and the zip function to combine the two columns.\n",
        "# \n",
        "coef_dict_baseline = {}\n",
        "for coef, feat in zip(regression.coef_, house_df.columns):\n",
        "    coef_dict_baseline[feat] = coef\n",
        "coef_dict_baseline"
      ],
      "execution_count": 101,
      "outputs": [
        {
          "output_type": "execute_result",
          "data": {
            "text/plain": [
              "{'bathrooms': 49880.779495903786,\n",
              " 'bedrooms': 12127.370257062015,\n",
              " 'condition': 106463.19679306191,\n",
              " 'floors': 14235.839441641961,\n",
              " 'grade': 80439.40217239114,\n",
              " 'price': -6506.085765907843,\n",
              " 'sqft_living': -19759.97339062232,\n",
              " 'sqft_lot': 23036.581725197546,\n",
              " 'view': 14298.437439243027,\n",
              " 'waterfront': 27239.664748329382}"
            ]
          },
          "metadata": {
            "tags": []
          },
          "execution_count": 101
        }
      ]
    },
    {
      "cell_type": "code",
      "metadata": {
        "id": "jUz-_d1gsoDj"
      },
      "source": [
        "# Elastic Net Model\n",
        "# Elastic net, just like ridge and lasso regression, requires normalize data. \n",
        "# This argument  is set inside the ElasticNet function. \n",
        "# The second thing we need to do is create our grid.\n",
        "# \n",
        "elastic=ElasticNet(normalize=True)\n",
        "search=GridSearchCV(estimator=elastic,param_grid={'alpha':np.logspace(-5,2,8),'l1_ratio':[.2,.4,.6,.8]},scoring='neg_mean_squared_error',n_jobs=1,refit=True,cv=10)"
      ],
      "execution_count": 102,
      "outputs": []
    },
    {
      "cell_type": "code",
      "metadata": {
        "colab": {
          "base_uri": "https://localhost:8080/"
        },
        "id": "Po4WDptAs1AD",
        "outputId": "2c61156b-83ca-4f91-882a-fc52d32587b1"
      },
      "source": [
        "# We will now fit our model and display the best parameters and the best results we can get with that setup.\n",
        "# \n",
        "search.fit(X,y)\n",
        "search.best_params_\n",
        "abs(search.best_score_)"
      ],
      "execution_count": 103,
      "outputs": [
        {
          "output_type": "execute_result",
          "data": {
            "text/plain": [
              "24885820539.163475"
            ]
          },
          "metadata": {
            "tags": []
          },
          "execution_count": 103
        }
      ]
    },
    {
      "cell_type": "code",
      "metadata": {
        "colab": {
          "base_uri": "https://localhost:8080/"
        },
        "id": "pbGBX44NvSi5",
        "outputId": "dad1bd98-5c07-4685-9fa3-49bf996d6659"
      },
      "source": [
        "# The best hyperparameters was an alpha set to 0.0001 and a l1_ratio of 0.95. \n",
        "# With these settings we got an MSE of 24729301190.12902. This is above our baseline model of MSE 24711730101.189957  for the baseline model. \n",
        "# Which means that elastic net is doing worse than linear regression. \n",
        "# \n",
        "elastic=ElasticNet(normalize=True,alpha=0.0001,l1_ratio=0.95)\n",
        "elastic.fit(X,y)\n",
        "second_model=(mean_squared_error(y_true=y,y_pred=elastic.predict(X)))\n",
        "print(second_model)"
      ],
      "execution_count": 105,
      "outputs": [
        {
          "output_type": "stream",
          "text": [
            "24729301190.12902\n"
          ],
          "name": "stdout"
        }
      ]
    },
    {
      "cell_type": "code",
      "metadata": {
        "colab": {
          "base_uri": "https://localhost:8080/"
        },
        "id": "1ZkUPhNhvplY",
        "outputId": "97f53158-ed61-4e27-9a7d-3169d783fc85"
      },
      "source": [
        "# Below are the coefficients\n",
        "# \n",
        "coef_dict_baseline = {}\n",
        "for coef, feat in zip(elastic.coef_,house_df.columns):\n",
        "    coef_dict_baseline[feat] = coef\n",
        "coef_dict_baseline"
      ],
      "execution_count": null,
      "outputs": [
        {
          "output_type": "execute_result",
          "data": {
            "text/plain": [
              "{'bathrooms': 49762.08866269774,\n",
              " 'bedrooms': 11973.536009565125,\n",
              " 'condition': 102393.49879079175,\n",
              " 'floors': 14013.721264018557,\n",
              " 'grade': 77188.8209602258,\n",
              " 'price': -6147.020238034968,\n",
              " 'sqft_living': -19246.885340120258,\n",
              " 'sqft_lot': 24132.133933215715,\n",
              " 'view': 14658.290761690958,\n",
              " 'waterfront': 27678.359041047544}"
            ]
          },
          "metadata": {
            "tags": []
          },
          "execution_count": 296
        }
      ]
    },
    {
      "cell_type": "code",
      "metadata": {
        "id": "dDbrADj7Fmvd"
      },
      "source": [
        "# Standadizing the features\n",
        "#\n",
        "scaler = StandardScaler()\n",
        "X = scaler.fit_transform(X)"
      ],
      "execution_count": 106,
      "outputs": []
    },
    {
      "cell_type": "code",
      "metadata": {
        "colab": {
          "base_uri": "https://localhost:8080/"
        },
        "id": "8VZ0lrlHFL6j",
        "outputId": "1f1a29d4-41ee-48db-faf3-9cc7ea2c35c4"
      },
      "source": [
        "from sklearn import linear_model\n",
        "from sklearn.metrics import mean_squared_error\n",
        "# Creating lasso object\n",
        "# \n",
        "elastic = linear_model.ElasticNet() \n",
        "# Fitting the models\n",
        "# \n",
        "elastic.fit(X, y) \n",
        "\n",
        "# Print scores, MSE, and coefficients\n",
        "# \n",
        "print(\"elastic score:\", elastic.score(X, y)) \n",
        "print(\"elastic MSE:\", mean_squared_error(y, elastic.predict(X))) \n",
        "print(\"elastic coef:\", elastic.coef_) "
      ],
      "execution_count": 107,
      "outputs": [
        {
          "output_type": "stream",
          "text": [
            "elastic score: 0.5152851308150185\n",
            "elastic MSE: 26965261222.670162\n",
            "elastic coef: [ -1615.86721744  13013.03599794  42258.50127051 -13605.05522788\n",
            "  28550.05493457  11797.42638587  27423.87270856  14984.90733469\n",
            "  65764.2813559   46959.47676236]\n"
          ],
          "name": "stdout"
        }
      ]
    },
    {
      "cell_type": "markdown",
      "metadata": {
        "id": "fbSV5GCV7p3N"
      },
      "source": [
        "Lasso regression performed better than the rest of the regression methods. This is because of its dimensionality reduction capabilities. This helps in reducing multicolinearity."
      ]
    },
    {
      "cell_type": "markdown",
      "metadata": {
        "id": "xrmHVMVsVS--"
      },
      "source": [
        "## 8. Follow up questions"
      ]
    },
    {
      "cell_type": "markdown",
      "metadata": {
        "id": "HPQviDmNtta8"
      },
      "source": [
        "### a). Did we have the right data?"
      ]
    },
    {
      "cell_type": "markdown",
      "metadata": {
        "id": "8vo0ljNYmG-b"
      },
      "source": [
        "The data available was not sufficient to meet the requirements of the question"
      ]
    },
    {
      "cell_type": "markdown",
      "metadata": {
        "id": "qjFHK1CKty7o"
      },
      "source": [
        "### b). Do we need other data to answer our question?"
      ]
    },
    {
      "cell_type": "markdown",
      "metadata": {
        "id": "0-HszZNkmRms"
      },
      "source": [
        "More data is required to answer the question. This data should have less multicolinearity so that we can increase the accuracy of the model."
      ]
    },
    {
      "cell_type": "markdown",
      "metadata": {
        "id": "HSsicSdvt4Zs"
      },
      "source": [
        "### c). Did we have the right question?"
      ]
    },
    {
      "cell_type": "markdown",
      "metadata": {
        "id": "MsyrZn1Gmaky"
      },
      "source": [
        "We did have the right questions."
      ]
    }
  ]
}